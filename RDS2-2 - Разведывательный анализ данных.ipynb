{
 "cells": [
  {
   "cell_type": "markdown",
   "metadata": {},
   "source": [
    "### Цели и задачи проекта\n",
    "Вас пригласили поучаствовать в одном из проектов UNICEF — международного подразделения ООН, чья миссия состоит в повышении уровня благополучия детей по всему миру. \n",
    "\n",
    "Суть проекта — отследить влияние условий жизни учащихся в возрасте от 15 до 22 лет на их успеваемость по математике, чтобы на ранней стадии выявлять студентов, находящихся в группе риска. Для этого необходимо построить модель, которая предсказывала бы результаты госэкзамена по математике для каждого ученика школы.\n",
    "### Описание датасета\n",
    "Переменные, которые содержит датасет:\n",
    "1. school — аббревиатура школы, в которой учится ученик\n",
    "2. sex — пол ученика ('F' - женский, 'M' - мужской)\n",
    "3. age — возраст ученика (от 15 до 22)\n",
    "4. address — тип адреса ученика ('U' - городской, 'R' - за городом)\n",
    "5. famsize — размер семьи('LE3' <= 3, 'GT3' >3)\n",
    "6. Pstatus — статус совместного жилья родителей ('T' - живут вместе 'A' - раздельно)\n",
    "7. Medu — образование матери (0 - нет, 1 - 4 класса, 2 - 5-9 классы, 3 - среднее специальное или 11 классов, 4 - высшее)\n",
    "8. Fedu — образование отца (0 - нет, 1 - 4 класса, 2 - 5-9 классы, 3 - среднее специальное или 11 классов, 4 - высшее)\n",
    "9. Mjob — работа матери ('teacher' - учитель, 'health' - сфера здравоохранения, 'services' - гос служба, 'at_home' - не работает, 'other' - другое)\n",
    "10. Fjob — работа отца ('teacher' - учитель, 'health' - сфера здравоохранения, 'services' - гос служба, 'at_home' - не работает, 'other' - другое)\n",
    "11. reason — причина выбора школы ('home' - близость к дому, 'reputation' - репутация школы, 'course' - образовательная программа, 'other' - другое)\n",
    "12. guardian — опекун ('mother' - мать, 'father' - отец, 'other' - другое)\n",
    "13. traveltime — время в пути до школы (1 - <15 мин., 2 - 15-30 мин., 3 - 30-60 мин., 4 - >60 мин.)\n",
    "14. studytime — время на учёбу помимо школы в неделю (1 - <2 часов, 2 - 2-5 часов, 3 - 5-10 часов, 4 - >10 часов)\n",
    "15. failures — количество внеучебных неудач (n, если 0<=n<=3, иначе 4)\n",
    "16. schoolsup — дополнительная образовательная поддержка (yes или no)\n",
    "17. famsup — семейная образовательная поддержка (yes или no)\n",
    "18. paid — дополнительные платные занятия по математике (yes или no)\n",
    "19. activities — дополнительные внеучебные занятия (yes или no)\n",
    "20. nursery — посещал детский сад (yes или no)\n",
    "21. studytime_granular — \n",
    "22. higher — хочет получить высшее образование (yes или no)\n",
    "23. internet — наличие интернета дома (yes или no)\n",
    "24. romantic — в романтических отношениях (yes или no)\n",
    "25. famrel — семейные отношения (от 1 - очень плохо до 5 - очень хорошо)\n",
    "26. freetime — свободное время после школы (от 1 - очень мало до 5 - очень много)\n",
    "27. goout — проведение времени с друзьями (от 1 - очень мало до 5 - очень много)\n",
    "28. health — текущее состояние здоровья (от 1 - очень плохо до 5 - очень хорошо)\n",
    "29. absences — количество пропущенных занятий\n",
    "30. score — баллы по госэкзамену по математике\n"
   ]
  },
  {
   "cell_type": "markdown",
   "metadata": {},
   "source": [
    "### Первичная обработка датасета"
   ]
  },
  {
   "cell_type": "markdown",
   "metadata": {},
   "source": [
    "Импортируем библиотеки"
   ]
  },
  {
   "cell_type": "code",
   "execution_count": 201,
   "metadata": {
    "slideshow": {
     "slide_type": "-"
    }
   },
   "outputs": [],
   "source": [
    "from itertools import combinations\n",
    "\n",
    "import numpy as np\n",
    "import pandas as pd\n",
    "import matplotlib.pyplot as plt\n",
    "import seaborn as sns\n",
    "from scipy.stats import ttest_ind"
   ]
  },
  {
   "cell_type": "markdown",
   "metadata": {},
   "source": [
    "Читаем данные из файла"
   ]
  },
  {
   "cell_type": "code",
   "execution_count": 202,
   "metadata": {},
   "outputs": [],
   "source": [
    "data = pd.read_csv('stud_math.xls')"
   ]
  },
  {
   "cell_type": "markdown",
   "metadata": {},
   "source": [
    "Проверяем названия столбцов. Переименовываем при необходимости."
   ]
  },
  {
   "cell_type": "code",
   "execution_count": 203,
   "metadata": {},
   "outputs": [
    {
     "data": {
      "text/plain": [
       "Index(['school', 'sex', 'age', 'address', 'famsize', 'Pstatus', 'Medu', 'Fedu',\n",
       "       'Mjob', 'Fjob', 'reason', 'guardian', 'traveltime', 'studytime',\n",
       "       'failures', 'schoolsup', 'famsup', 'paid', 'activities', 'nursery',\n",
       "       'studytime, granular', 'higher', 'internet', 'romantic', 'famrel',\n",
       "       'freetime', 'goout', 'health', 'absences', 'score'],\n",
       "      dtype='object')"
      ]
     },
     "execution_count": 203,
     "metadata": {},
     "output_type": "execute_result"
    }
   ],
   "source": [
    "data.columns"
   ]
  },
  {
   "cell_type": "code",
   "execution_count": 204,
   "metadata": {},
   "outputs": [],
   "source": [
    "data.rename(columns={'studytime, granular': 'studytime_granular'}, inplace=True)"
   ]
  },
  {
   "cell_type": "markdown",
   "metadata": {},
   "source": [
    "Отображаем базовую информацию по датасету"
   ]
  },
  {
   "cell_type": "code",
   "execution_count": 205,
   "metadata": {
    "scrolled": true
   },
   "outputs": [
    {
     "data": {
      "text/html": [
       "<div>\n",
       "<style scoped>\n",
       "    .dataframe tbody tr th:only-of-type {\n",
       "        vertical-align: middle;\n",
       "    }\n",
       "\n",
       "    .dataframe tbody tr th {\n",
       "        vertical-align: top;\n",
       "    }\n",
       "\n",
       "    .dataframe thead th {\n",
       "        text-align: right;\n",
       "    }\n",
       "</style>\n",
       "<table border=\"1\" class=\"dataframe\">\n",
       "  <thead>\n",
       "    <tr style=\"text-align: right;\">\n",
       "      <th></th>\n",
       "      <th>school</th>\n",
       "      <th>sex</th>\n",
       "      <th>age</th>\n",
       "      <th>address</th>\n",
       "      <th>famsize</th>\n",
       "      <th>Pstatus</th>\n",
       "      <th>Medu</th>\n",
       "      <th>Fedu</th>\n",
       "      <th>Mjob</th>\n",
       "      <th>Fjob</th>\n",
       "      <th>reason</th>\n",
       "      <th>guardian</th>\n",
       "      <th>traveltime</th>\n",
       "      <th>studytime</th>\n",
       "      <th>failures</th>\n",
       "      <th>schoolsup</th>\n",
       "      <th>famsup</th>\n",
       "      <th>paid</th>\n",
       "      <th>activities</th>\n",
       "      <th>nursery</th>\n",
       "      <th>studytime_granular</th>\n",
       "      <th>higher</th>\n",
       "      <th>internet</th>\n",
       "      <th>romantic</th>\n",
       "      <th>famrel</th>\n",
       "      <th>freetime</th>\n",
       "      <th>goout</th>\n",
       "      <th>health</th>\n",
       "      <th>absences</th>\n",
       "      <th>score</th>\n",
       "    </tr>\n",
       "  </thead>\n",
       "  <tbody>\n",
       "    <tr>\n",
       "      <th>0</th>\n",
       "      <td>GP</td>\n",
       "      <td>F</td>\n",
       "      <td>18</td>\n",
       "      <td>U</td>\n",
       "      <td>NaN</td>\n",
       "      <td>A</td>\n",
       "      <td>4.0</td>\n",
       "      <td>4.0</td>\n",
       "      <td>at_home</td>\n",
       "      <td>teacher</td>\n",
       "      <td>course</td>\n",
       "      <td>mother</td>\n",
       "      <td>2.0</td>\n",
       "      <td>2.0</td>\n",
       "      <td>0.0</td>\n",
       "      <td>yes</td>\n",
       "      <td>no</td>\n",
       "      <td>no</td>\n",
       "      <td>no</td>\n",
       "      <td>yes</td>\n",
       "      <td>-6.0</td>\n",
       "      <td>yes</td>\n",
       "      <td>NaN</td>\n",
       "      <td>no</td>\n",
       "      <td>4.0</td>\n",
       "      <td>3.0</td>\n",
       "      <td>4.0</td>\n",
       "      <td>3.0</td>\n",
       "      <td>6.0</td>\n",
       "      <td>30.0</td>\n",
       "    </tr>\n",
       "    <tr>\n",
       "      <th>1</th>\n",
       "      <td>GP</td>\n",
       "      <td>F</td>\n",
       "      <td>17</td>\n",
       "      <td>U</td>\n",
       "      <td>GT3</td>\n",
       "      <td>NaN</td>\n",
       "      <td>1.0</td>\n",
       "      <td>1.0</td>\n",
       "      <td>at_home</td>\n",
       "      <td>other</td>\n",
       "      <td>course</td>\n",
       "      <td>father</td>\n",
       "      <td>1.0</td>\n",
       "      <td>2.0</td>\n",
       "      <td>0.0</td>\n",
       "      <td>no</td>\n",
       "      <td>yes</td>\n",
       "      <td>no</td>\n",
       "      <td>no</td>\n",
       "      <td>no</td>\n",
       "      <td>-6.0</td>\n",
       "      <td>yes</td>\n",
       "      <td>yes</td>\n",
       "      <td>no</td>\n",
       "      <td>5.0</td>\n",
       "      <td>3.0</td>\n",
       "      <td>3.0</td>\n",
       "      <td>3.0</td>\n",
       "      <td>4.0</td>\n",
       "      <td>30.0</td>\n",
       "    </tr>\n",
       "    <tr>\n",
       "      <th>2</th>\n",
       "      <td>GP</td>\n",
       "      <td>F</td>\n",
       "      <td>15</td>\n",
       "      <td>U</td>\n",
       "      <td>LE3</td>\n",
       "      <td>T</td>\n",
       "      <td>1.0</td>\n",
       "      <td>1.0</td>\n",
       "      <td>at_home</td>\n",
       "      <td>other</td>\n",
       "      <td>other</td>\n",
       "      <td>mother</td>\n",
       "      <td>1.0</td>\n",
       "      <td>2.0</td>\n",
       "      <td>3.0</td>\n",
       "      <td>yes</td>\n",
       "      <td>no</td>\n",
       "      <td>NaN</td>\n",
       "      <td>no</td>\n",
       "      <td>yes</td>\n",
       "      <td>-6.0</td>\n",
       "      <td>yes</td>\n",
       "      <td>yes</td>\n",
       "      <td>NaN</td>\n",
       "      <td>4.0</td>\n",
       "      <td>3.0</td>\n",
       "      <td>2.0</td>\n",
       "      <td>3.0</td>\n",
       "      <td>10.0</td>\n",
       "      <td>50.0</td>\n",
       "    </tr>\n",
       "    <tr>\n",
       "      <th>3</th>\n",
       "      <td>GP</td>\n",
       "      <td>F</td>\n",
       "      <td>15</td>\n",
       "      <td>U</td>\n",
       "      <td>GT3</td>\n",
       "      <td>T</td>\n",
       "      <td>4.0</td>\n",
       "      <td>2.0</td>\n",
       "      <td>health</td>\n",
       "      <td>NaN</td>\n",
       "      <td>home</td>\n",
       "      <td>mother</td>\n",
       "      <td>1.0</td>\n",
       "      <td>3.0</td>\n",
       "      <td>0.0</td>\n",
       "      <td>no</td>\n",
       "      <td>yes</td>\n",
       "      <td>yes</td>\n",
       "      <td>yes</td>\n",
       "      <td>yes</td>\n",
       "      <td>-9.0</td>\n",
       "      <td>yes</td>\n",
       "      <td>yes</td>\n",
       "      <td>yes</td>\n",
       "      <td>3.0</td>\n",
       "      <td>2.0</td>\n",
       "      <td>2.0</td>\n",
       "      <td>5.0</td>\n",
       "      <td>2.0</td>\n",
       "      <td>75.0</td>\n",
       "    </tr>\n",
       "    <tr>\n",
       "      <th>4</th>\n",
       "      <td>GP</td>\n",
       "      <td>F</td>\n",
       "      <td>16</td>\n",
       "      <td>U</td>\n",
       "      <td>GT3</td>\n",
       "      <td>T</td>\n",
       "      <td>3.0</td>\n",
       "      <td>3.0</td>\n",
       "      <td>other</td>\n",
       "      <td>other</td>\n",
       "      <td>home</td>\n",
       "      <td>father</td>\n",
       "      <td>1.0</td>\n",
       "      <td>2.0</td>\n",
       "      <td>0.0</td>\n",
       "      <td>no</td>\n",
       "      <td>yes</td>\n",
       "      <td>yes</td>\n",
       "      <td>no</td>\n",
       "      <td>yes</td>\n",
       "      <td>-6.0</td>\n",
       "      <td>yes</td>\n",
       "      <td>no</td>\n",
       "      <td>no</td>\n",
       "      <td>4.0</td>\n",
       "      <td>3.0</td>\n",
       "      <td>2.0</td>\n",
       "      <td>5.0</td>\n",
       "      <td>4.0</td>\n",
       "      <td>50.0</td>\n",
       "    </tr>\n",
       "  </tbody>\n",
       "</table>\n",
       "</div>"
      ],
      "text/plain": [
       "  school sex  age address famsize Pstatus  Medu  Fedu     Mjob     Fjob  \\\n",
       "0     GP   F   18       U     NaN       A   4.0   4.0  at_home  teacher   \n",
       "1     GP   F   17       U     GT3     NaN   1.0   1.0  at_home    other   \n",
       "2     GP   F   15       U     LE3       T   1.0   1.0  at_home    other   \n",
       "3     GP   F   15       U     GT3       T   4.0   2.0   health      NaN   \n",
       "4     GP   F   16       U     GT3       T   3.0   3.0    other    other   \n",
       "\n",
       "   reason guardian  traveltime  studytime  failures schoolsup famsup paid  \\\n",
       "0  course   mother         2.0        2.0       0.0       yes     no   no   \n",
       "1  course   father         1.0        2.0       0.0        no    yes   no   \n",
       "2   other   mother         1.0        2.0       3.0       yes     no  NaN   \n",
       "3    home   mother         1.0        3.0       0.0        no    yes  yes   \n",
       "4    home   father         1.0        2.0       0.0        no    yes  yes   \n",
       "\n",
       "  activities nursery  studytime_granular higher internet romantic  famrel  \\\n",
       "0         no     yes                -6.0    yes      NaN       no     4.0   \n",
       "1         no      no                -6.0    yes      yes       no     5.0   \n",
       "2         no     yes                -6.0    yes      yes      NaN     4.0   \n",
       "3        yes     yes                -9.0    yes      yes      yes     3.0   \n",
       "4         no     yes                -6.0    yes       no       no     4.0   \n",
       "\n",
       "   freetime  goout  health  absences  score  \n",
       "0       3.0    4.0     3.0       6.0   30.0  \n",
       "1       3.0    3.0     3.0       4.0   30.0  \n",
       "2       3.0    2.0     3.0      10.0   50.0  \n",
       "3       2.0    2.0     5.0       2.0   75.0  \n",
       "4       3.0    2.0     5.0       4.0   50.0  "
      ]
     },
     "execution_count": 205,
     "metadata": {},
     "output_type": "execute_result"
    }
   ],
   "source": [
    "pd.options.display.max_columns = 40\n",
    "data.head()"
   ]
  },
  {
   "cell_type": "code",
   "execution_count": 206,
   "metadata": {},
   "outputs": [
    {
     "name": "stdout",
     "output_type": "stream",
     "text": [
      "<class 'pandas.core.frame.DataFrame'>\n",
      "RangeIndex: 395 entries, 0 to 394\n",
      "Data columns (total 30 columns):\n",
      " #   Column              Non-Null Count  Dtype  \n",
      "---  ------              --------------  -----  \n",
      " 0   school              395 non-null    object \n",
      " 1   sex                 395 non-null    object \n",
      " 2   age                 395 non-null    int64  \n",
      " 3   address             378 non-null    object \n",
      " 4   famsize             368 non-null    object \n",
      " 5   Pstatus             350 non-null    object \n",
      " 6   Medu                392 non-null    float64\n",
      " 7   Fedu                371 non-null    float64\n",
      " 8   Mjob                376 non-null    object \n",
      " 9   Fjob                359 non-null    object \n",
      " 10  reason              378 non-null    object \n",
      " 11  guardian            364 non-null    object \n",
      " 12  traveltime          367 non-null    float64\n",
      " 13  studytime           388 non-null    float64\n",
      " 14  failures            373 non-null    float64\n",
      " 15  schoolsup           386 non-null    object \n",
      " 16  famsup              356 non-null    object \n",
      " 17  paid                355 non-null    object \n",
      " 18  activities          381 non-null    object \n",
      " 19  nursery             379 non-null    object \n",
      " 20  studytime_granular  388 non-null    float64\n",
      " 21  higher              375 non-null    object \n",
      " 22  internet            361 non-null    object \n",
      " 23  romantic            364 non-null    object \n",
      " 24  famrel              368 non-null    float64\n",
      " 25  freetime            384 non-null    float64\n",
      " 26  goout               387 non-null    float64\n",
      " 27  health              380 non-null    float64\n",
      " 28  absences            383 non-null    float64\n",
      " 29  score               389 non-null    float64\n",
      "dtypes: float64(12), int64(1), object(17)\n",
      "memory usage: 92.7+ KB\n"
     ]
    }
   ],
   "source": [
    "data.info()"
   ]
  },
  {
   "cell_type": "markdown",
   "metadata": {},
   "source": [
    "### Обработка неверных (ошибочных) значений\n",
    "Проведем автоматическую замену неверных значений на NaN (для столбцов с ограниченным набором возможных значений)"
   ]
  },
  {
   "cell_type": "code",
   "execution_count": 207,
   "metadata": {},
   "outputs": [],
   "source": [
    "# Fill the dict with possible column values\n",
    "possible_vals = {\n",
    "    'school': ['GP', 'MS'],\n",
    "    'sex': ['F', 'M'],\n",
    "    'age': range(15, 23),\n",
    "    'address': ['U', 'R'],\n",
    "    'famsize': ['GT3', 'LE3'],\n",
    "    'Pstatus': ['A', 'T'],\n",
    "    'Medu': range(0, 5),\n",
    "    'Fedu': range(0, 5),\n",
    "    'Mjob': ['at_home', 'health', 'services', 'teacher', 'other'],\n",
    "    'Fjob': ['at_home', 'health', 'services', 'teacher', 'other'],\n",
    "    'reason': ['course', 'home', 'reputation', 'other'],\n",
    "    'guardian': ['mother', 'father', 'other'],\n",
    "    'traveltime': range(1, 5),\n",
    "    'studytime': range(1, 5),\n",
    "    'failures': range(0, 5),\n",
    "    'schoolsup': ['yes', 'no'],\n",
    "    'famsup': ['yes', 'no'],\n",
    "    'paid': ['yes', 'no'],\n",
    "    'activities': ['yes', 'no'],\n",
    "    'nursery': ['yes', 'no'],\n",
    "    'higher': ['yes', 'no'],\n",
    "    'internet': ['yes', 'no'],\n",
    "    'romantic': ['yes', 'no'],\n",
    "    'famrel': range(1, 6),\n",
    "    'freetime': range(1, 6),\n",
    "    'goout': range(1, 6),\n",
    "    'health': range(1, 6),\n",
    "}"
   ]
  },
  {
   "cell_type": "code",
   "execution_count": 208,
   "metadata": {},
   "outputs": [
    {
     "name": "stdout",
     "output_type": "stream",
     "text": [
      "1   value(s) have been replaced in column 'Fedu'\n",
      "1   value(s) have been replaced in column 'famrel'\n"
     ]
    }
   ],
   "source": [
    "for column, vals in possible_vals.items():\n",
    "    # Add NaN to list\n",
    "    vals = list(vals)\n",
    "    vals.append(np.nan)\n",
    "    \n",
    "    # Replace values\n",
    "    mask = data[column].isin(vals)\n",
    "    data[column].where(mask, inplace=True)\n",
    "    \n",
    "    # Show the result\n",
    "    replaced_num = data[column].shape[0] - mask.sum()\n",
    "    if replaced_num:\n",
    "        print(f\"{str(replaced_num).ljust(3)} value(s) have been replaced in column '{column}'\")"
   ]
  },
  {
   "cell_type": "markdown",
   "metadata": {},
   "source": [
    "Замененных значений не много, а значит, всё в порядке"
   ]
  },
  {
   "cell_type": "markdown",
   "metadata": {},
   "source": [
    "### Обработка выбросов\n",
    "Построим боксплоты столбцов с числовыми значениями. Проверим, нет ли там неверных значений."
   ]
  },
  {
   "cell_type": "code",
   "execution_count": 209,
   "metadata": {},
   "outputs": [
    {
     "data": {
      "image/png": "[encoded data removed]",
      "text/plain": [
       "<Figure size 1080x1080 with 15 Axes>"
      ]
     },
     "metadata": {
      "needs_background": "light"
     },
     "output_type": "display_data"
    }
   ],
   "source": [
    "# Calculate graphs number to indicate\n",
    "graphs_num = 0\n",
    "for column in data.columns:\n",
    "    if data[column].dtype != 'O':\n",
    "        graphs_num += 1\n",
    "\n",
    "# Create figure with [rows x cols] graphs\n",
    "cols = 5\n",
    "rows = graphs_num//cols + 1\n",
    "fig, axs = plt.subplots(rows, cols, figsize=(cols*3, rows*5))\n",
    "\n",
    "# Plot graphs\n",
    "i = 0\n",
    "for column in data.columns:\n",
    "    if data[column].dtype != 'O':\n",
    "        axs[i//cols, i%cols].boxplot(data.loc[data[column].notna(), column], showmeans=True)\n",
    "        axs[i//cols, i%cols].set_title(column)\n",
    "        i += 1"
   ]
  },
  {
   "cell_type": "markdown",
   "metadata": {},
   "source": [
    "Неверных значений не наблюдается ни на одном графике. Но видно, что колонка 'failures' имеет только одно значение внутри усов боксплота - 0. Данную колонку можно сразу удалить из датафрейма."
   ]
  },
  {
   "cell_type": "code",
   "execution_count": 210,
   "metadata": {},
   "outputs": [],
   "source": [
    "data.drop(columns='failures', inplace= True)"
   ]
  },
  {
   "cell_type": "markdown",
   "metadata": {},
   "source": [
    "Проведем автоматическую замену выбросов на NaN (для столбцов с числовыми значениями)"
   ]
  },
  {
   "cell_type": "code",
   "execution_count": 211,
   "metadata": {},
   "outputs": [
    {
     "name": "stdout",
     "output_type": "stream",
     "text": [
      "1   value(s) have been replaced in column 'age'\n",
      "2   value(s) have been replaced in column 'Fedu'\n",
      "7   value(s) have been replaced in column 'traveltime'\n",
      "27  value(s) have been replaced in column 'studytime'\n",
      "27  value(s) have been replaced in column 'studytime_granular'\n",
      "24  value(s) have been replaced in column 'famrel'\n",
      "18  value(s) have been replaced in column 'freetime'\n",
      "17  value(s) have been replaced in column 'absences'\n"
     ]
    }
   ],
   "source": [
    "for column in data.columns:\n",
    "    if data[column].dtype != 'O':\n",
    "        # Calculate NaNs, Q1, Q3, IQR\n",
    "        NaN_count = data[column].isna().sum()\n",
    "        Q1 = data[column].quantile(0.25)\n",
    "        Q3 = data[column].quantile(0.75)\n",
    "        IQR = Q3 - Q1\n",
    "        \n",
    "        # Replace values\n",
    "        mask = data[column].between(Q1 - 1.5*IQR, Q3 + 1.5*IQR)\n",
    "        data[column].where(mask, inplace=True)\n",
    "\n",
    "        # Show the result\n",
    "        replaced_num = data[column].shape[0] - mask.sum() - NaN_count\n",
    "        if replaced_num:\n",
    "            print(f\"{str(replaced_num).ljust(3)} value(s) have been replaced in column '{column}'\")"
   ]
  },
  {
   "cell_type": "markdown",
   "metadata": {},
   "source": [
    "### Просмотр уникальных значений\n",
    "Посмотрим для номинативных переменных"
   ]
  },
  {
   "cell_type": "code",
   "execution_count": 212,
   "metadata": {
    "scrolled": true
   },
   "outputs": [
    {
     "name": "stdout",
     "output_type": "stream",
     "text": [
      "school:     ['GP' 'MS']\n",
      "sex:        ['F' 'M']\n",
      "address:    ['U' nan 'R']\n",
      "famsize:    [nan 'GT3' 'LE3']\n",
      "Pstatus:    ['A' nan 'T']\n",
      "Mjob:       ['at_home' 'health' 'other' 'services' 'teacher' nan]\n",
      "Fjob:       ['teacher' 'other' nan 'health' 'services' 'at_home']\n",
      "reason:     ['course' 'other' 'home' 'reputation' nan]\n",
      "guardian:   ['mother' 'father' 'other' nan]\n",
      "schoolsup:  ['yes' 'no' nan]\n",
      "famsup:     ['no' 'yes' nan]\n",
      "paid:       ['no' nan 'yes']\n",
      "activities: ['no' 'yes' nan]\n",
      "nursery:    ['yes' 'no' nan]\n",
      "higher:     ['yes' nan 'no']\n",
      "internet:   [nan 'yes' 'no']\n",
      "romantic:   ['no' nan 'yes']\n"
     ]
    }
   ],
   "source": [
    "for column in data.columns:\n",
    "    if data[column].dtype == 'O':\n",
    "        print(column.join(['', ':']).ljust(12), end='')\n",
    "        print(data[column].unique())"
   ]
  },
  {
   "cell_type": "markdown",
   "metadata": {},
   "source": [
    "Посмотрим для числовых переменных (это можно сделать, так как уникальных значений для них не много)"
   ]
  },
  {
   "cell_type": "code",
   "execution_count": 213,
   "metadata": {
    "scrolled": true
   },
   "outputs": [
    {
     "name": "stdout",
     "output_type": "stream",
     "text": [
      "age:        [15. 16. 17. 18. 19. 20. 21. nan]\n",
      "Medu:       [ 0.  1.  2.  3.  4. nan]\n",
      "Fedu:       [ 1.  2.  3.  4. nan]\n",
      "traveltime: [ 1.  2.  3. nan]\n",
      "studytime:  [ 1.  2.  3. nan]\n",
      "studytime_granular:[-9. -6. -3. nan]\n",
      "famrel:     [ 3.  4.  5. nan]\n",
      "freetime:   [ 2.  3.  4.  5. nan]\n",
      "goout:      [ 1.  2.  3.  4.  5. nan]\n",
      "health:     [ 1.  2.  3.  4.  5. nan]\n",
      "absences:   [ 0.  1.  2.  3.  4.  5.  6.  7.  8.  9. 10. 11. 12. 13. 14. 15. 16. 17.\n",
      " 18. 19. 20. nan]\n",
      "score:      [  0.  20.  25.  30.  35.  40.  45.  50.  55.  60.  65.  70.  75.  80.\n",
      "  85.  90.  95. 100.  nan]\n"
     ]
    }
   ],
   "source": [
    "for column in data.columns:\n",
    "    if data[column].dtype != 'O':\n",
    "        print(column.join(['', ':']).ljust(12), end='')\n",
    "        print(np.sort(data[column].unique()))"
   ]
  },
  {
   "cell_type": "markdown",
   "metadata": {},
   "source": [
    "Подозрительных значений не обнаружено. Всё в порядке, дополнительной очистки данных не требуется."
   ]
  },
  {
   "cell_type": "markdown",
   "metadata": {},
   "source": [
    "### Корреляционный анализ\n",
    "Выясним, какие столбцы коррелируют с оценкой на госэкзамене. Это поможет понять, какие параметры стоит оставить для модели, а какие — исключить.\n",
    "\n",
    "Рассчитаем матрицу корреляций"
   ]
  },
  {
   "cell_type": "code",
   "execution_count": 214,
   "metadata": {
    "scrolled": false
   },
   "outputs": [
    {
     "data": {
      "text/html": [
       "<div>\n",
       "<style scoped>\n",
       "    .dataframe tbody tr th:only-of-type {\n",
       "        vertical-align: middle;\n",
       "    }\n",
       "\n",
       "    .dataframe tbody tr th {\n",
       "        vertical-align: top;\n",
       "    }\n",
       "\n",
       "    .dataframe thead th {\n",
       "        text-align: right;\n",
       "    }\n",
       "</style>\n",
       "<table border=\"1\" class=\"dataframe\">\n",
       "  <thead>\n",
       "    <tr style=\"text-align: right;\">\n",
       "      <th></th>\n",
       "      <th>age</th>\n",
       "      <th>Medu</th>\n",
       "      <th>Fedu</th>\n",
       "      <th>traveltime</th>\n",
       "      <th>studytime</th>\n",
       "      <th>studytime_granular</th>\n",
       "      <th>famrel</th>\n",
       "      <th>freetime</th>\n",
       "      <th>goout</th>\n",
       "      <th>health</th>\n",
       "      <th>absences</th>\n",
       "      <th>score</th>\n",
       "    </tr>\n",
       "  </thead>\n",
       "  <tbody>\n",
       "    <tr>\n",
       "      <th>age</th>\n",
       "      <td>1.000000</td>\n",
       "      <td>-0.167883</td>\n",
       "      <td>-0.162747</td>\n",
       "      <td>0.115437</td>\n",
       "      <td>0.070557</td>\n",
       "      <td>-0.070557</td>\n",
       "      <td>0.041816</td>\n",
       "      <td>0.030180</td>\n",
       "      <td>0.119997</td>\n",
       "      <td>-0.047402</td>\n",
       "      <td>0.129016</td>\n",
       "      <td>-0.153518</td>\n",
       "    </tr>\n",
       "    <tr>\n",
       "      <th>Medu</th>\n",
       "      <td>-0.167883</td>\n",
       "      <td>1.000000</td>\n",
       "      <td>0.639999</td>\n",
       "      <td>-0.135171</td>\n",
       "      <td>0.091193</td>\n",
       "      <td>-0.091193</td>\n",
       "      <td>0.060018</td>\n",
       "      <td>0.012817</td>\n",
       "      <td>0.064164</td>\n",
       "      <td>-0.045051</td>\n",
       "      <td>0.065712</td>\n",
       "      <td>0.213349</td>\n",
       "    </tr>\n",
       "    <tr>\n",
       "      <th>Fedu</th>\n",
       "      <td>-0.162747</td>\n",
       "      <td>0.639999</td>\n",
       "      <td>1.000000</td>\n",
       "      <td>-0.094873</td>\n",
       "      <td>0.089786</td>\n",
       "      <td>-0.089786</td>\n",
       "      <td>-0.009928</td>\n",
       "      <td>-0.040852</td>\n",
       "      <td>0.040199</td>\n",
       "      <td>0.008538</td>\n",
       "      <td>-0.020560</td>\n",
       "      <td>0.139615</td>\n",
       "    </tr>\n",
       "    <tr>\n",
       "      <th>traveltime</th>\n",
       "      <td>0.115437</td>\n",
       "      <td>-0.135171</td>\n",
       "      <td>-0.094873</td>\n",
       "      <td>1.000000</td>\n",
       "      <td>-0.128818</td>\n",
       "      <td>0.128818</td>\n",
       "      <td>-0.044674</td>\n",
       "      <td>-0.062865</td>\n",
       "      <td>-0.033557</td>\n",
       "      <td>-0.035184</td>\n",
       "      <td>-0.065529</td>\n",
       "      <td>-0.072792</td>\n",
       "    </tr>\n",
       "    <tr>\n",
       "      <th>studytime</th>\n",
       "      <td>0.070557</td>\n",
       "      <td>0.091193</td>\n",
       "      <td>0.089786</td>\n",
       "      <td>-0.128818</td>\n",
       "      <td>1.000000</td>\n",
       "      <td>-1.000000</td>\n",
       "      <td>0.079992</td>\n",
       "      <td>-0.089910</td>\n",
       "      <td>-0.047142</td>\n",
       "      <td>-0.042698</td>\n",
       "      <td>-0.083024</td>\n",
       "      <td>0.112830</td>\n",
       "    </tr>\n",
       "    <tr>\n",
       "      <th>studytime_granular</th>\n",
       "      <td>-0.070557</td>\n",
       "      <td>-0.091193</td>\n",
       "      <td>-0.089786</td>\n",
       "      <td>0.128818</td>\n",
       "      <td>-1.000000</td>\n",
       "      <td>1.000000</td>\n",
       "      <td>-0.079992</td>\n",
       "      <td>0.089910</td>\n",
       "      <td>0.047142</td>\n",
       "      <td>0.042698</td>\n",
       "      <td>0.083024</td>\n",
       "      <td>-0.112830</td>\n",
       "    </tr>\n",
       "    <tr>\n",
       "      <th>famrel</th>\n",
       "      <td>0.041816</td>\n",
       "      <td>0.060018</td>\n",
       "      <td>-0.009928</td>\n",
       "      <td>-0.044674</td>\n",
       "      <td>0.079992</td>\n",
       "      <td>-0.079992</td>\n",
       "      <td>1.000000</td>\n",
       "      <td>0.107271</td>\n",
       "      <td>0.096541</td>\n",
       "      <td>0.028073</td>\n",
       "      <td>-0.020196</td>\n",
       "      <td>0.057692</td>\n",
       "    </tr>\n",
       "    <tr>\n",
       "      <th>freetime</th>\n",
       "      <td>0.030180</td>\n",
       "      <td>0.012817</td>\n",
       "      <td>-0.040852</td>\n",
       "      <td>-0.062865</td>\n",
       "      <td>-0.089910</td>\n",
       "      <td>0.089910</td>\n",
       "      <td>0.107271</td>\n",
       "      <td>1.000000</td>\n",
       "      <td>0.258559</td>\n",
       "      <td>0.056916</td>\n",
       "      <td>0.092394</td>\n",
       "      <td>0.000582</td>\n",
       "    </tr>\n",
       "    <tr>\n",
       "      <th>goout</th>\n",
       "      <td>0.119997</td>\n",
       "      <td>0.064164</td>\n",
       "      <td>0.040199</td>\n",
       "      <td>-0.033557</td>\n",
       "      <td>-0.047142</td>\n",
       "      <td>0.047142</td>\n",
       "      <td>0.096541</td>\n",
       "      <td>0.258559</td>\n",
       "      <td>1.000000</td>\n",
       "      <td>-0.015608</td>\n",
       "      <td>0.111587</td>\n",
       "      <td>-0.129685</td>\n",
       "    </tr>\n",
       "    <tr>\n",
       "      <th>health</th>\n",
       "      <td>-0.047402</td>\n",
       "      <td>-0.045051</td>\n",
       "      <td>0.008538</td>\n",
       "      <td>-0.035184</td>\n",
       "      <td>-0.042698</td>\n",
       "      <td>0.042698</td>\n",
       "      <td>0.028073</td>\n",
       "      <td>0.056916</td>\n",
       "      <td>-0.015608</td>\n",
       "      <td>1.000000</td>\n",
       "      <td>-0.014358</td>\n",
       "      <td>-0.070460</td>\n",
       "    </tr>\n",
       "    <tr>\n",
       "      <th>absences</th>\n",
       "      <td>0.129016</td>\n",
       "      <td>0.065712</td>\n",
       "      <td>-0.020560</td>\n",
       "      <td>-0.065529</td>\n",
       "      <td>-0.083024</td>\n",
       "      <td>0.083024</td>\n",
       "      <td>-0.020196</td>\n",
       "      <td>0.092394</td>\n",
       "      <td>0.111587</td>\n",
       "      <td>-0.014358</td>\n",
       "      <td>1.000000</td>\n",
       "      <td>0.081274</td>\n",
       "    </tr>\n",
       "    <tr>\n",
       "      <th>score</th>\n",
       "      <td>-0.153518</td>\n",
       "      <td>0.213349</td>\n",
       "      <td>0.139615</td>\n",
       "      <td>-0.072792</td>\n",
       "      <td>0.112830</td>\n",
       "      <td>-0.112830</td>\n",
       "      <td>0.057692</td>\n",
       "      <td>0.000582</td>\n",
       "      <td>-0.129685</td>\n",
       "      <td>-0.070460</td>\n",
       "      <td>0.081274</td>\n",
       "      <td>1.000000</td>\n",
       "    </tr>\n",
       "  </tbody>\n",
       "</table>\n",
       "</div>"
      ],
      "text/plain": [
       "                         age      Medu      Fedu  traveltime  studytime  \\\n",
       "age                 1.000000 -0.167883 -0.162747    0.115437   0.070557   \n",
       "Medu               -0.167883  1.000000  0.639999   -0.135171   0.091193   \n",
       "Fedu               -0.162747  0.639999  1.000000   -0.094873   0.089786   \n",
       "traveltime          0.115437 -0.135171 -0.094873    1.000000  -0.128818   \n",
       "studytime           0.070557  0.091193  0.089786   -0.128818   1.000000   \n",
       "studytime_granular -0.070557 -0.091193 -0.089786    0.128818  -1.000000   \n",
       "famrel              0.041816  0.060018 -0.009928   -0.044674   0.079992   \n",
       "freetime            0.030180  0.012817 -0.040852   -0.062865  -0.089910   \n",
       "goout               0.119997  0.064164  0.040199   -0.033557  -0.047142   \n",
       "health             -0.047402 -0.045051  0.008538   -0.035184  -0.042698   \n",
       "absences            0.129016  0.065712 -0.020560   -0.065529  -0.083024   \n",
       "score              -0.153518  0.213349  0.139615   -0.072792   0.112830   \n",
       "\n",
       "                    studytime_granular    famrel  freetime     goout  \\\n",
       "age                          -0.070557  0.041816  0.030180  0.119997   \n",
       "Medu                         -0.091193  0.060018  0.012817  0.064164   \n",
       "Fedu                         -0.089786 -0.009928 -0.040852  0.040199   \n",
       "traveltime                    0.128818 -0.044674 -0.062865 -0.033557   \n",
       "studytime                    -1.000000  0.079992 -0.089910 -0.047142   \n",
       "studytime_granular            1.000000 -0.079992  0.089910  0.047142   \n",
       "famrel                       -0.079992  1.000000  0.107271  0.096541   \n",
       "freetime                      0.089910  0.107271  1.000000  0.258559   \n",
       "goout                         0.047142  0.096541  0.258559  1.000000   \n",
       "health                        0.042698  0.028073  0.056916 -0.015608   \n",
       "absences                      0.083024 -0.020196  0.092394  0.111587   \n",
       "score                        -0.112830  0.057692  0.000582 -0.129685   \n",
       "\n",
       "                      health  absences     score  \n",
       "age                -0.047402  0.129016 -0.153518  \n",
       "Medu               -0.045051  0.065712  0.213349  \n",
       "Fedu                0.008538 -0.020560  0.139615  \n",
       "traveltime         -0.035184 -0.065529 -0.072792  \n",
       "studytime          -0.042698 -0.083024  0.112830  \n",
       "studytime_granular  0.042698  0.083024 -0.112830  \n",
       "famrel              0.028073 -0.020196  0.057692  \n",
       "freetime            0.056916  0.092394  0.000582  \n",
       "goout              -0.015608  0.111587 -0.129685  \n",
       "health              1.000000 -0.014358 -0.070460  \n",
       "absences           -0.014358  1.000000  0.081274  \n",
       "score              -0.070460  0.081274  1.000000  "
      ]
     },
     "execution_count": 214,
     "metadata": {},
     "output_type": "execute_result"
    }
   ],
   "source": [
    "corr_table = data.corr()\n",
    "corr_table"
   ]
  },
  {
   "cell_type": "markdown",
   "metadata": {},
   "source": [
    "Отсортируем корреляции со 'score' по абсолютному значению"
   ]
  },
  {
   "cell_type": "code",
   "execution_count": 215,
   "metadata": {
    "scrolled": false
   },
   "outputs": [
    {
     "data": {
      "text/plain": [
       "score                 1.000000\n",
       "Medu                  0.213349\n",
       "age                   0.153518\n",
       "Fedu                  0.139615\n",
       "goout                 0.129685\n",
       "studytime_granular    0.112830\n",
       "studytime             0.112830\n",
       "absences              0.081274\n",
       "traveltime            0.072792\n",
       "health                0.070460\n",
       "famrel                0.057692\n",
       "freetime              0.000582\n",
       "Name: score, dtype: float64"
      ]
     },
     "execution_count": 215,
     "metadata": {},
     "output_type": "execute_result"
    }
   ],
   "source": [
    "corr_table['score'].abs().sort_values(ascending=False)"
   ]
  },
  {
   "cell_type": "markdown",
   "metadata": {},
   "source": [
    "Наибольшая корреляция баллов на госэкзаме наблюдается с образованием матери ученика ('Medu'). Корреляция отсутствует со свободным временем ученика ('freetime'). Удалим данный столбец."
   ]
  },
  {
   "cell_type": "code",
   "execution_count": 216,
   "metadata": {},
   "outputs": [],
   "source": [
    "data.drop(columns='freetime', inplace=True)"
   ]
  },
  {
   "cell_type": "markdown",
   "metadata": {},
   "source": [
    "### Анализ номинативных переменных\n",
    "Очевидно, что для номинативных переменных использовать корреляционный анализ не получится. Однако можно посмотреть, различаются ли распределения рейтинга в зависимости от значения этих переменных.\n",
    "\n",
    "С помощью теста Стьюдента проверим есть ли статистически значимая разница в распределении баллов по госэкзамену для раных значений номинативных переменных. Проверим нулевую гипотезу о том, что распределения баллов по различным параметрам неразличимы:"
   ]
  },
  {
   "cell_type": "code",
   "execution_count": 217,
   "metadata": {
    "scrolled": false
   },
   "outputs": [
    {
     "name": "stdout",
     "output_type": "stream",
     "text": [
      "Statistically significant differences have been found for column 'address'\n",
      "Statistically significant differences have been found for column 'Mjob'\n",
      "Statistically significant differences have been found for column 'higher'\n",
      "Statistically significant differences have been found for column 'romantic'\n"
     ]
    }
   ],
   "source": [
    "not_signif_columns = []\n",
    "for column in data.columns:\n",
    "    if data[column].dtype == 'O':\n",
    "        top10_values = data[column].value_counts().index[:10]\n",
    "        combs = list(combinations(top10_values, 2))\n",
    "        for comb in combs:\n",
    "            if ttest_ind(data.loc[(data[column] == comb[0]) & (data['score'].notna()), 'score'], \n",
    "                         data.loc[(data[column] == comb[1]) & (data['score'].notna()), 'score']). \\\n",
    "                            pvalue <= 0.05/len(combs): # Bonferroni correction\n",
    "                print(f\"Statistically significant differences have been found for column '{column}'\")\n",
    "                break\n",
    "        else:\n",
    "            not_signif_columns.append(column)"
   ]
  },
  {
   "cell_type": "markdown",
   "metadata": {},
   "source": [
    "Как мы видим, статистически значимые различия наблюдаются для следующих переменных: 'address', 'Mjob', 'higher' и 'romantic'. Оставим эти переменные в датасете для дальнейшего построения модели. Остальные номинативные переменные удалим. "
   ]
  },
  {
   "cell_type": "code",
   "execution_count": 218,
   "metadata": {},
   "outputs": [],
   "source": [
    "data.drop(columns=not_signif_columns, inplace=True)"
   ]
  },
  {
   "cell_type": "markdown",
   "metadata": {},
   "source": [
    "Построим боксплоты для номинативных переменных (которые мы оставили) для визуализации различия распределения баллов госэкзамена в зависимости от значения этих переменных."
   ]
  },
  {
   "cell_type": "code",
   "execution_count": 219,
   "metadata": {
    "scrolled": false
   },
   "outputs": [
    {
     "data": {
      "image/png": "[encoded data removed]",
      "text/plain": [
       "<Figure size 720x288 with 1 Axes>"
      ]
     },
     "metadata": {
      "needs_background": "light"
     },
     "output_type": "display_data"
    },
    {
     "data": {
      "image/png": "[encoded data removed]",
      "text/plain": [
       "<Figure size 720x288 with 1 Axes>"
      ]
     },
     "metadata": {
      "needs_background": "light"
     },
     "output_type": "display_data"
    },
    {
     "data": {
      "image/png": "[encoded data removed]",
      "text/plain": [
       "<Figure size 720x288 with 1 Axes>"
      ]
     },
     "metadata": {
      "needs_background": "light"
     },
     "output_type": "display_data"
    },
    {
     "data": {
      "image/png": "[encoded data removed]",
      "text/plain": [
       "<Figure size 720x288 with 1 Axes>"
      ]
     },
     "metadata": {
      "needs_background": "light"
     },
     "output_type": "display_data"
    }
   ],
   "source": [
    "for column in data.columns:\n",
    "    if data[column].dtype == 'O':\n",
    "        fig, ax = plt.subplots(figsize=(10, 4))\n",
    "        sns.boxplot(x=column,\n",
    "                    y='score', \n",
    "                    data=data[data[column].isin(data[column].value_counts().index[:10])],\n",
    "                    ax=ax)\n",
    "        plt.xticks(rotation=45)\n",
    "        plt.show()"
   ]
  },
  {
   "cell_type": "markdown",
   "metadata": {},
   "source": [
    "Выведем важные переменные, которые, возможно, оказывают влияние на количество баллов на госэкзамене по математике"
   ]
  },
  {
   "cell_type": "code",
   "execution_count": 220,
   "metadata": {
    "scrolled": true
   },
   "outputs": [
    {
     "name": "stdout",
     "output_type": "stream",
     "text": [
      "['age', 'address', 'Medu', 'Fedu', 'Mjob', 'traveltime', 'studytime', 'studytime_granular', 'higher', 'romantic', 'famrel', 'goout', 'health', 'absences']\n"
     ]
    }
   ],
   "source": [
    "signif_columns = list(data.columns)\n",
    "signif_columns.remove('score')\n",
    "print(signif_columns)"
   ]
  },
  {
   "cell_type": "markdown",
   "metadata": {},
   "source": [
    "### Результаты EDA\n",
    "Итак, в результате EDA для анализа влияния параметров ученика на количество набранных им баллов на госэкзамене по математике можно сделать следующие выводы:\n",
    "\n",
    "1. Данные можно считать достаточно чистыми, так как:\n",
    "    - количество пустых значений: максимальная доля пустых значений - 10,1 % (у столбца 'paid');\n",
    "    - количество неверных значений: всего 2 неверных значения (одно у столбца 'Fedu' и одно у 'famrel').\n",
    "    - количество выбросов: максимум 27 выбросов обнаружено для колонок 'studytime' и 'studytime_granular'.\n",
    "2. Положительная корреляция имеется со столбцами (по убыванию): 'Medu', 'Fedu', 'studytime', 'absences', 'famrel'. Здесь неожиданной оказалась положительная корреляция с количеством пропущенных занятий 'absences'.\n",
    "3. Отрицательная корреляция имеется со столбцами (по убыванию абсолютного значения): 'age', 'goout', 'studytime_granular', 'traveltime', 'health'. Здесь неочевидными оказались отрицательные корреляции с созрастом 'age' и здоровьем 'health'.\n",
    "4. Воздействующие номинативные переменные: 'address', 'Mjob', 'higher', 'romantic'."
   ]
  }
 ],
 "metadata": {
  "kernelspec": {
   "display_name": "Python 3",
   "language": "python",
   "name": "python3"
  },
  "language_info": {
   "codemirror_mode": {
    "name": "ipython",
    "version": 3
   },
   "file_extension": ".py",
   "mimetype": "text/x-python",
   "name": "python",
   "nbconvert_exporter": "python",
   "pygments_lexer": "ipython3",
   "version": "3.7.6"
  }
 },
 "nbformat": 4,
 "nbformat_minor": 4
}
