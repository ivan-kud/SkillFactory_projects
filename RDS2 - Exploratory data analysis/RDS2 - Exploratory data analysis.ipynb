{
 "cells": [
  {
   "cell_type": "markdown",
   "metadata": {},
   "source": [
    "### Цели и задачи проекта\n",
    "Цель проекта - отследить влияние условий жизни учеников школы в возрасте от 15 до 22 лет на их успеваемость по математике, чтобы на ранней стадии выявлять учеников, находящихся в группе риска. Для этого необходимо построить модель, которая предсказывала бы результат госэкзамена по математике для каждого ученика."
   ]
  },
  {
   "cell_type": "markdown",
   "metadata": {},
   "source": [
    "### Первичная обработка данных\n",
    "Импортируем библиотеки"
   ]
  },
  {
   "cell_type": "code",
   "execution_count": 1,
   "metadata": {
    "slideshow": {
     "slide_type": "-"
    }
   },
   "outputs": [],
   "source": [
    "from itertools import combinations\n",
    "\n",
    "import numpy as np\n",
    "import pandas as pd\n",
    "import matplotlib.pyplot as plt\n",
    "import seaborn as sns\n",
    "from scipy.stats import ttest_ind\n",
    "\n",
    "pd.options.display.max_columns = 40"
   ]
  },
  {
   "cell_type": "markdown",
   "metadata": {},
   "source": [
    "Читаем данные из файла"
   ]
  },
  {
   "cell_type": "code",
   "execution_count": 2,
   "metadata": {},
   "outputs": [],
   "source": [
    "data = pd.read_csv('stud_math.xls')"
   ]
  },
  {
   "cell_type": "markdown",
   "metadata": {},
   "source": [
    "Проверяем названия переменных датасета и переименовываем при необходимости"
   ]
  },
  {
   "cell_type": "code",
   "execution_count": 3,
   "metadata": {},
   "outputs": [
    {
     "data": {
      "text/plain": [
       "Index(['school', 'sex', 'age', 'address', 'famsize', 'Pstatus', 'Medu', 'Fedu',\n",
       "       'Mjob', 'Fjob', 'reason', 'guardian', 'traveltime', 'studytime',\n",
       "       'failures', 'schoolsup', 'famsup', 'paid', 'activities', 'nursery',\n",
       "       'studytime, granular', 'higher', 'internet', 'romantic', 'famrel',\n",
       "       'freetime', 'goout', 'health', 'absences', 'score'],\n",
       "      dtype='object')"
      ]
     },
     "execution_count": 3,
     "metadata": {},
     "output_type": "execute_result"
    }
   ],
   "source": [
    "data.columns"
   ]
  },
  {
   "cell_type": "code",
   "execution_count": 4,
   "metadata": {},
   "outputs": [],
   "source": [
    "data.rename(columns={'studytime, granular': 'Gstudytime'}, inplace=True)"
   ]
  },
  {
   "cell_type": "markdown",
   "metadata": {},
   "source": [
    "Отображаем основную информацию по датасету"
   ]
  },
  {
   "cell_type": "code",
   "execution_count": 5,
   "metadata": {
    "scrolled": true
   },
   "outputs": [
    {
     "data": {
      "text/html": [
       "<div>\n",
       "<style scoped>\n",
       "    .dataframe tbody tr th:only-of-type {\n",
       "        vertical-align: middle;\n",
       "    }\n",
       "\n",
       "    .dataframe tbody tr th {\n",
       "        vertical-align: top;\n",
       "    }\n",
       "\n",
       "    .dataframe thead th {\n",
       "        text-align: right;\n",
       "    }\n",
       "</style>\n",
       "<table border=\"1\" class=\"dataframe\">\n",
       "  <thead>\n",
       "    <tr style=\"text-align: right;\">\n",
       "      <th></th>\n",
       "      <th>school</th>\n",
       "      <th>sex</th>\n",
       "      <th>age</th>\n",
       "      <th>address</th>\n",
       "      <th>famsize</th>\n",
       "      <th>Pstatus</th>\n",
       "      <th>Medu</th>\n",
       "      <th>Fedu</th>\n",
       "      <th>Mjob</th>\n",
       "      <th>Fjob</th>\n",
       "      <th>reason</th>\n",
       "      <th>guardian</th>\n",
       "      <th>traveltime</th>\n",
       "      <th>studytime</th>\n",
       "      <th>failures</th>\n",
       "      <th>schoolsup</th>\n",
       "      <th>famsup</th>\n",
       "      <th>paid</th>\n",
       "      <th>activities</th>\n",
       "      <th>nursery</th>\n",
       "      <th>Gstudytime</th>\n",
       "      <th>higher</th>\n",
       "      <th>internet</th>\n",
       "      <th>romantic</th>\n",
       "      <th>famrel</th>\n",
       "      <th>freetime</th>\n",
       "      <th>goout</th>\n",
       "      <th>health</th>\n",
       "      <th>absences</th>\n",
       "      <th>score</th>\n",
       "    </tr>\n",
       "  </thead>\n",
       "  <tbody>\n",
       "    <tr>\n",
       "      <th>0</th>\n",
       "      <td>GP</td>\n",
       "      <td>F</td>\n",
       "      <td>18</td>\n",
       "      <td>U</td>\n",
       "      <td>NaN</td>\n",
       "      <td>A</td>\n",
       "      <td>4.0</td>\n",
       "      <td>4.0</td>\n",
       "      <td>at_home</td>\n",
       "      <td>teacher</td>\n",
       "      <td>course</td>\n",
       "      <td>mother</td>\n",
       "      <td>2.0</td>\n",
       "      <td>2.0</td>\n",
       "      <td>0.0</td>\n",
       "      <td>yes</td>\n",
       "      <td>no</td>\n",
       "      <td>no</td>\n",
       "      <td>no</td>\n",
       "      <td>yes</td>\n",
       "      <td>-6.0</td>\n",
       "      <td>yes</td>\n",
       "      <td>NaN</td>\n",
       "      <td>no</td>\n",
       "      <td>4.0</td>\n",
       "      <td>3.0</td>\n",
       "      <td>4.0</td>\n",
       "      <td>3.0</td>\n",
       "      <td>6.0</td>\n",
       "      <td>30.0</td>\n",
       "    </tr>\n",
       "    <tr>\n",
       "      <th>1</th>\n",
       "      <td>GP</td>\n",
       "      <td>F</td>\n",
       "      <td>17</td>\n",
       "      <td>U</td>\n",
       "      <td>GT3</td>\n",
       "      <td>NaN</td>\n",
       "      <td>1.0</td>\n",
       "      <td>1.0</td>\n",
       "      <td>at_home</td>\n",
       "      <td>other</td>\n",
       "      <td>course</td>\n",
       "      <td>father</td>\n",
       "      <td>1.0</td>\n",
       "      <td>2.0</td>\n",
       "      <td>0.0</td>\n",
       "      <td>no</td>\n",
       "      <td>yes</td>\n",
       "      <td>no</td>\n",
       "      <td>no</td>\n",
       "      <td>no</td>\n",
       "      <td>-6.0</td>\n",
       "      <td>yes</td>\n",
       "      <td>yes</td>\n",
       "      <td>no</td>\n",
       "      <td>5.0</td>\n",
       "      <td>3.0</td>\n",
       "      <td>3.0</td>\n",
       "      <td>3.0</td>\n",
       "      <td>4.0</td>\n",
       "      <td>30.0</td>\n",
       "    </tr>\n",
       "    <tr>\n",
       "      <th>2</th>\n",
       "      <td>GP</td>\n",
       "      <td>F</td>\n",
       "      <td>15</td>\n",
       "      <td>U</td>\n",
       "      <td>LE3</td>\n",
       "      <td>T</td>\n",
       "      <td>1.0</td>\n",
       "      <td>1.0</td>\n",
       "      <td>at_home</td>\n",
       "      <td>other</td>\n",
       "      <td>other</td>\n",
       "      <td>mother</td>\n",
       "      <td>1.0</td>\n",
       "      <td>2.0</td>\n",
       "      <td>3.0</td>\n",
       "      <td>yes</td>\n",
       "      <td>no</td>\n",
       "      <td>NaN</td>\n",
       "      <td>no</td>\n",
       "      <td>yes</td>\n",
       "      <td>-6.0</td>\n",
       "      <td>yes</td>\n",
       "      <td>yes</td>\n",
       "      <td>NaN</td>\n",
       "      <td>4.0</td>\n",
       "      <td>3.0</td>\n",
       "      <td>2.0</td>\n",
       "      <td>3.0</td>\n",
       "      <td>10.0</td>\n",
       "      <td>50.0</td>\n",
       "    </tr>\n",
       "    <tr>\n",
       "      <th>3</th>\n",
       "      <td>GP</td>\n",
       "      <td>F</td>\n",
       "      <td>15</td>\n",
       "      <td>U</td>\n",
       "      <td>GT3</td>\n",
       "      <td>T</td>\n",
       "      <td>4.0</td>\n",
       "      <td>2.0</td>\n",
       "      <td>health</td>\n",
       "      <td>NaN</td>\n",
       "      <td>home</td>\n",
       "      <td>mother</td>\n",
       "      <td>1.0</td>\n",
       "      <td>3.0</td>\n",
       "      <td>0.0</td>\n",
       "      <td>no</td>\n",
       "      <td>yes</td>\n",
       "      <td>yes</td>\n",
       "      <td>yes</td>\n",
       "      <td>yes</td>\n",
       "      <td>-9.0</td>\n",
       "      <td>yes</td>\n",
       "      <td>yes</td>\n",
       "      <td>yes</td>\n",
       "      <td>3.0</td>\n",
       "      <td>2.0</td>\n",
       "      <td>2.0</td>\n",
       "      <td>5.0</td>\n",
       "      <td>2.0</td>\n",
       "      <td>75.0</td>\n",
       "    </tr>\n",
       "    <tr>\n",
       "      <th>4</th>\n",
       "      <td>GP</td>\n",
       "      <td>F</td>\n",
       "      <td>16</td>\n",
       "      <td>U</td>\n",
       "      <td>GT3</td>\n",
       "      <td>T</td>\n",
       "      <td>3.0</td>\n",
       "      <td>3.0</td>\n",
       "      <td>other</td>\n",
       "      <td>other</td>\n",
       "      <td>home</td>\n",
       "      <td>father</td>\n",
       "      <td>1.0</td>\n",
       "      <td>2.0</td>\n",
       "      <td>0.0</td>\n",
       "      <td>no</td>\n",
       "      <td>yes</td>\n",
       "      <td>yes</td>\n",
       "      <td>no</td>\n",
       "      <td>yes</td>\n",
       "      <td>-6.0</td>\n",
       "      <td>yes</td>\n",
       "      <td>no</td>\n",
       "      <td>no</td>\n",
       "      <td>4.0</td>\n",
       "      <td>3.0</td>\n",
       "      <td>2.0</td>\n",
       "      <td>5.0</td>\n",
       "      <td>4.0</td>\n",
       "      <td>50.0</td>\n",
       "    </tr>\n",
       "  </tbody>\n",
       "</table>\n",
       "</div>"
      ],
      "text/plain": [
       "  school sex  age address famsize Pstatus  Medu  Fedu     Mjob     Fjob  \\\n",
       "0     GP   F   18       U     NaN       A   4.0   4.0  at_home  teacher   \n",
       "1     GP   F   17       U     GT3     NaN   1.0   1.0  at_home    other   \n",
       "2     GP   F   15       U     LE3       T   1.0   1.0  at_home    other   \n",
       "3     GP   F   15       U     GT3       T   4.0   2.0   health      NaN   \n",
       "4     GP   F   16       U     GT3       T   3.0   3.0    other    other   \n",
       "\n",
       "   reason guardian  traveltime  studytime  failures schoolsup famsup paid  \\\n",
       "0  course   mother         2.0        2.0       0.0       yes     no   no   \n",
       "1  course   father         1.0        2.0       0.0        no    yes   no   \n",
       "2   other   mother         1.0        2.0       3.0       yes     no  NaN   \n",
       "3    home   mother         1.0        3.0       0.0        no    yes  yes   \n",
       "4    home   father         1.0        2.0       0.0        no    yes  yes   \n",
       "\n",
       "  activities nursery  Gstudytime higher internet romantic  famrel  freetime  \\\n",
       "0         no     yes        -6.0    yes      NaN       no     4.0       3.0   \n",
       "1         no      no        -6.0    yes      yes       no     5.0       3.0   \n",
       "2         no     yes        -6.0    yes      yes      NaN     4.0       3.0   \n",
       "3        yes     yes        -9.0    yes      yes      yes     3.0       2.0   \n",
       "4         no     yes        -6.0    yes       no       no     4.0       3.0   \n",
       "\n",
       "   goout  health  absences  score  \n",
       "0    4.0     3.0       6.0   30.0  \n",
       "1    3.0     3.0       4.0   30.0  \n",
       "2    2.0     3.0      10.0   50.0  \n",
       "3    2.0     5.0       2.0   75.0  \n",
       "4    2.0     5.0       4.0   50.0  "
      ]
     },
     "execution_count": 5,
     "metadata": {},
     "output_type": "execute_result"
    }
   ],
   "source": [
    "data.head()"
   ]
  },
  {
   "cell_type": "code",
   "execution_count": 6,
   "metadata": {
    "scrolled": false
   },
   "outputs": [
    {
     "name": "stdout",
     "output_type": "stream",
     "text": [
      "<class 'pandas.core.frame.DataFrame'>\n",
      "RangeIndex: 395 entries, 0 to 394\n",
      "Data columns (total 30 columns):\n",
      " #   Column      Non-Null Count  Dtype  \n",
      "---  ------      --------------  -----  \n",
      " 0   school      395 non-null    object \n",
      " 1   sex         395 non-null    object \n",
      " 2   age         395 non-null    int64  \n",
      " 3   address     378 non-null    object \n",
      " 4   famsize     368 non-null    object \n",
      " 5   Pstatus     350 non-null    object \n",
      " 6   Medu        392 non-null    float64\n",
      " 7   Fedu        371 non-null    float64\n",
      " 8   Mjob        376 non-null    object \n",
      " 9   Fjob        359 non-null    object \n",
      " 10  reason      378 non-null    object \n",
      " 11  guardian    364 non-null    object \n",
      " 12  traveltime  367 non-null    float64\n",
      " 13  studytime   388 non-null    float64\n",
      " 14  failures    373 non-null    float64\n",
      " 15  schoolsup   386 non-null    object \n",
      " 16  famsup      356 non-null    object \n",
      " 17  paid        355 non-null    object \n",
      " 18  activities  381 non-null    object \n",
      " 19  nursery     379 non-null    object \n",
      " 20  Gstudytime  388 non-null    float64\n",
      " 21  higher      375 non-null    object \n",
      " 22  internet    361 non-null    object \n",
      " 23  romantic    364 non-null    object \n",
      " 24  famrel      368 non-null    float64\n",
      " 25  freetime    384 non-null    float64\n",
      " 26  goout       387 non-null    float64\n",
      " 27  health      380 non-null    float64\n",
      " 28  absences    383 non-null    float64\n",
      " 29  score       389 non-null    float64\n",
      "dtypes: float64(12), int64(1), object(17)\n",
      "memory usage: 92.7+ KB\n"
     ]
    }
   ],
   "source": [
    "data.info()"
   ]
  },
  {
   "cell_type": "markdown",
   "metadata": {},
   "source": [
    "Переменные можно разделить на три категории:\n",
    "- количественные: 'age', 'absences', 'score'.\n",
    "- ранговые: 'Medu', 'Fedu', 'traveltime', studytime', 'failures', 'famrel', 'freetime', 'goout', 'health'.\n",
    "- номинативные: 'school', 'sex', 'address', 'famsize', 'Pstatus', 'Mjob', 'Fjob', 'reason', 'guardian', 'schoolsup', 'famsup', paid', 'activities', 'nursery', higher', 'internet', 'romantic'.\n",
    "\n",
    "Про переменную 'Gstudytime' мы пока мало знаем и не можем точно определить её категорию.\n",
    "\n",
    "Максимальная доля пустых значений - 10,1 % (у переменной 'paid')."
   ]
  },
  {
   "cell_type": "markdown",
   "metadata": {},
   "source": [
    "### Просмотр уникальных значений\n",
    "Просматриваем количество уникальных значений номинативных переменных"
   ]
  },
  {
   "cell_type": "code",
   "execution_count": 7,
   "metadata": {
    "scrolled": true
   },
   "outputs": [
    {
     "name": "stdout",
     "output_type": "stream",
     "text": [
      "school:     2\n",
      "sex:        2\n",
      "address:    2\n",
      "famsize:    2\n",
      "Pstatus:    2\n",
      "Mjob:       5\n",
      "Fjob:       5\n",
      "reason:     4\n",
      "guardian:   3\n",
      "schoolsup:  2\n",
      "famsup:     2\n",
      "paid:       2\n",
      "activities: 2\n",
      "nursery:    2\n",
      "higher:     2\n",
      "internet:   2\n",
      "romantic:   2\n"
     ]
    }
   ],
   "source": [
    "for column in data.columns:\n",
    "    if data[column].dtype == 'O':\n",
    "        print(column.join(['', ':']).ljust(12), end='')\n",
    "        print(data[column].nunique())"
   ]
  },
  {
   "cell_type": "markdown",
   "metadata": {},
   "source": [
    "Просматриваем сами уникальные значения номинативных переменных"
   ]
  },
  {
   "cell_type": "code",
   "execution_count": 8,
   "metadata": {
    "scrolled": false
   },
   "outputs": [
    {
     "name": "stdout",
     "output_type": "stream",
     "text": [
      "school:     ['GP' 'MS']\n",
      "sex:        ['F' 'M']\n",
      "address:    ['U' nan 'R']\n",
      "famsize:    [nan 'GT3' 'LE3']\n",
      "Pstatus:    ['A' nan 'T']\n",
      "Mjob:       ['at_home' 'health' 'other' 'services' 'teacher' nan]\n",
      "Fjob:       ['teacher' 'other' nan 'health' 'services' 'at_home']\n",
      "reason:     ['course' 'other' 'home' 'reputation' nan]\n",
      "guardian:   ['mother' 'father' 'other' nan]\n",
      "schoolsup:  ['yes' 'no' nan]\n",
      "famsup:     ['no' 'yes' nan]\n",
      "paid:       ['no' nan 'yes']\n",
      "activities: ['no' 'yes' nan]\n",
      "nursery:    ['yes' 'no' nan]\n",
      "higher:     ['yes' nan 'no']\n",
      "internet:   [nan 'yes' 'no']\n",
      "romantic:   ['no' nan 'yes']\n"
     ]
    }
   ],
   "source": [
    "for column in data.columns:\n",
    "    if data[column].dtype == 'O':\n",
    "        print(column.join(['', ':']).ljust(12), end='')\n",
    "        print(data[column].unique())"
   ]
  },
  {
   "cell_type": "markdown",
   "metadata": {},
   "source": [
    "Просматриваем количество уникальных значений численных переменных"
   ]
  },
  {
   "cell_type": "code",
   "execution_count": 9,
   "metadata": {
    "scrolled": true
   },
   "outputs": [
    {
     "name": "stdout",
     "output_type": "stream",
     "text": [
      "age:        8\n",
      "Medu:       5\n",
      "Fedu:       6\n",
      "traveltime: 4\n",
      "studytime:  4\n",
      "failures:   4\n",
      "Gstudytime: 4\n",
      "famrel:     6\n",
      "freetime:   5\n",
      "goout:      5\n",
      "health:     5\n",
      "absences:   36\n",
      "score:      18\n"
     ]
    }
   ],
   "source": [
    "for column in data.columns:\n",
    "    if data[column].dtype != 'O':\n",
    "        print(column.join(['', ':']).ljust(12), end='')\n",
    "        print(data[column].nunique())"
   ]
  },
  {
   "cell_type": "markdown",
   "metadata": {},
   "source": [
    "Просматриваем уникальные значения численных переменных (так как в данном случае уникальных значений для них не много)"
   ]
  },
  {
   "cell_type": "code",
   "execution_count": 10,
   "metadata": {},
   "outputs": [
    {
     "name": "stdout",
     "output_type": "stream",
     "text": [
      "age:        [15 16 17 18 19 20 21 22]\n",
      "Medu:       [ 0.  1.  2.  3.  4. nan]\n",
      "Fedu:       [ 0.  1.  2.  3.  4. 40. nan]\n",
      "traveltime: [ 1.  2.  3.  4. nan]\n",
      "studytime:  [ 1.  2.  3.  4. nan]\n",
      "failures:   [ 0.  1.  2.  3. nan]\n",
      "Gstudytime: [-12.  -9.  -6.  -3.  nan]\n",
      "famrel:     [-1.  1.  2.  3.  4.  5. nan]\n",
      "freetime:   [ 1.  2.  3.  4.  5. nan]\n",
      "goout:      [ 1.  2.  3.  4.  5. nan]\n",
      "health:     [ 1.  2.  3.  4.  5. nan]\n",
      "absences:   [  0.   1.   2.   3.   4.   5.   6.   7.   8.   9.  10.  11.  12.  13.\n",
      "  14.  15.  16.  17.  18.  19.  20.  21.  22.  23.  24.  25.  26.  28.\n",
      "  30.  38.  40.  54.  56.  75. 212. 385.  nan]\n",
      "score:      [  0.  20.  25.  30.  35.  40.  45.  50.  55.  60.  65.  70.  75.  80.\n",
      "  85.  90.  95. 100.  nan]\n"
     ]
    }
   ],
   "source": [
    "for column in data.columns:\n",
    "    if data[column].dtype != 'O':\n",
    "        print(column.join(['', ':']).ljust(12), end='')\n",
    "        print(np.sort(data[column].unique()))"
   ]
  },
  {
   "cell_type": "markdown",
   "metadata": {},
   "source": [
    "Из уникальных значений видно:\n",
    "- для многих переменных обнаружены значения NaN;\n",
    "- обнаружены неверные значения у переменных 'Fedu' и 'famrel';\n",
    "- переменная 'score' имеет кратность 5."
   ]
  },
  {
   "cell_type": "markdown",
   "metadata": {},
   "source": [
    "### Обработка неверных (ошибочных) значений\n",
    "Проводим замену неверных значений на NaN для переменных с ограниченным набором возможных значений"
   ]
  },
  {
   "cell_type": "code",
   "execution_count": 11,
   "metadata": {},
   "outputs": [],
   "source": [
    "# Fill the dict with possible column values\n",
    "possible_vals = {\n",
    "    'school': ['GP', 'MS'],\n",
    "    'sex': ['F', 'M'],\n",
    "    'age': range(15, 23),\n",
    "    'address': ['U', 'R'],\n",
    "    'famsize': ['GT3', 'LE3'],\n",
    "    'Pstatus': ['A', 'T'],\n",
    "    'Medu': range(0, 5),\n",
    "    'Fedu': range(0, 5),\n",
    "    'Mjob': ['at_home', 'health', 'services', 'teacher', 'other'],\n",
    "    'Fjob': ['at_home', 'health', 'services', 'teacher', 'other'],\n",
    "    'reason': ['course', 'home', 'reputation', 'other'],\n",
    "    'guardian': ['mother', 'father', 'other'],\n",
    "    'traveltime': range(1, 5),\n",
    "    'studytime': range(1, 5),\n",
    "    'failures': range(0, 5),\n",
    "    'schoolsup': ['yes', 'no'],\n",
    "    'famsup': ['yes', 'no'],\n",
    "    'paid': ['yes', 'no'],\n",
    "    'activities': ['yes', 'no'],\n",
    "    'nursery': ['yes', 'no'],\n",
    "    'higher': ['yes', 'no'],\n",
    "    'internet': ['yes', 'no'],\n",
    "    'romantic': ['yes', 'no'],\n",
    "    'famrel': range(1, 6),\n",
    "    'freetime': range(1, 6),\n",
    "    'goout': range(1, 6),\n",
    "    'health': range(1, 6),\n",
    "}"
   ]
  },
  {
   "cell_type": "code",
   "execution_count": 12,
   "metadata": {},
   "outputs": [
    {
     "name": "stdout",
     "output_type": "stream",
     "text": [
      "1   cells have been replaced with NaN in column 'Fedu'\n",
      "1   cells have been replaced with NaN in column 'famrel'\n"
     ]
    }
   ],
   "source": [
    "for column, vals in possible_vals.items():\n",
    "    # Add NaN to list\n",
    "    vals = list(vals)\n",
    "    vals.append(np.nan)\n",
    "    \n",
    "    # Replace values\n",
    "    mask = data[column].isin(vals)\n",
    "    data[column].where(mask, inplace=True)\n",
    "    \n",
    "    # Show the result\n",
    "    replaced_num = data[column].shape[0] - mask.sum()\n",
    "    if replaced_num:\n",
    "        print(f\"{str(replaced_num).ljust(3)} cells have been replaced with NaN in column '{column}'\")"
   ]
  },
  {
   "cell_type": "markdown",
   "metadata": {},
   "source": [
    "Неверных замененных значений не много, следовательно, всё в порядке и можно переходить к следующему этапу"
   ]
  },
  {
   "cell_type": "markdown",
   "metadata": {},
   "source": [
    "### Обработка выбросов\n",
    "Строим боксплоты количественных переменных и проверяем их на наличие выбросов"
   ]
  },
  {
   "cell_type": "code",
   "execution_count": 13,
   "metadata": {},
   "outputs": [],
   "source": [
    "# Fill the list of columns with quantity variables\n",
    "quantity_cols = [\n",
    "    'age',\n",
    "    'absences',\n",
    "    'score',\n",
    "]"
   ]
  },
  {
   "cell_type": "code",
   "execution_count": 14,
   "metadata": {},
   "outputs": [
    {
     "data": {
      "image/png": "[encoded data removed]",
      "text/plain": [
       "<Figure size 1080x360 with 5 Axes>"
      ]
     },
     "metadata": {
      "needs_background": "light"
     },
     "output_type": "display_data"
    }
   ],
   "source": [
    "# Create figure with [rows x cols] graphs\n",
    "cols = 5\n",
    "rows = len(quantity_cols)//cols + 1\n",
    "fig, axs = plt.subplots(rows, cols, figsize=(cols*3, rows*5))\n",
    "\n",
    "# Plot graphs\n",
    "i = 0\n",
    "for column in quantity_cols:\n",
    "    if rows == 1:\n",
    "        idx = i%cols\n",
    "    else:\n",
    "        idx = (i//cols, i%cols)\n",
    "    axs[idx].boxplot(data.loc[data[column].notna(), column], showmeans=True)\n",
    "    axs[idx].set_title(column)\n",
    "    i += 1"
   ]
  },
  {
   "cell_type": "markdown",
   "metadata": {},
   "source": [
    "Из графиков видно:\n",
    "- наблюдаются выбросы для количественных переменных 'age' и 'absences'.\n",
    "\n",
    "Проводим замену выбросов на NaN только для количественных переменных ('age', 'absences', 'score')"
   ]
  },
  {
   "cell_type": "code",
   "execution_count": 15,
   "metadata": {},
   "outputs": [
    {
     "name": "stdout",
     "output_type": "stream",
     "text": [
      "1   cells have been replaced with NaN in column 'age'\n",
      "17  cells have been replaced with NaN in column 'absences'\n"
     ]
    }
   ],
   "source": [
    "for column in quantity_cols:\n",
    "    # Calculate NaNs, Q1, Q3, IQR\n",
    "    NaN_count = data[column].isna().sum()\n",
    "    Q1 = data[column].quantile(0.25)\n",
    "    Q3 = data[column].quantile(0.75)\n",
    "    IQR = Q3 - Q1\n",
    "    \n",
    "    # Replace values\n",
    "    mask = data[column].between(Q1 - 1.5*IQR, Q3 + 1.5*IQR)\n",
    "    data[column].where(mask, inplace=True)\n",
    "\n",
    "    # Show the result\n",
    "    replaced_num = data[column].shape[0] - mask.sum() - NaN_count\n",
    "    if replaced_num:\n",
    "        print(f\"{str(replaced_num).ljust(3)} cells have been replaced with NaN in column '{column}'\")"
   ]
  },
  {
   "cell_type": "markdown",
   "metadata": {},
   "source": [
    "### Просмотр гистограмм (распределений)\n",
    "Просматриваем распределения числовых (количественных и ранговых) переменных"
   ]
  },
  {
   "cell_type": "code",
   "execution_count": 16,
   "metadata": {
    "scrolled": false
   },
   "outputs": [
    {
     "data": {
      "image/png": "[encoded data removed]",
      "text/plain": [
       "<Figure size 1080x1080 with 15 Axes>"
      ]
     },
     "metadata": {
      "needs_background": "light"
     },
     "output_type": "display_data"
    }
   ],
   "source": [
    "# Calculate number of graphs to plot\n",
    "graphs_num = 0\n",
    "for column in data.columns:\n",
    "    if data[column].dtype != 'O':\n",
    "        graphs_num += 1\n",
    "\n",
    "# Create figure with [rows x cols] graphs\n",
    "cols = 5\n",
    "rows = graphs_num//cols + 1\n",
    "fig, axs = plt.subplots(rows, cols, figsize=(cols*3, rows*5))\n",
    "\n",
    "# Plot graphs\n",
    "i = 0\n",
    "for column in data.columns:\n",
    "    if data[column].dtype != 'O':\n",
    "        if rows == 1:\n",
    "            idx = i%cols\n",
    "        else:\n",
    "            idx = (i//cols, i%cols)\n",
    "        axs[idx].hist(data.loc[data[column].notna(), column])\n",
    "        axs[idx].set_title(column)\n",
    "        i += 1"
   ]
  },
  {
   "cell_type": "markdown",
   "metadata": {},
   "source": [
    "Из графиков видно:\n",
    "- распределение отличается от нормального для переменных 'Medu', 'traveltime', 'failures', 'health', 'absences';\n",
    "- у переменной 'score' наблюдается разрыв значений между нулем и 20 баллами. Видимо все те, кто получил менее 20 баллов (или не явились на экзамен) имеют незачет, и их результат приравняли нулю."
   ]
  },
  {
   "cell_type": "markdown",
   "metadata": {},
   "source": [
    "### Корреляционный анализ\n",
    "Выясним, какие переменные коррелируют с набранным количеством баллов на госэкзамене по математике ('score'). Это поможет выявить переменные, которые стоит оставить для построения модели предсказания.\n",
    "\n",
    "Рассчитываем матрицу корреляций"
   ]
  },
  {
   "cell_type": "code",
   "execution_count": 17,
   "metadata": {
    "scrolled": false
   },
   "outputs": [
    {
     "data": {
      "text/html": [
       "<div>\n",
       "<style scoped>\n",
       "    .dataframe tbody tr th:only-of-type {\n",
       "        vertical-align: middle;\n",
       "    }\n",
       "\n",
       "    .dataframe tbody tr th {\n",
       "        vertical-align: top;\n",
       "    }\n",
       "\n",
       "    .dataframe thead th {\n",
       "        text-align: right;\n",
       "    }\n",
       "</style>\n",
       "<table border=\"1\" class=\"dataframe\">\n",
       "  <thead>\n",
       "    <tr style=\"text-align: right;\">\n",
       "      <th></th>\n",
       "      <th>age</th>\n",
       "      <th>Medu</th>\n",
       "      <th>Fedu</th>\n",
       "      <th>traveltime</th>\n",
       "      <th>studytime</th>\n",
       "      <th>failures</th>\n",
       "      <th>Gstudytime</th>\n",
       "      <th>famrel</th>\n",
       "      <th>freetime</th>\n",
       "      <th>goout</th>\n",
       "      <th>health</th>\n",
       "      <th>absences</th>\n",
       "      <th>score</th>\n",
       "    </tr>\n",
       "  </thead>\n",
       "  <tbody>\n",
       "    <tr>\n",
       "      <th>age</th>\n",
       "      <td>1.000000</td>\n",
       "      <td>-0.167883</td>\n",
       "      <td>-0.147779</td>\n",
       "      <td>0.090864</td>\n",
       "      <td>-0.002354</td>\n",
       "      <td>0.195891</td>\n",
       "      <td>0.002354</td>\n",
       "      <td>0.051487</td>\n",
       "      <td>0.021067</td>\n",
       "      <td>0.119997</td>\n",
       "      <td>-0.047402</td>\n",
       "      <td>0.129016</td>\n",
       "      <td>-0.153518</td>\n",
       "    </tr>\n",
       "    <tr>\n",
       "      <th>Medu</th>\n",
       "      <td>-0.167883</td>\n",
       "      <td>1.000000</td>\n",
       "      <td>0.629956</td>\n",
       "      <td>-0.173515</td>\n",
       "      <td>0.078589</td>\n",
       "      <td>-0.245463</td>\n",
       "      <td>-0.078589</td>\n",
       "      <td>-0.020896</td>\n",
       "      <td>0.025335</td>\n",
       "      <td>0.064164</td>\n",
       "      <td>-0.045051</td>\n",
       "      <td>0.065712</td>\n",
       "      <td>0.213349</td>\n",
       "    </tr>\n",
       "    <tr>\n",
       "      <th>Fedu</th>\n",
       "      <td>-0.147779</td>\n",
       "      <td>0.629956</td>\n",
       "      <td>1.000000</td>\n",
       "      <td>-0.155459</td>\n",
       "      <td>0.008603</td>\n",
       "      <td>-0.271936</td>\n",
       "      <td>-0.008603</td>\n",
       "      <td>-0.035788</td>\n",
       "      <td>-0.021415</td>\n",
       "      <td>0.046581</td>\n",
       "      <td>0.022588</td>\n",
       "      <td>-0.021415</td>\n",
       "      <td>0.130002</td>\n",
       "    </tr>\n",
       "    <tr>\n",
       "      <th>traveltime</th>\n",
       "      <td>0.090864</td>\n",
       "      <td>-0.173515</td>\n",
       "      <td>-0.155459</td>\n",
       "      <td>1.000000</td>\n",
       "      <td>-0.102206</td>\n",
       "      <td>0.064699</td>\n",
       "      <td>0.102206</td>\n",
       "      <td>-0.028220</td>\n",
       "      <td>-0.021937</td>\n",
       "      <td>0.037636</td>\n",
       "      <td>-0.021531</td>\n",
       "      <td>-0.047995</td>\n",
       "      <td>-0.070559</td>\n",
       "    </tr>\n",
       "    <tr>\n",
       "      <th>studytime</th>\n",
       "      <td>-0.002354</td>\n",
       "      <td>0.078589</td>\n",
       "      <td>0.008603</td>\n",
       "      <td>-0.102206</td>\n",
       "      <td>1.000000</td>\n",
       "      <td>-0.178992</td>\n",
       "      <td>-1.000000</td>\n",
       "      <td>0.028918</td>\n",
       "      <td>-0.121969</td>\n",
       "      <td>-0.051280</td>\n",
       "      <td>-0.080016</td>\n",
       "      <td>-0.078099</td>\n",
       "      <td>0.115741</td>\n",
       "    </tr>\n",
       "    <tr>\n",
       "      <th>failures</th>\n",
       "      <td>0.195891</td>\n",
       "      <td>-0.245463</td>\n",
       "      <td>-0.271936</td>\n",
       "      <td>0.064699</td>\n",
       "      <td>-0.178992</td>\n",
       "      <td>1.000000</td>\n",
       "      <td>0.178992</td>\n",
       "      <td>0.011942</td>\n",
       "      <td>0.098382</td>\n",
       "      <td>0.120914</td>\n",
       "      <td>0.081284</td>\n",
       "      <td>0.081801</td>\n",
       "      <td>-0.344338</td>\n",
       "    </tr>\n",
       "    <tr>\n",
       "      <th>Gstudytime</th>\n",
       "      <td>0.002354</td>\n",
       "      <td>-0.078589</td>\n",
       "      <td>-0.008603</td>\n",
       "      <td>0.102206</td>\n",
       "      <td>-1.000000</td>\n",
       "      <td>0.178992</td>\n",
       "      <td>1.000000</td>\n",
       "      <td>-0.028918</td>\n",
       "      <td>0.121969</td>\n",
       "      <td>0.051280</td>\n",
       "      <td>0.080016</td>\n",
       "      <td>0.078099</td>\n",
       "      <td>-0.115741</td>\n",
       "    </tr>\n",
       "    <tr>\n",
       "      <th>famrel</th>\n",
       "      <td>0.051487</td>\n",
       "      <td>-0.020896</td>\n",
       "      <td>-0.035788</td>\n",
       "      <td>-0.028220</td>\n",
       "      <td>0.028918</td>\n",
       "      <td>0.011942</td>\n",
       "      <td>-0.028918</td>\n",
       "      <td>1.000000</td>\n",
       "      <td>0.164324</td>\n",
       "      <td>0.069241</td>\n",
       "      <td>0.097910</td>\n",
       "      <td>-0.073509</td>\n",
       "      <td>0.051219</td>\n",
       "    </tr>\n",
       "    <tr>\n",
       "      <th>freetime</th>\n",
       "      <td>0.021067</td>\n",
       "      <td>0.025335</td>\n",
       "      <td>-0.021415</td>\n",
       "      <td>-0.021937</td>\n",
       "      <td>-0.121969</td>\n",
       "      <td>0.098382</td>\n",
       "      <td>0.121969</td>\n",
       "      <td>0.164324</td>\n",
       "      <td>1.000000</td>\n",
       "      <td>0.296437</td>\n",
       "      <td>0.061575</td>\n",
       "      <td>0.093436</td>\n",
       "      <td>0.019026</td>\n",
       "    </tr>\n",
       "    <tr>\n",
       "      <th>goout</th>\n",
       "      <td>0.119997</td>\n",
       "      <td>0.064164</td>\n",
       "      <td>0.046581</td>\n",
       "      <td>0.037636</td>\n",
       "      <td>-0.051280</td>\n",
       "      <td>0.120914</td>\n",
       "      <td>0.051280</td>\n",
       "      <td>0.069241</td>\n",
       "      <td>0.296437</td>\n",
       "      <td>1.000000</td>\n",
       "      <td>-0.015608</td>\n",
       "      <td>0.111587</td>\n",
       "      <td>-0.129685</td>\n",
       "    </tr>\n",
       "    <tr>\n",
       "      <th>health</th>\n",
       "      <td>-0.047402</td>\n",
       "      <td>-0.045051</td>\n",
       "      <td>0.022588</td>\n",
       "      <td>-0.021531</td>\n",
       "      <td>-0.080016</td>\n",
       "      <td>0.081284</td>\n",
       "      <td>0.080016</td>\n",
       "      <td>0.097910</td>\n",
       "      <td>0.061575</td>\n",
       "      <td>-0.015608</td>\n",
       "      <td>1.000000</td>\n",
       "      <td>-0.014358</td>\n",
       "      <td>-0.070460</td>\n",
       "    </tr>\n",
       "    <tr>\n",
       "      <th>absences</th>\n",
       "      <td>0.129016</td>\n",
       "      <td>0.065712</td>\n",
       "      <td>-0.021415</td>\n",
       "      <td>-0.047995</td>\n",
       "      <td>-0.078099</td>\n",
       "      <td>0.081801</td>\n",
       "      <td>0.078099</td>\n",
       "      <td>-0.073509</td>\n",
       "      <td>0.093436</td>\n",
       "      <td>0.111587</td>\n",
       "      <td>-0.014358</td>\n",
       "      <td>1.000000</td>\n",
       "      <td>0.081274</td>\n",
       "    </tr>\n",
       "    <tr>\n",
       "      <th>score</th>\n",
       "      <td>-0.153518</td>\n",
       "      <td>0.213349</td>\n",
       "      <td>0.130002</td>\n",
       "      <td>-0.070559</td>\n",
       "      <td>0.115741</td>\n",
       "      <td>-0.344338</td>\n",
       "      <td>-0.115741</td>\n",
       "      <td>0.051219</td>\n",
       "      <td>0.019026</td>\n",
       "      <td>-0.129685</td>\n",
       "      <td>-0.070460</td>\n",
       "      <td>0.081274</td>\n",
       "      <td>1.000000</td>\n",
       "    </tr>\n",
       "  </tbody>\n",
       "</table>\n",
       "</div>"
      ],
      "text/plain": [
       "                 age      Medu      Fedu  traveltime  studytime  failures  \\\n",
       "age         1.000000 -0.167883 -0.147779    0.090864  -0.002354  0.195891   \n",
       "Medu       -0.167883  1.000000  0.629956   -0.173515   0.078589 -0.245463   \n",
       "Fedu       -0.147779  0.629956  1.000000   -0.155459   0.008603 -0.271936   \n",
       "traveltime  0.090864 -0.173515 -0.155459    1.000000  -0.102206  0.064699   \n",
       "studytime  -0.002354  0.078589  0.008603   -0.102206   1.000000 -0.178992   \n",
       "failures    0.195891 -0.245463 -0.271936    0.064699  -0.178992  1.000000   \n",
       "Gstudytime  0.002354 -0.078589 -0.008603    0.102206  -1.000000  0.178992   \n",
       "famrel      0.051487 -0.020896 -0.035788   -0.028220   0.028918  0.011942   \n",
       "freetime    0.021067  0.025335 -0.021415   -0.021937  -0.121969  0.098382   \n",
       "goout       0.119997  0.064164  0.046581    0.037636  -0.051280  0.120914   \n",
       "health     -0.047402 -0.045051  0.022588   -0.021531  -0.080016  0.081284   \n",
       "absences    0.129016  0.065712 -0.021415   -0.047995  -0.078099  0.081801   \n",
       "score      -0.153518  0.213349  0.130002   -0.070559   0.115741 -0.344338   \n",
       "\n",
       "            Gstudytime    famrel  freetime     goout    health  absences  \\\n",
       "age           0.002354  0.051487  0.021067  0.119997 -0.047402  0.129016   \n",
       "Medu         -0.078589 -0.020896  0.025335  0.064164 -0.045051  0.065712   \n",
       "Fedu         -0.008603 -0.035788 -0.021415  0.046581  0.022588 -0.021415   \n",
       "traveltime    0.102206 -0.028220 -0.021937  0.037636 -0.021531 -0.047995   \n",
       "studytime    -1.000000  0.028918 -0.121969 -0.051280 -0.080016 -0.078099   \n",
       "failures      0.178992  0.011942  0.098382  0.120914  0.081284  0.081801   \n",
       "Gstudytime    1.000000 -0.028918  0.121969  0.051280  0.080016  0.078099   \n",
       "famrel       -0.028918  1.000000  0.164324  0.069241  0.097910 -0.073509   \n",
       "freetime      0.121969  0.164324  1.000000  0.296437  0.061575  0.093436   \n",
       "goout         0.051280  0.069241  0.296437  1.000000 -0.015608  0.111587   \n",
       "health        0.080016  0.097910  0.061575 -0.015608  1.000000 -0.014358   \n",
       "absences      0.078099 -0.073509  0.093436  0.111587 -0.014358  1.000000   \n",
       "score        -0.115741  0.051219  0.019026 -0.129685 -0.070460  0.081274   \n",
       "\n",
       "               score  \n",
       "age        -0.153518  \n",
       "Medu        0.213349  \n",
       "Fedu        0.130002  \n",
       "traveltime -0.070559  \n",
       "studytime   0.115741  \n",
       "failures   -0.344338  \n",
       "Gstudytime -0.115741  \n",
       "famrel      0.051219  \n",
       "freetime    0.019026  \n",
       "goout      -0.129685  \n",
       "health     -0.070460  \n",
       "absences    0.081274  \n",
       "score       1.000000  "
      ]
     },
     "execution_count": 17,
     "metadata": {},
     "output_type": "execute_result"
    }
   ],
   "source": [
    "corr_table = data.corr()\n",
    "corr_table"
   ]
  },
  {
   "cell_type": "code",
   "execution_count": 18,
   "metadata": {},
   "outputs": [
    {
     "data": {
      "image/png": "[encoded data removed]",
      "text/plain": [
       "<Figure size 720x360 with 2 Axes>"
      ]
     },
     "metadata": {
      "needs_background": "light"
     },
     "output_type": "display_data"
    }
   ],
   "source": [
    "plt.subplots(figsize=(10, 5))\n",
    "sns.heatmap(corr_table, cmap=\"RdBu\");"
   ]
  },
  {
   "cell_type": "markdown",
   "metadata": {},
   "source": [
    "Из полученных значений видно:\n",
    "- переменная 'Gstudytime' полностью коррелирует с переменной 'studytime', а значит, одну из них можно удалить;\n",
    "- сильно коррелируют переменные 'Fedu' и 'Medu'.\n",
    "\n",
    "Удаляем переменную 'Gstudytime'"
   ]
  },
  {
   "cell_type": "code",
   "execution_count": 19,
   "metadata": {},
   "outputs": [],
   "source": [
    "data.drop(columns='Gstudytime', inplace=True)"
   ]
  },
  {
   "cell_type": "markdown",
   "metadata": {},
   "source": [
    "Сортируем значения корреляций со 'score' по модулю"
   ]
  },
  {
   "cell_type": "code",
   "execution_count": 20,
   "metadata": {},
   "outputs": [
    {
     "data": {
      "text/plain": [
       "score         1.000000\n",
       "failures      0.344338\n",
       "Medu          0.213349\n",
       "age           0.153518\n",
       "Fedu          0.130002\n",
       "goout         0.129685\n",
       "studytime     0.115741\n",
       "Gstudytime    0.115741\n",
       "absences      0.081274\n",
       "traveltime    0.070559\n",
       "health        0.070460\n",
       "famrel        0.051219\n",
       "freetime      0.019026\n",
       "Name: score, dtype: float64"
      ]
     },
     "execution_count": 20,
     "metadata": {},
     "output_type": "execute_result"
    }
   ],
   "source": [
    "corr_table['score'].abs().sort_values(ascending=False)"
   ]
  },
  {
   "cell_type": "markdown",
   "metadata": {},
   "source": [
    "Из полученных значений видно:\n",
    "- переменная набранных баллов 'score' почти не коррелирует с переменной свободного времени ученика 'freetime'.\n",
    "\n",
    "Удаляем переменную 'freetime'"
   ]
  },
  {
   "cell_type": "code",
   "execution_count": 21,
   "metadata": {},
   "outputs": [],
   "source": [
    "data.drop(columns='freetime', inplace=True)"
   ]
  },
  {
   "cell_type": "markdown",
   "metadata": {},
   "source": [
    "### Анализ номинативных переменных\n",
    "Очевидно, что для номинативных переменных использовать корреляционный анализ не получится. Однако можно посмотреть, различается ли распределение баллов по госэкзамену 'score' в зависимости от значения этих переменных.\n",
    "\n",
    "С помощью теста Стьюдента проверим есть ли статистически значимая разница в распределении 'score' для разных значений номинативных переменных.\n",
    "\n",
    "Проверяем нулевую гипотезу о том, что распределения 'score' по различным значениям номинативных переменных неразличимы"
   ]
  },
  {
   "cell_type": "code",
   "execution_count": 22,
   "metadata": {},
   "outputs": [
    {
     "name": "stdout",
     "output_type": "stream",
     "text": [
      "Statistically significant differences have NOT been found for columns:\n",
      "'school'\n",
      "'sex'\n",
      "'famsize'\n",
      "'Pstatus'\n",
      "'Fjob'\n",
      "'reason'\n",
      "'guardian'\n",
      "'schoolsup'\n",
      "'famsup'\n",
      "'paid'\n",
      "'activities'\n",
      "'nursery'\n",
      "'internet'\n"
     ]
    }
   ],
   "source": [
    "not_signif_columns = []\n",
    "for column in data.columns:\n",
    "    if data[column].dtype == 'O':\n",
    "        top10_values = data[column].value_counts().index[:10]\n",
    "        combs = list(combinations(top10_values, 2))\n",
    "        for comb in combs:\n",
    "            if ttest_ind(data.loc[(data[column] == comb[0]) & (data['score'].notna()), 'score'], \n",
    "                         data.loc[(data[column] == comb[1]) & (data['score'].notna()), 'score']). \\\n",
    "                            pvalue <= 0.05/len(combs): # Bonferroni correction\n",
    "                break\n",
    "        else:\n",
    "            not_signif_columns.append(column)\n",
    "            \n",
    "print('Statistically significant differences have NOT been found for columns:')\n",
    "for column in not_signif_columns:\n",
    "    print(f\"'{column}'\")"
   ]
  },
  {
   "cell_type": "markdown",
   "metadata": {},
   "source": [
    "Удаляем переменные, для которых не найдены статистически значимые различия"
   ]
  },
  {
   "cell_type": "code",
   "execution_count": 23,
   "metadata": {},
   "outputs": [],
   "source": [
    "data.drop(columns=not_signif_columns, inplace=True)"
   ]
  },
  {
   "cell_type": "markdown",
   "metadata": {},
   "source": [
    "Строим боксплоты распределения 'score' для разных значений номинативных переменных, которые мы оставили"
   ]
  },
  {
   "cell_type": "code",
   "execution_count": 24,
   "metadata": {},
   "outputs": [
    {
     "data": {
      "image/png": "[encoded data removed]",
      "text/plain": [
       "<Figure size 720x288 with 1 Axes>"
      ]
     },
     "metadata": {
      "needs_background": "light"
     },
     "output_type": "display_data"
    },
    {
     "data": {
      "image/png": "[encoded data removed]",
      "text/plain": [
       "<Figure size 720x288 with 1 Axes>"
      ]
     },
     "metadata": {
      "needs_background": "light"
     },
     "output_type": "display_data"
    },
    {
     "data": {
      "image/png": "[encoded data removed]",
      "text/plain": [
       "<Figure size 720x288 with 1 Axes>"
      ]
     },
     "metadata": {
      "needs_background": "light"
     },
     "output_type": "display_data"
    },
    {
     "data": {
      "image/png": "[encoded data removed]",
      "text/plain": [
       "<Figure size 720x288 with 1 Axes>"
      ]
     },
     "metadata": {
      "needs_background": "light"
     },
     "output_type": "display_data"
    }
   ],
   "source": [
    "for column in data.columns:\n",
    "    if data[column].dtype == 'O':\n",
    "        fig, ax = plt.subplots(figsize=(10, 4))\n",
    "        sns.boxplot(x=column,\n",
    "                    y='score', \n",
    "                    data=data[data[column].isin(data[column].value_counts().index[:10])],\n",
    "                    ax=ax)\n",
    "        plt.xticks(rotation=45)\n",
    "        plt.show()"
   ]
  },
  {
   "cell_type": "markdown",
   "metadata": {},
   "source": [
    "Выведем все переменные, которые, возможно, оказывают влияние на количество баллов на госэкзамене по математике"
   ]
  },
  {
   "cell_type": "code",
   "execution_count": 25,
   "metadata": {},
   "outputs": [
    {
     "name": "stdout",
     "output_type": "stream",
     "text": [
      "['age', 'address', 'Medu', 'Fedu', 'Mjob', 'traveltime', 'studytime', 'failures', 'higher', 'romantic', 'famrel', 'goout', 'health', 'absences']\n"
     ]
    }
   ],
   "source": [
    "signif_columns = list(data.columns)\n",
    "signif_columns.remove('score')\n",
    "print(signif_columns)"
   ]
  },
  {
   "cell_type": "markdown",
   "metadata": {},
   "source": [
    "### Результаты EDA\n",
    "Итак, в результате анализа влияния параметров ученика на количество набранных им баллов на госэкзамене по математике можно сделать следующие выводы:\n",
    "\n",
    "1. Данные можно считать достаточно чистыми, так как:\n",
    "    - максимальная доля пустых значений - 10,1 % (у переменной 'paid');\n",
    "    - присутствует всего 2 неверных значения (одно у переменной 'Fedu' и одно у 'famrel').\n",
    "2. Максимальное количество выбросов - 17 (у количественной переменной 'absences').\n",
    "3. Положительная корреляция имеется с переменными (по убыванию корреляции): 'Medu', 'Fedu', 'studytime', 'absences', 'famrel'. Здесь неожиданной оказалась положительная корреляция с количеством пропущенных занятий 'absences'.\n",
    "4. Отрицательная корреляция имеется с переменными (по убыванию корреляции): 'failures', 'age', 'goout', 'traveltime', 'health'. Здесь неочевидными оказались отрицательные корреляции с возрастом 'age' и здоровьем 'health'.\n",
    "5. Важные для построения модели номинативные переменные: 'address', 'Mjob', 'higher', 'romantic'."
   ]
  }
 ],
 "metadata": {
  "kernelspec": {
   "display_name": "Python 3",
   "language": "python",
   "name": "python3"
  },
  "language_info": {
   "codemirror_mode": {
    "name": "ipython",
    "version": 3
   },
   "file_extension": ".py",
   "mimetype": "text/x-python",
   "name": "python",
   "nbconvert_exporter": "python",
   "pygments_lexer": "ipython3",
   "version": "3.7.6"
  },
  "varInspector": {
   "cols": {
    "lenName": 16,
    "lenType": 16,
    "lenVar": 40
   },
   "kernels_config": {
    "python": {
     "delete_cmd_postfix": "",
     "delete_cmd_prefix": "del ",
     "library": "var_list.py",
     "varRefreshCmd": "print(var_dic_list())"
    },
    "r": {
     "delete_cmd_postfix": ") ",
     "delete_cmd_prefix": "rm(",
     "library": "var_list.r",
     "varRefreshCmd": "cat(var_dic_list()) "
    }
   },
   "oldHeight": 222,
   "position": {
    "height": "232px",
    "left": "913px",
    "right": "20px",
    "top": "67px",
    "width": "432px"
   },
   "types_to_exclude": [
    "module",
    "function",
    "builtin_function_or_method",
    "instance",
    "_Feature"
   ],
   "varInspector_section_display": "block",
   "window_display": false
  }
 },
 "nbformat": 4,
 "nbformat_minor": 4
}
