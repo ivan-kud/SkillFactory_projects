{
 "cells": [
  {
   "cell_type": "markdown",
   "metadata": {
    "papermill": {
     "duration": 0.031059,
     "end_time": "2021-02-16T17:17:50.409803",
     "exception": false,
     "start_time": "2021-02-16T17:17:50.378744",
     "status": "completed"
    },
    "tags": []
   },
   "source": [
    "# George image classification\n",
    "**Profect description:** George classification by image.\n",
    "# Work plan\n",
    "- EDA.\n",
    "- Data augmentation.\n",
    "- Picking EfficientNet learned on ImageNet dataset.\n",
    "- Fine-tuning.\n",
    "- Evaluation."
   ]
  },
  {
   "cell_type": "code",
   "execution_count": 1,
   "metadata": {
    "execution": {
     "iopub.execute_input": "2021-02-16T17:17:50.472267Z",
     "iopub.status.busy": "2021-02-16T17:17:50.471628Z",
     "iopub.status.idle": "2021-02-16T17:17:51.702530Z",
     "shell.execute_reply": "2021-02-16T17:17:51.701935Z"
    },
    "papermill": {
     "duration": 1.264417,
     "end_time": "2021-02-16T17:17:51.702727",
     "exception": false,
     "start_time": "2021-02-16T17:17:50.438310",
     "status": "completed"
    },
    "tags": []
   },
   "outputs": [
    {
     "name": "stdout",
     "output_type": "stream",
     "text": [
      "Tue Feb 16 17:17:51 2021       \r\n",
      "+-----------------------------------------------------------------------------+\r\n",
      "| NVIDIA-SMI 450.51.06    Driver Version: 450.51.06    CUDA Version: 11.0     |\r\n",
      "|-------------------------------+----------------------+----------------------+\r\n",
      "| GPU  Name        Persistence-M| Bus-Id        Disp.A | Volatile Uncorr. ECC |\r\n",
      "| Fan  Temp  Perf  Pwr:Usage/Cap|         Memory-Usage | GPU-Util  Compute M. |\r\n",
      "|                               |                      |               MIG M. |\r\n",
      "|===============================+======================+======================|\r\n",
      "|   0  Tesla P100-PCIE...  Off  | 00000000:00:04.0 Off |                    0 |\r\n",
      "| N/A   36C    P0    27W / 250W |      0MiB / 16280MiB |      0%      Default |\r\n",
      "|                               |                      |                  N/A |\r\n",
      "+-------------------------------+----------------------+----------------------+\r\n",
      "                                                                               \r\n",
      "+-----------------------------------------------------------------------------+\r\n",
      "| Processes:                                                                  |\r\n",
      "|  GPU   GI   CI        PID   Type   Process name                  GPU Memory |\r\n",
      "|        ID   ID                                                   Usage      |\r\n",
      "|=============================================================================|\r\n",
      "|  No running processes found                                                 |\r\n",
      "+-----------------------------------------------------------------------------+\r\n"
     ]
    }
   ],
   "source": [
    "# Show GPU card characteristics\n",
    "!nvidia-smi"
   ]
  },
  {
   "cell_type": "code",
   "execution_count": null,
   "metadata": {
    "_kg_hide-output": true,
    "execution": {
     "iopub.execute_input": "2021-02-16T17:17:51.771202Z",
     "iopub.status.busy": "2021-02-16T17:17:51.766813Z",
     "iopub.status.idle": "2021-02-16T17:18:01.961991Z",
     "shell.execute_reply": "2021-02-16T17:18:01.960939Z"
    },
    "papermill": {
     "duration": 10.228794,
     "end_time": "2021-02-16T17:18:01.962138",
     "exception": false,
     "start_time": "2021-02-16T17:17:51.733344",
     "status": "completed"
    },
    "tags": []
   },
   "outputs": [],
   "source": [
    "# Install  libraries\n",
    "!pip install git+https://github.com/mjkvaak/ImageDataAugmentor"
   ]
  },
  {
   "cell_type": "code",
   "execution_count": 3,
   "metadata": {
    "_cell_guid": "79c7e3d0-c299-4dcb-8224-4455121ee9b0",
    "_kg_hide-input": false,
    "_uuid": "d629ff2d2480ee46fbb7e2d37f6b5fab8052498a",
    "execution": {
     "iopub.execute_input": "2021-02-16T17:18:02.033251Z",
     "iopub.status.busy": "2021-02-16T17:18:02.032490Z",
     "iopub.status.idle": "2021-02-16T17:18:08.870790Z",
     "shell.execute_reply": "2021-02-16T17:18:08.871658Z"
    },
    "papermill": {
     "duration": 6.878256,
     "end_time": "2021-02-16T17:18:08.871909",
     "exception": false,
     "start_time": "2021-02-16T17:18:01.993653",
     "status": "completed"
    },
    "tags": []
   },
   "outputs": [
    {
     "name": "stdout",
     "output_type": "stream",
     "text": [
      "Python:          3.7.9 | packaged by conda-forge | (default, Dec  9 2020, 21:08:20) \n",
      "Numpy:           1.19.5\n",
      "Pandas:          1.1.5\n",
      "TensorFlow:      2.4.1\n",
      "Keras:           2.4.0\n"
     ]
    }
   ],
   "source": [
    "import collections\n",
    "import math\n",
    "import os\n",
    "import requests\n",
    "import shutil\n",
    "import sys\n",
    "from pathlib import Path\n",
    "\n",
    "import albumentations as A\n",
    "import matplotlib.pyplot as plt\n",
    "import numpy as np\n",
    "import pandas as pd\n",
    "import PIL\n",
    "import tensorflow as tf\n",
    "from ImageDataAugmentor.image_data_augmentor import ImageDataAugmentor\n",
    "from sklearn.model_selection import train_test_split\n",
    "from tqdm import tqdm\n",
    "from tensorflow.keras import Sequential\n",
    "from tensorflow.keras.applications import EfficientNetB4\n",
    "from tensorflow.keras.backend import clear_session\n",
    "from tensorflow.keras.callbacks import LearningRateScheduler, ModelCheckpoint, EarlyStopping\n",
    "from tensorflow.keras.layers import Dense, Dropout, GlobalAveragePooling2D\n",
    "from tensorflow.keras.optimizers import Adam\n",
    "\n",
    "\n",
    "print('Python:'.ljust(16), sys.version.split('\\n')[0])\n",
    "print('Numpy:'.ljust(16), np.__version__)\n",
    "print('Pandas:'.ljust(16), pd.__version__)\n",
    "print('TensorFlow:'.ljust(16), tf.__version__)\n",
    "print('Keras:'.ljust(16), tf.keras.__version__)"
   ]
  },
  {
   "cell_type": "code",
   "execution_count": 4,
   "metadata": {
    "execution": {
     "iopub.execute_input": "2021-02-16T17:18:08.940656Z",
     "iopub.status.busy": "2021-02-16T17:18:08.940153Z",
     "iopub.status.idle": "2021-02-16T17:18:09.247611Z",
     "shell.execute_reply": "2021-02-16T17:18:09.247197Z"
    },
    "papermill": {
     "duration": 0.343774,
     "end_time": "2021-02-16T17:18:09.247744",
     "exception": false,
     "start_time": "2021-02-16T17:18:08.903970",
     "status": "completed"
    },
    "tags": []
   },
   "outputs": [
    {
     "name": "stdout",
     "output_type": "stream",
     "text": [
      "/kaggle/input/georges/non_georges.csv\n",
      "/kaggle/input/georges/georges.csv\n"
     ]
    },
    {
     "ename": "FileNotFoundError",
     "evalue": "[Errno 2] No such file or directory: '/kaggle/input/george-image-classification'",
     "output_type": "error",
     "traceback": [
      "\u001b[0;31m---------------------------------------------------------------------------\u001b[0m",
      "\u001b[0;31mFileNotFoundError\u001b[0m                         Traceback (most recent call last)",
      "\u001b[0;32m<ipython-input-4-a20168725091>\u001b[0m in \u001b[0;36m<module>\u001b[0;34m\u001b[0m\n\u001b[1;32m      5\u001b[0m \u001b[0;34m\u001b[0m\u001b[0m\n\u001b[1;32m      6\u001b[0m \u001b[0mdirname\u001b[0m \u001b[0;34m=\u001b[0m \u001b[0;34m'/kaggle/input/george-image-classification'\u001b[0m\u001b[0;34m\u001b[0m\u001b[0;34m\u001b[0m\u001b[0m\n\u001b[0;32m----> 7\u001b[0;31m \u001b[0;32mfor\u001b[0m \u001b[0mentryname\u001b[0m \u001b[0;32min\u001b[0m \u001b[0mos\u001b[0m\u001b[0;34m.\u001b[0m\u001b[0mlistdir\u001b[0m\u001b[0;34m(\u001b[0m\u001b[0mdirname\u001b[0m\u001b[0;34m)\u001b[0m\u001b[0;34m:\u001b[0m\u001b[0;34m\u001b[0m\u001b[0;34m\u001b[0m\u001b[0m\n\u001b[0m\u001b[1;32m      8\u001b[0m     \u001b[0mprint\u001b[0m\u001b[0;34m(\u001b[0m\u001b[0mos\u001b[0m\u001b[0;34m.\u001b[0m\u001b[0mpath\u001b[0m\u001b[0;34m.\u001b[0m\u001b[0mjoin\u001b[0m\u001b[0;34m(\u001b[0m\u001b[0mdirname\u001b[0m\u001b[0;34m,\u001b[0m \u001b[0mentryname\u001b[0m\u001b[0;34m)\u001b[0m\u001b[0;34m)\u001b[0m\u001b[0;34m\u001b[0m\u001b[0;34m\u001b[0m\u001b[0m\n\u001b[1;32m      9\u001b[0m \u001b[0;34m\u001b[0m\u001b[0m\n",
      "\u001b[0;31mFileNotFoundError\u001b[0m: [Errno 2] No such file or directory: '/kaggle/input/george-image-classification'"
     ]
    }
   ],
   "source": [
    "# View input files\n",
    "dirname = '/kaggle/input/georges'\n",
    "for entryname in os.listdir(dirname):\n",
    "    print(os.path.join(dirname, entryname))\n",
    "    \n",
    "dirname = '/kaggle/input/george-image-classification'\n",
    "for entryname in os.listdir(dirname):\n",
    "    print(os.path.join(dirname, entryname))\n",
    "\n",
    "for dirname, _, filenames in os.walk('/kaggle/working'):\n",
    "    for filename in filenames:\n",
    "        print(os.path.join(dirname, filename))"
   ]
  },
  {
   "cell_type": "code",
   "execution_count": 5,
   "metadata": {
    "_kg_hide-input": false,
    "execution": {
     "iopub.execute_input": "2021-02-16T17:18:09.316308Z",
     "iopub.status.busy": "2021-02-16T17:18:09.315572Z",
     "iopub.status.idle": "2021-02-16T17:18:10.975132Z",
     "shell.execute_reply": "2021-02-16T17:18:10.974597Z"
    },
    "papermill": {
     "duration": 1.695111,
     "end_time": "2021-02-16T17:18:10.975268",
     "exception": false,
     "start_time": "2021-02-16T17:18:09.280157",
     "status": "completed"
    },
    "tags": []
   },
   "outputs": [],
   "source": [
    "# Save requirements\n",
    "!pip freeze > requirements.txt"
   ]
  },
  {
   "cell_type": "code",
   "execution_count": 6,
   "metadata": {
    "execution": {
     "iopub.execute_input": "2021-02-16T17:18:11.046887Z",
     "iopub.status.busy": "2021-02-16T17:18:11.046184Z",
     "iopub.status.idle": "2021-02-16T17:18:11.049080Z",
     "shell.execute_reply": "2021-02-16T17:18:11.048656Z"
    },
    "papermill": {
     "duration": 0.040584,
     "end_time": "2021-02-16T17:18:11.049189",
     "exception": false,
     "start_time": "2021-02-16T17:18:11.008605",
     "status": "completed"
    },
    "tags": []
   },
   "outputs": [],
   "source": [
    "# G L O B A L   C O N S T A N T S\n",
    "RANDOM_SEED          = 42    # Random seed\n",
    "np.random.seed(RANDOM_SEED)  \n",
    "\n",
    "EPOCHS               = 30    # Epochs to learn\n",
    "BATCH_SIZE           = 64    # Batch size to learn\n",
    "VALIDATION_SPLIT     = 0.15  # Fraction of images reserved for validation (strictly between 0 and 1)\n",
    "LR_FACTOR            = 0.95  # Factor for decreasing learning rate every training epoch\n",
    "\n",
    "CLASS_NUM            = 1     # Number of classes (1 for binary)\n",
    "IMG_SIZE             = 256   # Image size for network input\n",
    "IMG_CHANNELS         = 3     # Image channels (3 channels in RGB)\n",
    "INPUT_SHAPE          = (IMG_SIZE, IMG_SIZE, IMG_CHANNELS)\n",
    "\n",
    "DATA_PATH = '../input/georges/' # DataFrame data directory\n",
    "IMAGE_PATH = '../input/georges-img/images/' # Image data directory\n",
    "WORKING_PATH = '../working/temp/' # Working directory"
   ]
  },
  {
   "cell_type": "markdown",
   "metadata": {
    "papermill": {
     "duration": 0.032549,
     "end_time": "2021-02-16T17:18:11.113949",
     "exception": false,
     "start_time": "2021-02-16T17:18:11.081400",
     "status": "completed"
    },
    "tags": []
   },
   "source": [
    "Create directories"
   ]
  },
  {
   "cell_type": "code",
   "execution_count": 7,
   "metadata": {
    "execution": {
     "iopub.execute_input": "2021-02-16T17:18:11.182687Z",
     "iopub.status.busy": "2021-02-16T17:18:11.182160Z",
     "iopub.status.idle": "2021-02-16T17:18:11.185155Z",
     "shell.execute_reply": "2021-02-16T17:18:11.184627Z"
    },
    "papermill": {
     "duration": 0.038745,
     "end_time": "2021-02-16T17:18:11.185258",
     "exception": false,
     "start_time": "2021-02-16T17:18:11.146513",
     "status": "completed"
    },
    "tags": []
   },
   "outputs": [],
   "source": [
    "Path(WORKING_PATH).mkdir(parents=True, exist_ok=True)"
   ]
  },
  {
   "cell_type": "markdown",
   "metadata": {
    "papermill": {
     "duration": 0.03359,
     "end_time": "2021-02-16T17:18:11.251243",
     "exception": false,
     "start_time": "2021-02-16T17:18:11.217653",
     "status": "completed"
    },
    "tags": []
   },
   "source": [
    "# EDA\n",
    "### Read DataFrames"
   ]
  },
  {
   "cell_type": "code",
   "execution_count": 8,
   "metadata": {
    "execution": {
     "iopub.execute_input": "2021-02-16T17:18:11.323195Z",
     "iopub.status.busy": "2021-02-16T17:18:11.322678Z",
     "iopub.status.idle": "2021-02-16T17:18:11.388609Z",
     "shell.execute_reply": "2021-02-16T17:18:11.387654Z"
    },
    "papermill": {
     "duration": 0.105257,
     "end_time": "2021-02-16T17:18:11.388747",
     "exception": false,
     "start_time": "2021-02-16T17:18:11.283490",
     "status": "completed"
    },
    "tags": []
   },
   "outputs": [
    {
     "data": {
      "text/html": [
       "<div>\n",
       "<style scoped>\n",
       "    .dataframe tbody tr th:only-of-type {\n",
       "        vertical-align: middle;\n",
       "    }\n",
       "\n",
       "    .dataframe tbody tr th {\n",
       "        vertical-align: top;\n",
       "    }\n",
       "\n",
       "    .dataframe thead th {\n",
       "        text-align: right;\n",
       "    }\n",
       "</style>\n",
       "<table border=\"1\" class=\"dataframe\">\n",
       "  <thead>\n",
       "    <tr style=\"text-align: right;\">\n",
       "      <th></th>\n",
       "      <th>url</th>\n",
       "      <th>name</th>\n",
       "      <th>label</th>\n",
       "    </tr>\n",
       "  </thead>\n",
       "  <tbody>\n",
       "    <tr>\n",
       "      <th>0</th>\n",
       "      <td>https://i.pinimg.com/736x/17/0d/5b/170d5b93d80...</td>\n",
       "      <td>170d5b93d80d247be60f22ca1216bef7.jpg</td>\n",
       "      <td>1</td>\n",
       "    </tr>\n",
       "    <tr>\n",
       "      <th>1</th>\n",
       "      <td>https://i.pinimg.com/736x/47/b9/9a/47b99a2ddcd...</td>\n",
       "      <td>47b99a2ddcde2cf9e62b4faeec2fdf20.jpg</td>\n",
       "      <td>1</td>\n",
       "    </tr>\n",
       "    <tr>\n",
       "      <th>2</th>\n",
       "      <td>https://i.pinimg.com/736x/90/e8/90/90e890f054b...</td>\n",
       "      <td>90e890f054b920308987c140125c9d19.jpg</td>\n",
       "      <td>1</td>\n",
       "    </tr>\n",
       "    <tr>\n",
       "      <th>3</th>\n",
       "      <td>https://i.pinimg.com/736x/0a/71/6f/0a716f6f14e...</td>\n",
       "      <td>0a716f6f14eea3adc30e0944a7123759.jpg</td>\n",
       "      <td>1</td>\n",
       "    </tr>\n",
       "    <tr>\n",
       "      <th>4</th>\n",
       "      <td>https://i.pinimg.com/736x/f1/95/be/f195bea0b78...</td>\n",
       "      <td>f195bea0b78d1c0c90ab54341bf39536.jpg</td>\n",
       "      <td>1</td>\n",
       "    </tr>\n",
       "  </tbody>\n",
       "</table>\n",
       "</div>"
      ],
      "text/plain": [
       "                                                 url  \\\n",
       "0  https://i.pinimg.com/736x/17/0d/5b/170d5b93d80...   \n",
       "1  https://i.pinimg.com/736x/47/b9/9a/47b99a2ddcd...   \n",
       "2  https://i.pinimg.com/736x/90/e8/90/90e890f054b...   \n",
       "3  https://i.pinimg.com/736x/0a/71/6f/0a716f6f14e...   \n",
       "4  https://i.pinimg.com/736x/f1/95/be/f195bea0b78...   \n",
       "\n",
       "                                   name  label  \n",
       "0  170d5b93d80d247be60f22ca1216bef7.jpg      1  \n",
       "1  47b99a2ddcde2cf9e62b4faeec2fdf20.jpg      1  \n",
       "2  90e890f054b920308987c140125c9d19.jpg      1  \n",
       "3  0a716f6f14eea3adc30e0944a7123759.jpg      1  \n",
       "4  f195bea0b78d1c0c90ab54341bf39536.jpg      1  "
      ]
     },
     "execution_count": 8,
     "metadata": {},
     "output_type": "execute_result"
    }
   ],
   "source": [
    "# Read DataFrames\n",
    "df_georges = pd.read_csv(DATA_PATH + 'georges.csv', header=None, names=['url'])\n",
    "df_nongeorges = pd.read_csv(DATA_PATH + 'non_georges.csv', header=None, names=['url'])\n",
    "# Create 'name' column\n",
    "df_georges['name'] = df_georges['url'].str.rsplit('/', n=1, expand=True).iloc[:, 1]\n",
    "df_nongeorges['name'] = df_nongeorges['url'].str.rsplit('/', n=1, expand=True).iloc[:, 1]\n",
    "# Create 'label' column\n",
    "df_georges['label'] = 1\n",
    "df_nongeorges['label'] = 0\n",
    "# Join DataFrames\n",
    "df = df_georges.append(df_nongeorges, ignore_index=True)\n",
    "df.head()"
   ]
  },
  {
   "cell_type": "code",
   "execution_count": 9,
   "metadata": {
    "execution": {
     "iopub.execute_input": "2021-02-16T17:18:11.467164Z",
     "iopub.status.busy": "2021-02-16T17:18:11.466614Z",
     "iopub.status.idle": "2021-02-16T17:18:11.470004Z",
     "shell.execute_reply": "2021-02-16T17:18:11.470589Z"
    },
    "papermill": {
     "duration": 0.048801,
     "end_time": "2021-02-16T17:18:11.470752",
     "exception": false,
     "start_time": "2021-02-16T17:18:11.421951",
     "status": "completed"
    },
    "tags": []
   },
   "outputs": [
    {
     "name": "stdout",
     "output_type": "stream",
     "text": [
      "<class 'pandas.core.frame.DataFrame'>\n",
      "RangeIndex: 6047 entries, 0 to 6046\n",
      "Data columns (total 3 columns):\n",
      " #   Column  Non-Null Count  Dtype \n",
      "---  ------  --------------  ----- \n",
      " 0   url     6047 non-null   object\n",
      " 1   name    6047 non-null   object\n",
      " 2   label   6047 non-null   int64 \n",
      "dtypes: int64(1), object(2)\n",
      "memory usage: 141.9+ KB\n"
     ]
    }
   ],
   "source": [
    "df.info()"
   ]
  },
  {
   "cell_type": "markdown",
   "metadata": {
    "papermill": {
     "duration": 0.034386,
     "end_time": "2021-02-16T17:18:11.540165",
     "exception": false,
     "start_time": "2021-02-16T17:18:11.505779",
     "status": "completed"
    },
    "tags": []
   },
   "source": [
    "### Drop duplicates"
   ]
  },
  {
   "cell_type": "code",
   "execution_count": 10,
   "metadata": {
    "execution": {
     "iopub.execute_input": "2021-02-16T17:18:11.613311Z",
     "iopub.status.busy": "2021-02-16T17:18:11.612771Z",
     "iopub.status.idle": "2021-02-16T17:18:11.629999Z",
     "shell.execute_reply": "2021-02-16T17:18:11.629272Z"
    },
    "papermill": {
     "duration": 0.055991,
     "end_time": "2021-02-16T17:18:11.630150",
     "exception": false,
     "start_time": "2021-02-16T17:18:11.574159",
     "status": "completed"
    },
    "tags": []
   },
   "outputs": [
    {
     "name": "stdout",
     "output_type": "stream",
     "text": [
      "<class 'pandas.core.frame.DataFrame'>\n",
      "RangeIndex: 5689 entries, 0 to 5688\n",
      "Data columns (total 3 columns):\n",
      " #   Column  Non-Null Count  Dtype \n",
      "---  ------  --------------  ----- \n",
      " 0   url     5689 non-null   object\n",
      " 1   name    5689 non-null   object\n",
      " 2   label   5689 non-null   int64 \n",
      "dtypes: int64(1), object(2)\n",
      "memory usage: 133.5+ KB\n"
     ]
    }
   ],
   "source": [
    "# Drop duplicates\n",
    "df_georges.drop_duplicates(subset='url', keep='first', inplace=True, ignore_index=True)\n",
    "df_nongeorges.drop_duplicates(subset='url', keep='first', inplace=True, ignore_index=True)\n",
    "df.drop_duplicates(subset='url', keep='first', inplace=True, ignore_index=True)\n",
    "df.info()"
   ]
  },
  {
   "cell_type": "markdown",
   "metadata": {
    "papermill": {
     "duration": 0.034184,
     "end_time": "2021-02-16T17:18:11.699101",
     "exception": false,
     "start_time": "2021-02-16T17:18:11.664917",
     "status": "completed"
    },
    "tags": []
   },
   "source": [
    "There are duplicates in URLs!"
   ]
  },
  {
   "cell_type": "markdown",
   "metadata": {
    "papermill": {
     "duration": 0.033813,
     "end_time": "2021-02-16T17:18:11.767021",
     "exception": false,
     "start_time": "2021-02-16T17:18:11.733208",
     "status": "completed"
    },
    "tags": []
   },
   "source": [
    "### View uniques"
   ]
  },
  {
   "cell_type": "code",
   "execution_count": 11,
   "metadata": {
    "execution": {
     "iopub.execute_input": "2021-02-16T17:18:11.840687Z",
     "iopub.status.busy": "2021-02-16T17:18:11.839824Z",
     "iopub.status.idle": "2021-02-16T17:18:11.852805Z",
     "shell.execute_reply": "2021-02-16T17:18:11.852096Z"
    },
    "papermill": {
     "duration": 0.052162,
     "end_time": "2021-02-16T17:18:11.852965",
     "exception": false,
     "start_time": "2021-02-16T17:18:11.800803",
     "status": "completed"
    },
    "tags": []
   },
   "outputs": [
    {
     "name": "stdout",
     "output_type": "stream",
     "text": [
      "Georges:         2360\n",
      "non-Georges:     3340\n",
      "All:             5689\n"
     ]
    },
    {
     "data": {
      "text/plain": [
       "False"
      ]
     },
     "execution_count": 11,
     "metadata": {},
     "output_type": "execute_result"
    }
   ],
   "source": [
    "df_georges_uniques = df_georges['url'].nunique()\n",
    "df_nongeorges_uniques = df_nongeorges['url'].nunique()\n",
    "df_uniques = df['url'].nunique()\n",
    "\n",
    "print('Georges:'.ljust(16), df_georges_uniques)\n",
    "print('non-Georges:'.ljust(16), df_nongeorges_uniques)\n",
    "print('All:'.ljust(16), df_uniques)\n",
    "\n",
    "# Match test\n",
    "df_georges_uniques + df_nongeorges_uniques == df_uniques"
   ]
  },
  {
   "cell_type": "markdown",
   "metadata": {
    "papermill": {
     "duration": 0.034469,
     "end_time": "2021-02-16T17:18:11.921919",
     "exception": false,
     "start_time": "2021-02-16T17:18:11.887450",
     "status": "completed"
    },
    "tags": []
   },
   "source": [
    "Number of uniques is not matches! Therefore, there were some images that were Geoges and non-Georges at the same time!"
   ]
  },
  {
   "cell_type": "code",
   "execution_count": 12,
   "metadata": {
    "execution": {
     "iopub.execute_input": "2021-02-16T17:18:11.996541Z",
     "iopub.status.busy": "2021-02-16T17:18:11.994839Z",
     "iopub.status.idle": "2021-02-16T17:18:11.997200Z",
     "shell.execute_reply": "2021-02-16T17:18:11.997609Z"
    },
    "papermill": {
     "duration": 0.040894,
     "end_time": "2021-02-16T17:18:11.997743",
     "exception": false,
     "start_time": "2021-02-16T17:18:11.956849",
     "status": "completed"
    },
    "tags": []
   },
   "outputs": [],
   "source": [
    "del df_georges\n",
    "del df_nongeorges"
   ]
  },
  {
   "cell_type": "code",
   "execution_count": 13,
   "metadata": {
    "execution": {
     "iopub.execute_input": "2021-02-16T17:18:12.071090Z",
     "iopub.status.busy": "2021-02-16T17:18:12.070330Z",
     "iopub.status.idle": "2021-02-16T17:18:12.078393Z",
     "shell.execute_reply": "2021-02-16T17:18:12.077997Z"
    },
    "papermill": {
     "duration": 0.046396,
     "end_time": "2021-02-16T17:18:12.078497",
     "exception": false,
     "start_time": "2021-02-16T17:18:12.032101",
     "status": "completed"
    },
    "tags": []
   },
   "outputs": [
    {
     "data": {
      "text/plain": [
       "True"
      ]
     },
     "execution_count": 13,
     "metadata": {},
     "output_type": "execute_result"
    }
   ],
   "source": [
    "df['url'].nunique() == df['name'].nunique()"
   ]
  },
  {
   "cell_type": "markdown",
   "metadata": {
    "papermill": {
     "duration": 0.034603,
     "end_time": "2021-02-16T17:18:12.148104",
     "exception": false,
     "start_time": "2021-02-16T17:18:12.113501",
     "status": "completed"
    },
    "tags": []
   },
   "source": [
    "All names are unique. That's good."
   ]
  },
  {
   "cell_type": "markdown",
   "metadata": {
    "papermill": {
     "duration": 0.034457,
     "end_time": "2021-02-16T17:18:12.217532",
     "exception": false,
     "start_time": "2021-02-16T17:18:12.183075",
     "status": "completed"
    },
    "tags": []
   },
   "source": [
    "### Download files"
   ]
  },
  {
   "cell_type": "code",
   "execution_count": 14,
   "metadata": {
    "execution": {
     "iopub.execute_input": "2021-02-16T17:18:12.294743Z",
     "iopub.status.busy": "2021-02-16T17:18:12.293982Z",
     "iopub.status.idle": "2021-02-16T17:18:12.296886Z",
     "shell.execute_reply": "2021-02-16T17:18:12.296463Z"
    },
    "papermill": {
     "duration": 0.044728,
     "end_time": "2021-02-16T17:18:12.297014",
     "exception": false,
     "start_time": "2021-02-16T17:18:12.252286",
     "status": "completed"
    },
    "tags": []
   },
   "outputs": [],
   "source": [
    "def dowload_files():\n",
    "    \"\"\"Dowload images\"\"\"\n",
    "    # Dowload all images to temp folder\n",
    "    for i in tqdm(df.index):\n",
    "        with open(WORKING_PATH + df.loc[i, 'name'], 'wb') as handler:\n",
    "            handler.write(requests.get(df.loc[i, 'url']).content)\n",
    "            \n",
    "# dowload_files()"
   ]
  },
  {
   "cell_type": "markdown",
   "metadata": {
    "papermill": {
     "duration": 0.034779,
     "end_time": "2021-02-16T17:18:12.366731",
     "exception": false,
     "start_time": "2021-02-16T17:18:12.331952",
     "status": "completed"
    },
    "tags": []
   },
   "source": [
    "### Zip files"
   ]
  },
  {
   "cell_type": "code",
   "execution_count": 15,
   "metadata": {
    "execution": {
     "iopub.execute_input": "2021-02-16T17:18:12.439742Z",
     "iopub.status.busy": "2021-02-16T17:18:12.439139Z",
     "iopub.status.idle": "2021-02-16T17:18:12.442083Z",
     "shell.execute_reply": "2021-02-16T17:18:12.441675Z"
    },
    "papermill": {
     "duration": 0.040542,
     "end_time": "2021-02-16T17:18:12.442198",
     "exception": false,
     "start_time": "2021-02-16T17:18:12.401656",
     "status": "completed"
    },
    "tags": []
   },
   "outputs": [],
   "source": [
    "# shutil.make_archive('images', 'zip', WORKING_PATH)"
   ]
  },
  {
   "cell_type": "markdown",
   "metadata": {
    "papermill": {
     "duration": 0.034986,
     "end_time": "2021-02-16T17:18:12.512036",
     "exception": false,
     "start_time": "2021-02-16T17:18:12.477050",
     "status": "completed"
    },
    "tags": []
   },
   "source": [
    "### Unzip files"
   ]
  },
  {
   "cell_type": "code",
   "execution_count": 16,
   "metadata": {
    "execution": {
     "iopub.execute_input": "2021-02-16T17:18:12.585477Z",
     "iopub.status.busy": "2021-02-16T17:18:12.584817Z",
     "iopub.status.idle": "2021-02-16T17:18:12.587712Z",
     "shell.execute_reply": "2021-02-16T17:18:12.587322Z"
    },
    "papermill": {
     "duration": 0.040542,
     "end_time": "2021-02-16T17:18:12.587814",
     "exception": false,
     "start_time": "2021-02-16T17:18:12.547272",
     "status": "completed"
    },
    "tags": []
   },
   "outputs": [],
   "source": [
    "# shutil.unpack_archive('/kaggle/input/george-image-classification/images.zip', WORKING_PATH, 'zip')\n",
    "# print('Number of train paths:', len(os.listdir(WORKING_PATH)))"
   ]
  },
  {
   "cell_type": "markdown",
   "metadata": {
    "papermill": {
     "duration": 0.034882,
     "end_time": "2021-02-16T17:18:12.657624",
     "exception": false,
     "start_time": "2021-02-16T17:18:12.622742",
     "status": "completed"
    },
    "tags": []
   },
   "source": [
    "### View image formats"
   ]
  },
  {
   "cell_type": "code",
   "execution_count": 17,
   "metadata": {
    "execution": {
     "iopub.execute_input": "2021-02-16T17:18:12.736264Z",
     "iopub.status.busy": "2021-02-16T17:18:12.735579Z",
     "iopub.status.idle": "2021-02-16T17:18:49.758684Z",
     "shell.execute_reply": "2021-02-16T17:18:49.759117Z"
    },
    "papermill": {
     "duration": 37.066455,
     "end_time": "2021-02-16T17:18:49.759292",
     "exception": false,
     "start_time": "2021-02-16T17:18:12.692837",
     "status": "completed"
    },
    "tags": []
   },
   "outputs": [
    {
     "name": "stderr",
     "output_type": "stream",
     "text": [
      "100%|██████████| 5689/5689 [00:37<00:00, 153.70it/s]"
     ]
    },
    {
     "name": "stdout",
     "output_type": "stream",
     "text": [
      "Formats: Counter({'JPEG': 5689})\n",
      "\n",
      "Modes: Counter({'RGB': 5640, 'L': 46, 'CMYK': 3})\n",
      "\n",
      "Sizes: [((736, 736), 51), ((736, 981), 51), ((736, 552), 28), ((736, 920), 22), ((480, 640), 16), ((427, 640), 16), ((600, 600), 16), ((640, 960), 15), ((736, 1104), 14), ((720, 960), 14)]\n"
     ]
    },
    {
     "name": "stderr",
     "output_type": "stream",
     "text": [
      "\n"
     ]
    }
   ],
   "source": [
    "# Initialize counters\n",
    "img_format_cnt = collections.Counter()\n",
    "img_mode_cnt = collections.Counter()\n",
    "img_size_cnt = collections.Counter()\n",
    "\n",
    "# Compute frequency count for image formats\n",
    "for i in tqdm(df.index):\n",
    "    img_path = IMAGE_PATH + df.loc[i, 'name']\n",
    "    img = PIL.Image.open(img_path)\n",
    "    img_format_cnt[img.format] += 1\n",
    "    img_mode_cnt[img.mode] += 1\n",
    "    img_size_cnt[img.size] += 1\n",
    "    \n",
    "# Show result\n",
    "print('Formats:', img_format_cnt)\n",
    "print()\n",
    "print('Modes:', img_mode_cnt)\n",
    "print()\n",
    "print('Sizes:', img_size_cnt.most_common(10))"
   ]
  },
  {
   "cell_type": "markdown",
   "metadata": {
    "papermill": {
     "duration": 0.121678,
     "end_time": "2021-02-16T17:18:50.003254",
     "exception": false,
     "start_time": "2021-02-16T17:18:49.881576",
     "status": "completed"
    },
    "tags": []
   },
   "source": [
    "### View random image sample"
   ]
  },
  {
   "cell_type": "code",
   "execution_count": null,
   "metadata": {
    "_kg_hide-input": false,
    "_kg_hide-output": true,
    "execution": {
     "iopub.execute_input": "2021-02-16T17:18:50.254344Z",
     "iopub.status.busy": "2021-02-16T17:18:50.253487Z",
     "iopub.status.idle": "2021-02-16T17:18:51.903720Z",
     "shell.execute_reply": "2021-02-16T17:18:51.903180Z"
    },
    "papermill": {
     "duration": 1.779662,
     "end_time": "2021-02-16T17:18:51.903844",
     "exception": false,
     "start_time": "2021-02-16T17:18:50.124182",
     "status": "completed"
    },
    "tags": []
   },
   "outputs": [],
   "source": [
    "# Number of images in the sample (squared number)\n",
    "samples_value = 4**2\n",
    "# Sample DataFrame \n",
    "df_sample = df.sample(n=samples_value)\n",
    "# Init figure\n",
    "plt.figure(figsize=(12, 8))\n",
    "# Cycle over images to plot\n",
    "for i, row_index in enumerate(df_sample.index):\n",
    "    img_path = IMAGE_PATH + df_sample.loc[row_index, 'name']\n",
    "    img = PIL.Image.open(img_path)\n",
    "    subplot_len = math.ceil(math.sqrt(samples_value))\n",
    "    plt.subplot(subplot_len, subplot_len, i + 1)\n",
    "    plt.imshow(img)\n",
    "    plt.title('class ' + str(df_sample.loc[row_index, 'label']))\n",
    "    plt.axis('off')\n",
    "plt.show()"
   ]
  },
  {
   "cell_type": "code",
   "execution_count": null,
   "metadata": {
    "_kg_hide-output": true,
    "execution": {
     "iopub.execute_input": "2021-02-16T17:18:52.167151Z",
     "iopub.status.busy": "2021-02-16T17:18:52.166341Z",
     "iopub.status.idle": "2021-02-16T17:18:52.541612Z",
     "shell.execute_reply": "2021-02-16T17:18:52.542043Z"
    },
    "papermill": {
     "duration": 0.508791,
     "end_time": "2021-02-16T17:18:52.542190",
     "exception": false,
     "start_time": "2021-02-16T17:18:52.033399",
     "status": "completed"
    },
    "tags": []
   },
   "outputs": [],
   "source": [
    "# Show one image example and it's format\n",
    "img = PIL.Image.open(IMAGE_PATH + '170d5b93d80d247be60f22ca1216bef7.jpg')\n",
    "plt.figure(figsize=(10, 10))\n",
    "plt.imshow(img)\n",
    "print(img.format)\n",
    "print(img.mode)\n",
    "print(img.size)\n",
    "print(img.info)"
   ]
  },
  {
   "cell_type": "markdown",
   "metadata": {
    "papermill": {
     "duration": 0.140333,
     "end_time": "2021-02-16T17:18:52.822274",
     "exception": false,
     "start_time": "2021-02-16T17:18:52.681941",
     "status": "completed"
    },
    "tags": []
   },
   "source": [
    "# Preparing of the data\n",
    "### Stratified splitting"
   ]
  },
  {
   "cell_type": "code",
   "execution_count": 20,
   "metadata": {
    "execution": {
     "iopub.execute_input": "2021-02-16T17:18:53.108601Z",
     "iopub.status.busy": "2021-02-16T17:18:53.107946Z",
     "iopub.status.idle": "2021-02-16T17:18:53.128093Z",
     "shell.execute_reply": "2021-02-16T17:18:53.128473Z"
    },
    "papermill": {
     "duration": 0.166101,
     "end_time": "2021-02-16T17:18:53.128616",
     "exception": false,
     "start_time": "2021-02-16T17:18:52.962515",
     "status": "completed"
    },
    "tags": []
   },
   "outputs": [
    {
     "data": {
      "text/plain": [
       "((4835, 3), (854, 3))"
      ]
     },
     "execution_count": 20,
     "metadata": {},
     "output_type": "execute_result"
    }
   ],
   "source": [
    "# Split DataFrame on train and validation parts\n",
    "df_train, df_valid = train_test_split(\n",
    "    df, test_size=VALIDATION_SPLIT,\n",
    "    random_state=RANDOM_SEED, stratify=df['label'],\n",
    ")\n",
    "\n",
    "# Change 'label' column type to string format (necessary for datagenerator)\n",
    "df_train = df_train.astype({'label': 'string'})\n",
    "df_valid = df_valid.astype({'label': 'string'})\n",
    "\n",
    "# View dataset shapes\n",
    "df_train.shape, df_valid.shape"
   ]
  },
  {
   "cell_type": "code",
   "execution_count": 21,
   "metadata": {
    "execution": {
     "iopub.execute_input": "2021-02-16T17:18:53.419967Z",
     "iopub.status.busy": "2021-02-16T17:18:53.418695Z",
     "iopub.status.idle": "2021-02-16T17:18:53.422206Z",
     "shell.execute_reply": "2021-02-16T17:18:53.422567Z"
    },
    "papermill": {
     "duration": 0.153497,
     "end_time": "2021-02-16T17:18:53.422714",
     "exception": false,
     "start_time": "2021-02-16T17:18:53.269217",
     "status": "completed"
    },
    "tags": []
   },
   "outputs": [
    {
     "data": {
      "text/plain": [
       "0    2829\n",
       "1    2006\n",
       "Name: label, dtype: Int64"
      ]
     },
     "execution_count": 21,
     "metadata": {},
     "output_type": "execute_result"
    }
   ],
   "source": [
    "df_train['label'].value_counts()"
   ]
  },
  {
   "cell_type": "code",
   "execution_count": 22,
   "metadata": {
    "execution": {
     "iopub.execute_input": "2021-02-16T17:18:53.720193Z",
     "iopub.status.busy": "2021-02-16T17:18:53.719417Z",
     "iopub.status.idle": "2021-02-16T17:18:53.722717Z",
     "shell.execute_reply": "2021-02-16T17:18:53.723128Z"
    },
    "papermill": {
     "duration": 0.153505,
     "end_time": "2021-02-16T17:18:53.723263",
     "exception": false,
     "start_time": "2021-02-16T17:18:53.569758",
     "status": "completed"
    },
    "tags": []
   },
   "outputs": [
    {
     "data": {
      "text/plain": [
       "0    500\n",
       "1    354\n",
       "Name: label, dtype: Int64"
      ]
     },
     "execution_count": 22,
     "metadata": {},
     "output_type": "execute_result"
    }
   ],
   "source": [
    "df_valid['label'].value_counts()"
   ]
  },
  {
   "cell_type": "markdown",
   "metadata": {
    "papermill": {
     "duration": 0.141745,
     "end_time": "2021-02-16T17:18:54.005487",
     "exception": false,
     "start_time": "2021-02-16T17:18:53.863742",
     "status": "completed"
    },
    "tags": []
   },
   "source": [
    "### Data augmentation\n",
    "Configure generators"
   ]
  },
  {
   "cell_type": "code",
   "execution_count": 23,
   "metadata": {
    "execution": {
     "iopub.execute_input": "2021-02-16T17:18:54.301990Z",
     "iopub.status.busy": "2021-02-16T17:18:54.301441Z",
     "iopub.status.idle": "2021-02-16T17:18:56.110790Z",
     "shell.execute_reply": "2021-02-16T17:18:56.109857Z"
    },
    "papermill": {
     "duration": 1.964835,
     "end_time": "2021-02-16T17:18:56.110935",
     "exception": false,
     "start_time": "2021-02-16T17:18:54.146100",
     "status": "completed"
    },
    "tags": []
   },
   "outputs": [
    {
     "name": "stdout",
     "output_type": "stream",
     "text": [
      "Found 4835 validated image filenames belonging to 2 classes.\n",
      "Found 854 validated image filenames belonging to 2 classes.\n",
      "Found 854 validated image filenames belonging to 2 classes.\n"
     ]
    }
   ],
   "source": [
    "# Configure augmentation\n",
    "transform = A.Compose([\n",
    "    A.HorizontalFlip(p=0.5),\n",
    "    A.OneOf([\n",
    "        A.ShiftScaleRotate(shift_limit=0.0, scale_limit=0.20,\n",
    "                           rotate_limit=25, p=0.5),\n",
    "        A.OpticalDistortion(distort_limit=0.3, shift_limit=0.3,\n",
    "                            interpolation=1, border_mode=4,\n",
    "                            value=None, mask_value=None, p=0.5),\n",
    "    ], p=1),\n",
    "    A.OneOf([\n",
    "        A.JpegCompression(quality_lower=60, quality_upper=100, p=0.5),\n",
    "        A.Blur(blur_limit=5, p=0.5),\n",
    "    ], p=1),\n",
    "    A.ColorJitter(brightness=0.2, contrast=0.2, saturation=0.2,\n",
    "                  hue=0.1, p=1),\n",
    "])\n",
    "\n",
    "# Initialize data generators for train and validation\n",
    "train_datagen = ImageDataAugmentor(\n",
    "    augment=transform,\n",
    "    preprocess_input=None,\n",
    "    seed=RANDOM_SEED,\n",
    ")\n",
    "valid_datagen = ImageDataAugmentor(\n",
    "    augment=None,\n",
    "    preprocess_input=None,\n",
    "    seed=RANDOM_SEED,\n",
    ")\n",
    "\n",
    "# Wrap training data to generator\n",
    "train_generator = train_datagen.flow_from_dataframe(\n",
    "    df_train,\n",
    "    IMAGE_PATH,\n",
    "    'name',\n",
    "    'label',\n",
    "    class_mode='binary',\n",
    "    target_size=(IMG_SIZE, IMG_SIZE),\n",
    "    batch_size=BATCH_SIZE,\n",
    "    shuffle=True,\n",
    ")\n",
    "\n",
    "# Wrap validation data to generator\n",
    "valid_generator = valid_datagen.flow_from_dataframe(\n",
    "    df_valid,\n",
    "    IMAGE_PATH,\n",
    "    'name',\n",
    "    'label',\n",
    "    class_mode='binary',\n",
    "    target_size=(IMG_SIZE, IMG_SIZE),\n",
    "    batch_size=BATCH_SIZE,\n",
    "    shuffle=True,\n",
    ")\n",
    "\n",
    "# Wrap validation data to generator (without shuffling)\n",
    "test_generator = valid_datagen.flow_from_dataframe(\n",
    "    df_valid,\n",
    "    IMAGE_PATH,\n",
    "    'name',\n",
    "    'label',\n",
    "    class_mode='binary',\n",
    "    target_size=(IMG_SIZE, IMG_SIZE),\n",
    "    batch_size=BATCH_SIZE,\n",
    "    shuffle=False,\n",
    ")"
   ]
  },
  {
   "cell_type": "markdown",
   "metadata": {
    "papermill": {
     "duration": 0.140554,
     "end_time": "2021-02-16T17:18:56.394312",
     "exception": false,
     "start_time": "2021-02-16T17:18:56.253758",
     "status": "completed"
    },
    "tags": []
   },
   "source": [
    "View augmented images"
   ]
  },
  {
   "cell_type": "code",
   "execution_count": null,
   "metadata": {
    "_kg_hide-output": true,
    "execution": {
     "iopub.execute_input": "2021-02-16T17:18:56.682947Z",
     "iopub.status.busy": "2021-02-16T17:18:56.681946Z",
     "iopub.status.idle": "2021-02-16T17:18:58.012800Z",
     "shell.execute_reply": "2021-02-16T17:18:58.013232Z"
    },
    "papermill": {
     "duration": 1.47879,
     "end_time": "2021-02-16T17:18:58.013384",
     "exception": false,
     "start_time": "2021-02-16T17:18:56.534594",
     "status": "completed"
    },
    "tags": []
   },
   "outputs": [],
   "source": [
    "# load the image\n",
    "img = PIL.Image.open(IMAGE_PATH + '170d5b93d80d247be60f22ca1216bef7.jpg')\n",
    "# convert to numpy array\n",
    "data = np.asarray(img)\n",
    "# expand dimension to one sample\n",
    "samples = np.expand_dims(data, 0)\n",
    "# prepare iterator\n",
    "it = train_datagen.flow(samples, batch_size=1)\n",
    "\n",
    "# generate samples and plot\n",
    "samples_value = 3**2\n",
    "plt.figure(figsize=(12, 8))\n",
    "for index in range(samples_value):\n",
    "    # generate batch of images\n",
    "    batch = it.next()\n",
    "    # convert to unsigned integers for viewing\n",
    "    image = batch[0].astype('uint8')\n",
    "    # define subplot\n",
    "    subplot_len = math.ceil(math.sqrt(samples_value))\n",
    "    plt.subplot(subplot_len, subplot_len, index + 1)\n",
    "    # plot raw pixel data\n",
    "    plt.imshow(image)\n",
    "    plt.axis('off')\n",
    "plt.show()"
   ]
  },
  {
   "cell_type": "markdown",
   "metadata": {
    "papermill": {
     "duration": 0.237297,
     "end_time": "2021-02-16T17:18:58.442493",
     "exception": false,
     "start_time": "2021-02-16T17:18:58.205196",
     "status": "completed"
    },
    "tags": []
   },
   "source": [
    "# Model implementation\n",
    "### Configure checkpoint list"
   ]
  },
  {
   "cell_type": "code",
   "execution_count": 25,
   "metadata": {
    "execution": {
     "iopub.execute_input": "2021-02-16T17:18:58.939294Z",
     "iopub.status.busy": "2021-02-16T17:18:58.938476Z",
     "iopub.status.idle": "2021-02-16T17:18:58.942254Z",
     "shell.execute_reply": "2021-02-16T17:18:58.942811Z"
    },
    "papermill": {
     "duration": 0.262335,
     "end_time": "2021-02-16T17:18:58.943014",
     "exception": false,
     "start_time": "2021-02-16T17:18:58.680679",
     "status": "completed"
    },
    "tags": []
   },
   "outputs": [],
   "source": [
    "# Configure checkpoint list\n",
    "checkpoint = ModelCheckpoint(filepath='best_model.hdf5',\n",
    "                             monitor='val_accuracy',\n",
    "                             verbose=1,\n",
    "                             save_best_only=True,\n",
    "                             mode='max')\n",
    "earlystop = EarlyStopping(monitor='val_accuracy',\n",
    "                          patience=5,\n",
    "                          restore_best_weights=False,)\n",
    "lr_scheduler = LearningRateScheduler(lambda epoch, lr: lr * LR_FACTOR)\n",
    "callbacks_list = [checkpoint, earlystop, lr_scheduler]"
   ]
  },
  {
   "cell_type": "markdown",
   "metadata": {
    "papermill": {
     "duration": 0.171071,
     "end_time": "2021-02-16T17:18:59.361387",
     "exception": false,
     "start_time": "2021-02-16T17:18:59.190316",
     "status": "completed"
    },
    "tags": []
   },
   "source": [
    "### Assemble the model"
   ]
  },
  {
   "cell_type": "code",
   "execution_count": 26,
   "metadata": {
    "execution": {
     "iopub.execute_input": "2021-02-16T17:18:59.661434Z",
     "iopub.status.busy": "2021-02-16T17:18:59.660865Z",
     "iopub.status.idle": "2021-02-16T17:19:07.467052Z",
     "shell.execute_reply": "2021-02-16T17:19:07.466275Z"
    },
    "papermill": {
     "duration": 7.957989,
     "end_time": "2021-02-16T17:19:07.467198",
     "exception": false,
     "start_time": "2021-02-16T17:18:59.509209",
     "status": "completed"
    },
    "tags": []
   },
   "outputs": [
    {
     "name": "stdout",
     "output_type": "stream",
     "text": [
      "Downloading data from https://storage.googleapis.com/keras-applications/efficientnetb4_notop.h5\n",
      "71688192/71686520 [==============================] - 2s 0us/step\n"
     ]
    }
   ],
   "source": [
    "# Clear session\n",
    "clear_session()\n",
    "\n",
    "# Load pre-trained EfficientNet as a base model\n",
    "base_model = EfficientNetB4(include_top=False, input_shape=INPUT_SHAPE)"
   ]
  },
  {
   "cell_type": "code",
   "execution_count": 27,
   "metadata": {
    "execution": {
     "iopub.execute_input": "2021-02-16T17:19:07.823886Z",
     "iopub.status.busy": "2021-02-16T17:19:07.822981Z",
     "iopub.status.idle": "2021-02-16T17:19:08.907701Z",
     "shell.execute_reply": "2021-02-16T17:19:08.907258Z"
    },
    "papermill": {
     "duration": 1.245349,
     "end_time": "2021-02-16T17:19:08.907820",
     "exception": false,
     "start_time": "2021-02-16T17:19:07.662471",
     "status": "completed"
    },
    "tags": []
   },
   "outputs": [
    {
     "name": "stdout",
     "output_type": "stream",
     "text": [
      "Model: \"sequential\"\n",
      "_________________________________________________________________\n",
      "Layer (type)                 Output Shape              Param #   \n",
      "=================================================================\n",
      "efficientnetb4 (Functional)  (None, 8, 8, 1792)        17673823  \n",
      "_________________________________________________________________\n",
      "global_average_pooling2d (Gl (None, 1792)              0         \n",
      "_________________________________________________________________\n",
      "dropout (Dropout)            (None, 1792)              0         \n",
      "_________________________________________________________________\n",
      "dense (Dense)                (None, 512)               918016    \n",
      "_________________________________________________________________\n",
      "dropout_1 (Dropout)          (None, 512)               0         \n",
      "_________________________________________________________________\n",
      "dense_1 (Dense)              (None, 1)                 513       \n",
      "=================================================================\n",
      "Total params: 18,592,352\n",
      "Trainable params: 18,467,145\n",
      "Non-trainable params: 125,207\n",
      "_________________________________________________________________\n"
     ]
    }
   ],
   "source": [
    "model = Sequential()\n",
    "model.add(base_model)\n",
    "model.add(GlobalAveragePooling2D())\n",
    "model.add(Dropout(0.5))\n",
    "model.add(Dense(512, activation='relu'))\n",
    "model.add(Dropout(0.5))\n",
    "model.add(Dense(CLASS_NUM, activation='sigmoid'))\n",
    "model.summary()"
   ]
  },
  {
   "cell_type": "code",
   "execution_count": 28,
   "metadata": {
    "execution": {
     "iopub.execute_input": "2021-02-16T17:19:09.222370Z",
     "iopub.status.busy": "2021-02-16T17:19:09.221743Z",
     "iopub.status.idle": "2021-02-16T17:19:09.225413Z",
     "shell.execute_reply": "2021-02-16T17:19:09.224919Z"
    },
    "papermill": {
     "duration": 0.163042,
     "end_time": "2021-02-16T17:19:09.225523",
     "exception": false,
     "start_time": "2021-02-16T17:19:09.062481",
     "status": "completed"
    },
    "tags": []
   },
   "outputs": [
    {
     "name": "stdout",
     "output_type": "stream",
     "text": [
      "Number of layers: 6\n",
      "Number of layers in the base model:  474\n"
     ]
    }
   ],
   "source": [
    "print('Number of layers:', len(model.layers))\n",
    "print('Number of layers in the base model: ', len(base_model.layers))"
   ]
  },
  {
   "cell_type": "markdown",
   "metadata": {
    "papermill": {
     "duration": 0.151952,
     "end_time": "2021-02-16T17:19:09.529570",
     "exception": false,
     "start_time": "2021-02-16T17:19:09.377618",
     "status": "completed"
    },
    "tags": []
   },
   "source": [
    "## Model learning"
   ]
  },
  {
   "cell_type": "code",
   "execution_count": 29,
   "metadata": {
    "execution": {
     "iopub.execute_input": "2021-02-16T17:19:09.843232Z",
     "iopub.status.busy": "2021-02-16T17:19:09.842484Z",
     "iopub.status.idle": "2021-02-16T17:19:09.845740Z",
     "shell.execute_reply": "2021-02-16T17:19:09.844785Z"
    },
    "papermill": {
     "duration": 0.164874,
     "end_time": "2021-02-16T17:19:09.845880",
     "exception": false,
     "start_time": "2021-02-16T17:19:09.681006",
     "status": "completed"
    },
    "tags": []
   },
   "outputs": [],
   "source": [
    "def plot_history(history):\n",
    "    \"\"\"Plot learning process graphs.\"\"\"\n",
    "    accuracy = history.history['accuracy']\n",
    "    val_accuracy = history.history['val_accuracy']\n",
    "    loss = history.history['loss']\n",
    "    val_loss = history.history['val_loss']\n",
    "\n",
    "    epochs = range(1, len(accuracy) + 1)\n",
    "\n",
    "    plt.figure(figsize=(12, 5))\n",
    "    plt.plot(epochs, accuracy, 'b', label='Training')\n",
    "    plt.plot(epochs, val_accuracy, 'r', label='Validation')\n",
    "    plt.title('Accuracy')\n",
    "    plt.legend()\n",
    "\n",
    "    plt.figure(figsize=(12, 5))\n",
    "    plt.plot(epochs, loss, 'b', label='Training')\n",
    "    plt.plot(epochs, val_loss, 'r', label='Validation')\n",
    "    plt.title('Loss')\n",
    "    plt.legend()\n",
    "    \n",
    "    \n",
    "def lr_range_test(steps_num=5, init_lr=1e-4, max_lr=10):\n",
    "    \"\"\"Range test for learning rate.\n",
    "    \n",
    "    steps_num - number of steps from init_lr to max_lr\n",
    "    init_lr - initial LR\n",
    "    max_lr - maximum LR\n",
    "    \"\"\"\n",
    "\n",
    "    # Factor for learning rate increasing\n",
    "    lr_factor = (max_lr/init_lr)**(1/steps_num)\n",
    "\n",
    "    # Define learning rate scheduler\n",
    "    callback = LearningRateScheduler(lambda epoch, lr: lr * lr_factor)\n",
    "\n",
    "    # Compile the model\n",
    "    model.compile(optimizer=Adam(lr=init_lr),\n",
    "                  loss='binary_crossentropy',\n",
    "                  metrics=['accuracy'])\n",
    "\n",
    "    # Train the model\n",
    "    history = model.fit(x=valid_generator,\n",
    "                        epochs=steps_num + 1,\n",
    "                        callbacks=[callback],)"
   ]
  },
  {
   "cell_type": "markdown",
   "metadata": {
    "papermill": {
     "duration": 0.151324,
     "end_time": "2021-02-16T17:19:10.149204",
     "exception": false,
     "start_time": "2021-02-16T17:19:09.997880",
     "status": "completed"
    },
    "tags": []
   },
   "source": [
    "### Evaluating metric before learning"
   ]
  },
  {
   "cell_type": "code",
   "execution_count": 30,
   "metadata": {
    "execution": {
     "iopub.execute_input": "2021-02-16T17:19:10.487766Z",
     "iopub.status.busy": "2021-02-16T17:19:10.486880Z",
     "iopub.status.idle": "2021-02-16T17:19:28.316126Z",
     "shell.execute_reply": "2021-02-16T17:19:28.315517Z"
    },
    "papermill": {
     "duration": 17.999332,
     "end_time": "2021-02-16T17:19:28.316298",
     "exception": false,
     "start_time": "2021-02-16T17:19:10.316966",
     "status": "completed"
    },
    "tags": []
   },
   "outputs": [
    {
     "name": "stdout",
     "output_type": "stream",
     "text": [
      "14/14 [==============================] - 17s 726ms/step - loss: 0.7185 - accuracy: 0.4326\n",
      "Validation accuracy: 44.26 %\n"
     ]
    }
   ],
   "source": [
    "# Compile the model\n",
    "model.compile(loss='binary_crossentropy', metrics=['accuracy'])\n",
    "\n",
    "# Compute score\n",
    "scores = model.evaluate(valid_generator)\n",
    "print(\"Validation accuracy: %.2f %%\" % (scores[1]*100))"
   ]
  },
  {
   "cell_type": "markdown",
   "metadata": {
    "papermill": {
     "duration": 0.157435,
     "end_time": "2021-02-16T17:19:28.631410",
     "exception": false,
     "start_time": "2021-02-16T17:19:28.473975",
     "status": "completed"
    },
    "tags": []
   },
   "source": [
    "Validation accuracy is about 50 % because now we have 2 classes and random weights of the model head."
   ]
  },
  {
   "cell_type": "markdown",
   "metadata": {
    "papermill": {
     "duration": 0.15668,
     "end_time": "2021-02-16T17:19:28.945623",
     "exception": false,
     "start_time": "2021-02-16T17:19:28.788943",
     "status": "completed"
    },
    "tags": []
   },
   "source": [
    "### Range test for learning rate"
   ]
  },
  {
   "cell_type": "code",
   "execution_count": 31,
   "metadata": {
    "execution": {
     "iopub.execute_input": "2021-02-16T17:19:29.263468Z",
     "iopub.status.busy": "2021-02-16T17:19:29.262618Z",
     "iopub.status.idle": "2021-02-16T17:19:29.265191Z",
     "shell.execute_reply": "2021-02-16T17:19:29.264628Z"
    },
    "papermill": {
     "duration": 0.163148,
     "end_time": "2021-02-16T17:19:29.265310",
     "exception": false,
     "start_time": "2021-02-16T17:19:29.102162",
     "status": "completed"
    },
    "tags": []
   },
   "outputs": [],
   "source": [
    "# lr_range_test(steps_num=6, init_lr=1e-5, max_lr=1e-3)"
   ]
  },
  {
   "cell_type": "markdown",
   "metadata": {
    "papermill": {
     "duration": 0.156288,
     "end_time": "2021-02-16T17:19:29.577392",
     "exception": false,
     "start_time": "2021-02-16T17:19:29.421104",
     "status": "completed"
    },
    "tags": []
   },
   "source": [
    "$$ lr_{i} = init\\_lr\\cdot\\Bigg(\\frac{max\\_lr}{init\\_lr}\\Bigg)^{\\frac{i}{steps\\_num}} $$\n",
    "\n",
    "$$ i = epoch\\_num-1 $$\n",
    "\n",
    "The minimum loss is detected at the learning rate about $2\\cdot10^{-4}$. We should choose maximum learning rate one order lower than the learning rate where loss is minimum. So maximum learning rate equals to $2\\cdot10^{-5}$."
   ]
  },
  {
   "cell_type": "markdown",
   "metadata": {
    "papermill": {
     "duration": 0.157416,
     "end_time": "2021-02-16T17:19:29.891448",
     "exception": false,
     "start_time": "2021-02-16T17:19:29.734032",
     "status": "completed"
    },
    "tags": []
   },
   "source": [
    "### Learning the model with feature tuning"
   ]
  },
  {
   "cell_type": "code",
   "execution_count": 32,
   "metadata": {
    "execution": {
     "iopub.execute_input": "2021-02-16T17:19:30.211775Z",
     "iopub.status.busy": "2021-02-16T17:19:30.210965Z",
     "iopub.status.idle": "2021-02-16T17:19:30.213978Z",
     "shell.execute_reply": "2021-02-16T17:19:30.213492Z"
    },
    "papermill": {
     "duration": 0.165782,
     "end_time": "2021-02-16T17:19:30.214099",
     "exception": false,
     "start_time": "2021-02-16T17:19:30.048317",
     "status": "completed"
    },
    "tags": []
   },
   "outputs": [],
   "source": [
    "def learn_model(learning_rate=0.001):\n",
    "    model.compile(optimizer=Adam(lr=learning_rate),\n",
    "              loss='binary_crossentropy',\n",
    "              metrics=['accuracy'])\n",
    "    \n",
    "    # Train the model\n",
    "    history = model.fit(\n",
    "        x=train_generator,\n",
    "        epochs=EPOCHS,\n",
    "        callbacks=callbacks_list,\n",
    "        validation_data=valid_generator,\n",
    "    )\n",
    "\n",
    "    # Plot learning process\n",
    "    plot_history(history)"
   ]
  },
  {
   "cell_type": "markdown",
   "metadata": {
    "papermill": {
     "duration": 0.266341,
     "end_time": "2021-02-16T17:19:30.652529",
     "exception": false,
     "start_time": "2021-02-16T17:19:30.386188",
     "status": "completed"
    },
    "tags": []
   },
   "source": [
    "Step 1"
   ]
  },
  {
   "cell_type": "code",
   "execution_count": 33,
   "metadata": {
    "execution": {
     "iopub.execute_input": "2021-02-16T17:19:31.187648Z",
     "iopub.status.busy": "2021-02-16T17:19:31.186842Z",
     "iopub.status.idle": "2021-02-16T17:19:31.238370Z",
     "shell.execute_reply": "2021-02-16T17:19:31.238963Z"
    },
    "papermill": {
     "duration": 0.331699,
     "end_time": "2021-02-16T17:19:31.239155",
     "exception": false,
     "start_time": "2021-02-16T17:19:30.907456",
     "status": "completed"
    },
    "tags": []
   },
   "outputs": [
    {
     "name": "stdout",
     "output_type": "stream",
     "text": [
      "Model: \"sequential\"\n",
      "_________________________________________________________________\n",
      "Layer (type)                 Output Shape              Param #   \n",
      "=================================================================\n",
      "efficientnetb4 (Functional)  (None, 8, 8, 1792)        17673823  \n",
      "_________________________________________________________________\n",
      "global_average_pooling2d (Gl (None, 1792)              0         \n",
      "_________________________________________________________________\n",
      "dropout (Dropout)            (None, 1792)              0         \n",
      "_________________________________________________________________\n",
      "dense (Dense)                (None, 512)               918016    \n",
      "_________________________________________________________________\n",
      "dropout_1 (Dropout)          (None, 512)               0         \n",
      "_________________________________________________________________\n",
      "dense_1 (Dense)              (None, 1)                 513       \n",
      "=================================================================\n",
      "Total params: 18,592,352\n",
      "Trainable params: 918,529\n",
      "Non-trainable params: 17,673,823\n",
      "_________________________________________________________________\n"
     ]
    }
   ],
   "source": [
    "# Define base model parameters as non-trainable\n",
    "base_model.trainable = False\n",
    "model.summary()"
   ]
  },
  {
   "cell_type": "code",
   "execution_count": 34,
   "metadata": {
    "execution": {
     "iopub.execute_input": "2021-02-16T17:19:31.677534Z",
     "iopub.status.busy": "2021-02-16T17:19:31.676671Z",
     "iopub.status.idle": "2021-02-16T17:53:36.382941Z",
     "shell.execute_reply": "2021-02-16T17:53:36.379353Z"
    },
    "papermill": {
     "duration": 2044.882886,
     "end_time": "2021-02-16T17:53:36.383094",
     "exception": false,
     "start_time": "2021-02-16T17:19:31.500208",
     "status": "completed"
    },
    "scrolled": false,
    "tags": []
   },
   "outputs": [
    {
     "name": "stdout",
     "output_type": "stream",
     "text": [
      "Epoch 1/30\n",
      "76/76 [==============================] - 108s 1s/step - loss: 0.7228 - accuracy: 0.5146 - val_loss: 0.6461 - val_accuracy: 0.6335\n",
      "\n",
      "Epoch 00001: val_accuracy improved from -inf to 0.63349, saving model to best_model.hdf5\n",
      "Epoch 2/30\n",
      "76/76 [==============================] - 95s 1s/step - loss: 0.6625 - accuracy: 0.5946 - val_loss: 0.6003 - val_accuracy: 0.7272\n",
      "\n",
      "Epoch 00002: val_accuracy improved from 0.63349 to 0.72717, saving model to best_model.hdf5\n",
      "Epoch 3/30\n",
      "76/76 [==============================] - 97s 1s/step - loss: 0.6255 - accuracy: 0.6452 - val_loss: 0.5675 - val_accuracy: 0.7693\n",
      "\n",
      "Epoch 00003: val_accuracy improved from 0.72717 to 0.76932, saving model to best_model.hdf5\n",
      "Epoch 4/30\n",
      "76/76 [==============================] - 96s 1s/step - loss: 0.6037 - accuracy: 0.6693 - val_loss: 0.5433 - val_accuracy: 0.7857\n",
      "\n",
      "Epoch 00004: val_accuracy improved from 0.76932 to 0.78571, saving model to best_model.hdf5\n",
      "Epoch 5/30\n",
      "76/76 [==============================] - 95s 1s/step - loss: 0.5772 - accuracy: 0.7035 - val_loss: 0.5232 - val_accuracy: 0.7951\n",
      "\n",
      "Epoch 00005: val_accuracy improved from 0.78571 to 0.79508, saving model to best_model.hdf5\n",
      "Epoch 6/30\n",
      "76/76 [==============================] - 97s 1s/step - loss: 0.5664 - accuracy: 0.7022 - val_loss: 0.5077 - val_accuracy: 0.8033\n",
      "\n",
      "Epoch 00006: val_accuracy improved from 0.79508 to 0.80328, saving model to best_model.hdf5\n",
      "Epoch 7/30\n",
      "76/76 [==============================] - 95s 1s/step - loss: 0.5504 - accuracy: 0.7277 - val_loss: 0.4936 - val_accuracy: 0.8056\n",
      "\n",
      "Epoch 00007: val_accuracy improved from 0.80328 to 0.80562, saving model to best_model.hdf5\n",
      "Epoch 8/30\n",
      "76/76 [==============================] - 95s 1s/step - loss: 0.5414 - accuracy: 0.7394 - val_loss: 0.4820 - val_accuracy: 0.8103\n",
      "\n",
      "Epoch 00008: val_accuracy improved from 0.80562 to 0.81030, saving model to best_model.hdf5\n",
      "Epoch 9/30\n",
      "76/76 [==============================] - 96s 1s/step - loss: 0.5425 - accuracy: 0.7253 - val_loss: 0.4719 - val_accuracy: 0.8150\n",
      "\n",
      "Epoch 00009: val_accuracy improved from 0.81030 to 0.81499, saving model to best_model.hdf5\n",
      "Epoch 10/30\n",
      "76/76 [==============================] - 95s 1s/step - loss: 0.5325 - accuracy: 0.7413 - val_loss: 0.4634 - val_accuracy: 0.8255\n",
      "\n",
      "Epoch 00010: val_accuracy improved from 0.81499 to 0.82553, saving model to best_model.hdf5\n",
      "Epoch 11/30\n",
      "76/76 [==============================] - 96s 1s/step - loss: 0.5367 - accuracy: 0.7396 - val_loss: 0.4566 - val_accuracy: 0.8244\n",
      "\n",
      "Epoch 00011: val_accuracy did not improve from 0.82553\n",
      "Epoch 12/30\n",
      "76/76 [==============================] - 96s 1s/step - loss: 0.5104 - accuracy: 0.7474 - val_loss: 0.4501 - val_accuracy: 0.8290\n",
      "\n",
      "Epoch 00012: val_accuracy improved from 0.82553 to 0.82904, saving model to best_model.hdf5\n",
      "Epoch 13/30\n",
      "76/76 [==============================] - 95s 1s/step - loss: 0.5062 - accuracy: 0.7513 - val_loss: 0.4436 - val_accuracy: 0.8337\n",
      "\n",
      "Epoch 00013: val_accuracy improved from 0.82904 to 0.83372, saving model to best_model.hdf5\n",
      "Epoch 14/30\n",
      "76/76 [==============================] - 96s 1s/step - loss: 0.4955 - accuracy: 0.7627 - val_loss: 0.4381 - val_accuracy: 0.8349\n",
      "\n",
      "Epoch 00014: val_accuracy improved from 0.83372 to 0.83489, saving model to best_model.hdf5\n",
      "Epoch 15/30\n",
      "76/76 [==============================] - 96s 1s/step - loss: 0.5009 - accuracy: 0.7512 - val_loss: 0.4337 - val_accuracy: 0.8361\n",
      "\n",
      "Epoch 00015: val_accuracy improved from 0.83489 to 0.83607, saving model to best_model.hdf5\n",
      "Epoch 16/30\n",
      "76/76 [==============================] - 96s 1s/step - loss: 0.4889 - accuracy: 0.7738 - val_loss: 0.4298 - val_accuracy: 0.8396\n",
      "\n",
      "Epoch 00016: val_accuracy improved from 0.83607 to 0.83958, saving model to best_model.hdf5\n",
      "Epoch 17/30\n",
      "76/76 [==============================] - 95s 1s/step - loss: 0.4891 - accuracy: 0.7773 - val_loss: 0.4263 - val_accuracy: 0.8396\n",
      "\n",
      "Epoch 00017: val_accuracy did not improve from 0.83958\n",
      "Epoch 18/30\n",
      "76/76 [==============================] - 96s 1s/step - loss: 0.4774 - accuracy: 0.7758 - val_loss: 0.4227 - val_accuracy: 0.8349\n",
      "\n",
      "Epoch 00018: val_accuracy did not improve from 0.83958\n",
      "Epoch 19/30\n",
      "76/76 [==============================] - 96s 1s/step - loss: 0.4831 - accuracy: 0.7850 - val_loss: 0.4195 - val_accuracy: 0.8361\n",
      "\n",
      "Epoch 00019: val_accuracy did not improve from 0.83958\n",
      "Epoch 20/30\n",
      "76/76 [==============================] - 99s 1s/step - loss: 0.4798 - accuracy: 0.7704 - val_loss: 0.4170 - val_accuracy: 0.8349\n",
      "\n",
      "Epoch 00020: val_accuracy did not improve from 0.83958\n",
      "Epoch 21/30\n",
      "76/76 [==============================] - 100s 1s/step - loss: 0.4981 - accuracy: 0.7584 - val_loss: 0.4145 - val_accuracy: 0.8372\n",
      "\n",
      "Epoch 00021: val_accuracy did not improve from 0.83958\n"
     ]
    },
    {
     "data": {
      "image/png": "[encoded data removed]",
      "text/plain": [
       "<Figure size 864x360 with 1 Axes>"
      ]
     },
     "metadata": {
      "needs_background": "light"
     },
     "output_type": "display_data"
    },
    {
     "data": {
      "image/png": "[encoded data removed]",
      "text/plain": [
       "<Figure size 864x360 with 1 Axes>"
      ]
     },
     "metadata": {
      "needs_background": "light"
     },
     "output_type": "display_data"
    }
   ],
   "source": [
    "learn_model(2e-5)"
   ]
  },
  {
   "cell_type": "markdown",
   "metadata": {
    "papermill": {
     "duration": 0.575089,
     "end_time": "2021-02-16T17:53:37.538615",
     "exception": false,
     "start_time": "2021-02-16T17:53:36.963526",
     "status": "completed"
    },
    "tags": []
   },
   "source": [
    "Step 2"
   ]
  },
  {
   "cell_type": "code",
   "execution_count": 35,
   "metadata": {
    "execution": {
     "iopub.execute_input": "2021-02-16T17:53:38.757190Z",
     "iopub.status.busy": "2021-02-16T17:53:38.750078Z",
     "iopub.status.idle": "2021-02-16T17:53:38.786290Z",
     "shell.execute_reply": "2021-02-16T17:53:38.786733Z"
    },
    "papermill": {
     "duration": 0.637251,
     "end_time": "2021-02-16T17:53:38.786879",
     "exception": false,
     "start_time": "2021-02-16T17:53:38.149628",
     "status": "completed"
    },
    "tags": []
   },
   "outputs": [
    {
     "name": "stdout",
     "output_type": "stream",
     "text": [
      "Model: \"sequential\"\n",
      "_________________________________________________________________\n",
      "Layer (type)                 Output Shape              Param #   \n",
      "=================================================================\n",
      "efficientnetb4 (Functional)  (None, 8, 8, 1792)        17673823  \n",
      "_________________________________________________________________\n",
      "global_average_pooling2d (Gl (None, 1792)              0         \n",
      "_________________________________________________________________\n",
      "dropout (Dropout)            (None, 1792)              0         \n",
      "_________________________________________________________________\n",
      "dense (Dense)                (None, 512)               918016    \n",
      "_________________________________________________________________\n",
      "dropout_1 (Dropout)          (None, 512)               0         \n",
      "_________________________________________________________________\n",
      "dense_1 (Dense)              (None, 1)                 513       \n",
      "=================================================================\n",
      "Total params: 18,592,352\n",
      "Trainable params: 6,907,097\n",
      "Non-trainable params: 11,685,255\n",
      "_________________________________________________________________\n"
     ]
    }
   ],
   "source": [
    "# Define part of the base model parameters as trainable\n",
    "base_model.trainable = True\n",
    "\n",
    "# Freeze all the layers before the `fine_tune_at` layer number\n",
    "fine_tune_at = int(len(base_model.layers) / 1.1)\n",
    "for layer in base_model.layers[:fine_tune_at]:\n",
    "    layer.trainable = False\n",
    "    \n",
    "model.summary()"
   ]
  },
  {
   "cell_type": "code",
   "execution_count": 36,
   "metadata": {
    "execution": {
     "iopub.execute_input": "2021-02-16T17:53:39.950104Z",
     "iopub.status.busy": "2021-02-16T17:53:39.949306Z",
     "iopub.status.idle": "2021-02-16T18:43:51.784761Z",
     "shell.execute_reply": "2021-02-16T18:43:51.780860Z"
    },
    "papermill": {
     "duration": 3012.420698,
     "end_time": "2021-02-16T18:43:51.784969",
     "exception": false,
     "start_time": "2021-02-16T17:53:39.364271",
     "status": "completed"
    },
    "scrolled": false,
    "tags": []
   },
   "outputs": [
    {
     "name": "stdout",
     "output_type": "stream",
     "text": [
      "Epoch 1/30\n",
      "76/76 [==============================] - 115s 1s/step - loss: 0.5371 - accuracy: 0.7397 - val_loss: 0.4329 - val_accuracy: 0.8232\n",
      "\n",
      "Epoch 00001: val_accuracy did not improve from 0.83958\n",
      "Epoch 2/30\n",
      "76/76 [==============================] - 102s 1s/step - loss: 0.5339 - accuracy: 0.7280 - val_loss: 0.4420 - val_accuracy: 0.8208\n",
      "\n",
      "Epoch 00002: val_accuracy did not improve from 0.83958\n",
      "Epoch 3/30\n",
      "76/76 [==============================] - 100s 1s/step - loss: 0.5256 - accuracy: 0.7346 - val_loss: 0.4390 - val_accuracy: 0.8220\n",
      "\n",
      "Epoch 00003: val_accuracy did not improve from 0.83958\n",
      "Epoch 4/30\n",
      "76/76 [==============================] - 101s 1s/step - loss: 0.5070 - accuracy: 0.7567 - val_loss: 0.4311 - val_accuracy: 0.8267\n",
      "\n",
      "Epoch 00004: val_accuracy did not improve from 0.83958\n",
      "Epoch 5/30\n",
      "76/76 [==============================] - 105s 1s/step - loss: 0.4954 - accuracy: 0.7629 - val_loss: 0.4221 - val_accuracy: 0.8314\n",
      "\n",
      "Epoch 00005: val_accuracy did not improve from 0.83958\n",
      "Epoch 6/30\n",
      "76/76 [==============================] - 101s 1s/step - loss: 0.4810 - accuracy: 0.7780 - val_loss: 0.4129 - val_accuracy: 0.8361\n",
      "\n",
      "Epoch 00006: val_accuracy did not improve from 0.83958\n",
      "Epoch 7/30\n",
      "76/76 [==============================] - 102s 1s/step - loss: 0.4709 - accuracy: 0.7770 - val_loss: 0.4048 - val_accuracy: 0.8454\n",
      "\n",
      "Epoch 00007: val_accuracy improved from 0.83958 to 0.84543, saving model to best_model.hdf5\n",
      "Epoch 8/30\n",
      "76/76 [==============================] - 97s 1s/step - loss: 0.4688 - accuracy: 0.7788 - val_loss: 0.3966 - val_accuracy: 0.8489\n",
      "\n",
      "Epoch 00008: val_accuracy improved from 0.84543 to 0.84895, saving model to best_model.hdf5\n",
      "Epoch 9/30\n",
      "76/76 [==============================] - 100s 1s/step - loss: 0.4642 - accuracy: 0.7965 - val_loss: 0.3898 - val_accuracy: 0.8513\n",
      "\n",
      "Epoch 00009: val_accuracy improved from 0.84895 to 0.85129, saving model to best_model.hdf5\n",
      "Epoch 10/30\n",
      "76/76 [==============================] - 101s 1s/step - loss: 0.4534 - accuracy: 0.7952 - val_loss: 0.3827 - val_accuracy: 0.8560\n",
      "\n",
      "Epoch 00010: val_accuracy improved from 0.85129 to 0.85597, saving model to best_model.hdf5\n",
      "Epoch 11/30\n",
      "76/76 [==============================] - 97s 1s/step - loss: 0.4486 - accuracy: 0.7892 - val_loss: 0.3772 - val_accuracy: 0.8560\n",
      "\n",
      "Epoch 00011: val_accuracy did not improve from 0.85597\n",
      "Epoch 12/30\n",
      "76/76 [==============================] - 105s 1s/step - loss: 0.4334 - accuracy: 0.8045 - val_loss: 0.3718 - val_accuracy: 0.8595\n",
      "\n",
      "Epoch 00012: val_accuracy improved from 0.85597 to 0.85948, saving model to best_model.hdf5\n",
      "Epoch 13/30\n",
      "76/76 [==============================] - 98s 1s/step - loss: 0.4385 - accuracy: 0.7983 - val_loss: 0.3668 - val_accuracy: 0.8583\n",
      "\n",
      "Epoch 00013: val_accuracy did not improve from 0.85948\n",
      "Epoch 14/30\n",
      "76/76 [==============================] - 98s 1s/step - loss: 0.4313 - accuracy: 0.8039 - val_loss: 0.3621 - val_accuracy: 0.8642\n",
      "\n",
      "Epoch 00014: val_accuracy improved from 0.85948 to 0.86417, saving model to best_model.hdf5\n",
      "Epoch 15/30\n",
      "76/76 [==============================] - 98s 1s/step - loss: 0.4239 - accuracy: 0.8136 - val_loss: 0.3582 - val_accuracy: 0.8677\n",
      "\n",
      "Epoch 00015: val_accuracy improved from 0.86417 to 0.86768, saving model to best_model.hdf5\n",
      "Epoch 16/30\n",
      "76/76 [==============================] - 98s 1s/step - loss: 0.4310 - accuracy: 0.8093 - val_loss: 0.3539 - val_accuracy: 0.8677\n",
      "\n",
      "Epoch 00016: val_accuracy did not improve from 0.86768\n",
      "Epoch 17/30\n",
      "76/76 [==============================] - 97s 1s/step - loss: 0.4227 - accuracy: 0.8121 - val_loss: 0.3506 - val_accuracy: 0.8689\n",
      "\n",
      "Epoch 00017: val_accuracy improved from 0.86768 to 0.86885, saving model to best_model.hdf5\n",
      "Epoch 18/30\n",
      "76/76 [==============================] - 98s 1s/step - loss: 0.4155 - accuracy: 0.8069 - val_loss: 0.3478 - val_accuracy: 0.8677\n",
      "\n",
      "Epoch 00018: val_accuracy did not improve from 0.86885\n",
      "Epoch 19/30\n",
      "76/76 [==============================] - 98s 1s/step - loss: 0.4085 - accuracy: 0.8240 - val_loss: 0.3446 - val_accuracy: 0.8700\n",
      "\n",
      "Epoch 00019: val_accuracy improved from 0.86885 to 0.87002, saving model to best_model.hdf5\n",
      "Epoch 20/30\n",
      "76/76 [==============================] - 98s 1s/step - loss: 0.4166 - accuracy: 0.8161 - val_loss: 0.3419 - val_accuracy: 0.8724\n",
      "\n",
      "Epoch 00020: val_accuracy improved from 0.87002 to 0.87237, saving model to best_model.hdf5\n",
      "Epoch 21/30\n",
      "76/76 [==============================] - 98s 1s/step - loss: 0.4079 - accuracy: 0.8183 - val_loss: 0.3393 - val_accuracy: 0.8747\n",
      "\n",
      "Epoch 00021: val_accuracy improved from 0.87237 to 0.87471, saving model to best_model.hdf5\n",
      "Epoch 22/30\n",
      "76/76 [==============================] - 99s 1s/step - loss: 0.4033 - accuracy: 0.8173 - val_loss: 0.3371 - val_accuracy: 0.8735\n",
      "\n",
      "Epoch 00022: val_accuracy did not improve from 0.87471\n",
      "Epoch 23/30\n",
      "76/76 [==============================] - 98s 1s/step - loss: 0.4000 - accuracy: 0.8265 - val_loss: 0.3352 - val_accuracy: 0.8759\n",
      "\n",
      "Epoch 00023: val_accuracy improved from 0.87471 to 0.87588, saving model to best_model.hdf5\n",
      "Epoch 24/30\n",
      "76/76 [==============================] - 98s 1s/step - loss: 0.4043 - accuracy: 0.8225 - val_loss: 0.3331 - val_accuracy: 0.8747\n",
      "\n",
      "Epoch 00024: val_accuracy did not improve from 0.87588\n",
      "Epoch 25/30\n",
      "76/76 [==============================] - 99s 1s/step - loss: 0.3906 - accuracy: 0.8313 - val_loss: 0.3309 - val_accuracy: 0.8794\n",
      "\n",
      "Epoch 00025: val_accuracy improved from 0.87588 to 0.87939, saving model to best_model.hdf5\n",
      "Epoch 26/30\n",
      "76/76 [==============================] - 98s 1s/step - loss: 0.4016 - accuracy: 0.8261 - val_loss: 0.3289 - val_accuracy: 0.8794\n",
      "\n",
      "Epoch 00026: val_accuracy did not improve from 0.87939\n",
      "Epoch 27/30\n",
      "76/76 [==============================] - 98s 1s/step - loss: 0.3987 - accuracy: 0.8261 - val_loss: 0.3274 - val_accuracy: 0.8806\n",
      "\n",
      "Epoch 00027: val_accuracy improved from 0.87939 to 0.88056, saving model to best_model.hdf5\n",
      "Epoch 28/30\n",
      "76/76 [==============================] - 99s 1s/step - loss: 0.3859 - accuracy: 0.8219 - val_loss: 0.3256 - val_accuracy: 0.8794\n",
      "\n",
      "Epoch 00028: val_accuracy did not improve from 0.88056\n",
      "Epoch 29/30\n",
      "76/76 [==============================] - 99s 1s/step - loss: 0.4020 - accuracy: 0.8169 - val_loss: 0.3237 - val_accuracy: 0.8817\n",
      "\n",
      "Epoch 00029: val_accuracy improved from 0.88056 to 0.88173, saving model to best_model.hdf5\n",
      "Epoch 30/30\n",
      "76/76 [==============================] - 98s 1s/step - loss: 0.3985 - accuracy: 0.8206 - val_loss: 0.3229 - val_accuracy: 0.8817\n",
      "\n",
      "Epoch 00030: val_accuracy did not improve from 0.88173\n"
     ]
    },
    {
     "data": {
      "image/png": "[encoded data removed]",
      "text/plain": [
       "<Figure size 864x360 with 1 Axes>"
      ]
     },
     "metadata": {
      "needs_background": "light"
     },
     "output_type": "display_data"
    },
    {
     "data": {
      "image/png": "[encoded data removed]",
      "text/plain": [
       "<Figure size 864x360 with 1 Axes>"
      ]
     },
     "metadata": {
      "needs_background": "light"
     },
     "output_type": "display_data"
    }
   ],
   "source": [
    "learn_model(5e-6)"
   ]
  },
  {
   "cell_type": "markdown",
   "metadata": {
    "papermill": {
     "duration": 1.208482,
     "end_time": "2021-02-16T18:43:54.211533",
     "exception": false,
     "start_time": "2021-02-16T18:43:53.003051",
     "status": "completed"
    },
    "tags": []
   },
   "source": [
    "Step 3"
   ]
  },
  {
   "cell_type": "code",
   "execution_count": 37,
   "metadata": {
    "execution": {
     "iopub.execute_input": "2021-02-16T18:43:56.868048Z",
     "iopub.status.busy": "2021-02-16T18:43:56.864835Z",
     "iopub.status.idle": "2021-02-16T18:43:56.947316Z",
     "shell.execute_reply": "2021-02-16T18:43:56.949032Z"
    },
    "papermill": {
     "duration": 1.300359,
     "end_time": "2021-02-16T18:43:56.949393",
     "exception": false,
     "start_time": "2021-02-16T18:43:55.649034",
     "status": "completed"
    },
    "tags": []
   },
   "outputs": [
    {
     "name": "stdout",
     "output_type": "stream",
     "text": [
      "Model: \"sequential\"\n",
      "_________________________________________________________________\n",
      "Layer (type)                 Output Shape              Param #   \n",
      "=================================================================\n",
      "efficientnetb4 (Functional)  (None, 8, 8, 1792)        17673823  \n",
      "_________________________________________________________________\n",
      "global_average_pooling2d (Gl (None, 1792)              0         \n",
      "_________________________________________________________________\n",
      "dropout (Dropout)            (None, 1792)              0         \n",
      "_________________________________________________________________\n",
      "dense (Dense)                (None, 512)               918016    \n",
      "_________________________________________________________________\n",
      "dropout_1 (Dropout)          (None, 512)               0         \n",
      "_________________________________________________________________\n",
      "dense_1 (Dense)              (None, 1)                 513       \n",
      "=================================================================\n",
      "Total params: 18,592,352\n",
      "Trainable params: 18,467,145\n",
      "Non-trainable params: 125,207\n",
      "_________________________________________________________________\n"
     ]
    }
   ],
   "source": [
    "# Define all model parameters as trainable\n",
    "base_model.trainable = True\n",
    "model.summary()"
   ]
  },
  {
   "cell_type": "code",
   "execution_count": 38,
   "metadata": {
    "collapsed": true,
    "execution": {
     "iopub.execute_input": "2021-02-16T18:43:59.685746Z",
     "iopub.status.busy": "2021-02-16T18:43:59.684815Z",
     "iopub.status.idle": "2021-02-16T18:44:39.189599Z",
     "shell.execute_reply": "2021-02-16T18:44:39.190275Z"
    },
    "papermill": {
     "duration": 40.684788,
     "end_time": "2021-02-16T18:44:39.190432",
     "exception": false,
     "start_time": "2021-02-16T18:43:58.505644",
     "status": "completed"
    },
    "tags": []
   },
   "outputs": [
    {
     "name": "stdout",
     "output_type": "stream",
     "text": [
      "Epoch 1/30\n"
     ]
    },
    {
     "ename": "ResourceExhaustedError",
     "evalue": " OOM when allocating tensor with shape[64,16,16,960] and type float on /job:localhost/replica:0/task:0/device:GPU:0 by allocator GPU_0_bfc\n\t [[{{node sequential/efficientnetb4/block5c_activation/mul-0-2-TransposeNCHWToNHWC-LayoutOptimizer}}]]\nHint: If you want to see a list of allocated tensors when OOM happens, add report_tensor_allocations_upon_oom to RunOptions for current allocation info.\n [Op:__inference_train_function_133085]\n\nFunction call stack:\ntrain_function\n",
     "output_type": "error",
     "traceback": [
      "\u001b[0;31m---------------------------------------------------------------------------\u001b[0m",
      "\u001b[0;31mResourceExhaustedError\u001b[0m                    Traceback (most recent call last)",
      "\u001b[0;32m<ipython-input-38-a472d753eb8f>\u001b[0m in \u001b[0;36m<module>\u001b[0;34m\u001b[0m\n\u001b[0;32m----> 1\u001b[0;31m \u001b[0mlearn_model\u001b[0m\u001b[0;34m(\u001b[0m\u001b[0;36m1e-7\u001b[0m\u001b[0;34m)\u001b[0m\u001b[0;34m\u001b[0m\u001b[0;34m\u001b[0m\u001b[0m\n\u001b[0m",
      "\u001b[0;32m<ipython-input-32-498b3b90a995>\u001b[0m in \u001b[0;36mlearn_model\u001b[0;34m(learning_rate)\u001b[0m\n\u001b[1;32m      9\u001b[0m         \u001b[0mepochs\u001b[0m\u001b[0;34m=\u001b[0m\u001b[0mEPOCHS\u001b[0m\u001b[0;34m,\u001b[0m\u001b[0;34m\u001b[0m\u001b[0;34m\u001b[0m\u001b[0m\n\u001b[1;32m     10\u001b[0m         \u001b[0mcallbacks\u001b[0m\u001b[0;34m=\u001b[0m\u001b[0mcallbacks_list\u001b[0m\u001b[0;34m,\u001b[0m\u001b[0;34m\u001b[0m\u001b[0;34m\u001b[0m\u001b[0m\n\u001b[0;32m---> 11\u001b[0;31m         \u001b[0mvalidation_data\u001b[0m\u001b[0;34m=\u001b[0m\u001b[0mvalid_generator\u001b[0m\u001b[0;34m,\u001b[0m\u001b[0;34m\u001b[0m\u001b[0;34m\u001b[0m\u001b[0m\n\u001b[0m\u001b[1;32m     12\u001b[0m     )\n\u001b[1;32m     13\u001b[0m \u001b[0;34m\u001b[0m\u001b[0m\n",
      "\u001b[0;32m/opt/conda/lib/python3.7/site-packages/tensorflow/python/keras/engine/training.py\u001b[0m in \u001b[0;36mfit\u001b[0;34m(self, x, y, batch_size, epochs, verbose, callbacks, validation_split, validation_data, shuffle, class_weight, sample_weight, initial_epoch, steps_per_epoch, validation_steps, validation_batch_size, validation_freq, max_queue_size, workers, use_multiprocessing)\u001b[0m\n\u001b[1;32m   1098\u001b[0m                 _r=1):\n\u001b[1;32m   1099\u001b[0m               \u001b[0mcallbacks\u001b[0m\u001b[0;34m.\u001b[0m\u001b[0mon_train_batch_begin\u001b[0m\u001b[0;34m(\u001b[0m\u001b[0mstep\u001b[0m\u001b[0;34m)\u001b[0m\u001b[0;34m\u001b[0m\u001b[0;34m\u001b[0m\u001b[0m\n\u001b[0;32m-> 1100\u001b[0;31m               \u001b[0mtmp_logs\u001b[0m \u001b[0;34m=\u001b[0m \u001b[0mself\u001b[0m\u001b[0;34m.\u001b[0m\u001b[0mtrain_function\u001b[0m\u001b[0;34m(\u001b[0m\u001b[0miterator\u001b[0m\u001b[0;34m)\u001b[0m\u001b[0;34m\u001b[0m\u001b[0;34m\u001b[0m\u001b[0m\n\u001b[0m\u001b[1;32m   1101\u001b[0m               \u001b[0;32mif\u001b[0m \u001b[0mdata_handler\u001b[0m\u001b[0;34m.\u001b[0m\u001b[0mshould_sync\u001b[0m\u001b[0;34m:\u001b[0m\u001b[0;34m\u001b[0m\u001b[0;34m\u001b[0m\u001b[0m\n\u001b[1;32m   1102\u001b[0m                 \u001b[0mcontext\u001b[0m\u001b[0;34m.\u001b[0m\u001b[0masync_wait\u001b[0m\u001b[0;34m(\u001b[0m\u001b[0;34m)\u001b[0m\u001b[0;34m\u001b[0m\u001b[0;34m\u001b[0m\u001b[0m\n",
      "\u001b[0;32m/opt/conda/lib/python3.7/site-packages/tensorflow/python/eager/def_function.py\u001b[0m in \u001b[0;36m__call__\u001b[0;34m(self, *args, **kwds)\u001b[0m\n\u001b[1;32m    826\u001b[0m     \u001b[0mtracing_count\u001b[0m \u001b[0;34m=\u001b[0m \u001b[0mself\u001b[0m\u001b[0;34m.\u001b[0m\u001b[0mexperimental_get_tracing_count\u001b[0m\u001b[0;34m(\u001b[0m\u001b[0;34m)\u001b[0m\u001b[0;34m\u001b[0m\u001b[0;34m\u001b[0m\u001b[0m\n\u001b[1;32m    827\u001b[0m     \u001b[0;32mwith\u001b[0m \u001b[0mtrace\u001b[0m\u001b[0;34m.\u001b[0m\u001b[0mTrace\u001b[0m\u001b[0;34m(\u001b[0m\u001b[0mself\u001b[0m\u001b[0;34m.\u001b[0m\u001b[0m_name\u001b[0m\u001b[0;34m)\u001b[0m \u001b[0;32mas\u001b[0m \u001b[0mtm\u001b[0m\u001b[0;34m:\u001b[0m\u001b[0;34m\u001b[0m\u001b[0;34m\u001b[0m\u001b[0m\n\u001b[0;32m--> 828\u001b[0;31m       \u001b[0mresult\u001b[0m \u001b[0;34m=\u001b[0m \u001b[0mself\u001b[0m\u001b[0;34m.\u001b[0m\u001b[0m_call\u001b[0m\u001b[0;34m(\u001b[0m\u001b[0;34m*\u001b[0m\u001b[0margs\u001b[0m\u001b[0;34m,\u001b[0m \u001b[0;34m**\u001b[0m\u001b[0mkwds\u001b[0m\u001b[0;34m)\u001b[0m\u001b[0;34m\u001b[0m\u001b[0;34m\u001b[0m\u001b[0m\n\u001b[0m\u001b[1;32m    829\u001b[0m       \u001b[0mcompiler\u001b[0m \u001b[0;34m=\u001b[0m \u001b[0;34m\"xla\"\u001b[0m \u001b[0;32mif\u001b[0m \u001b[0mself\u001b[0m\u001b[0;34m.\u001b[0m\u001b[0m_experimental_compile\u001b[0m \u001b[0;32melse\u001b[0m \u001b[0;34m\"nonXla\"\u001b[0m\u001b[0;34m\u001b[0m\u001b[0;34m\u001b[0m\u001b[0m\n\u001b[1;32m    830\u001b[0m       \u001b[0mnew_tracing_count\u001b[0m \u001b[0;34m=\u001b[0m \u001b[0mself\u001b[0m\u001b[0;34m.\u001b[0m\u001b[0mexperimental_get_tracing_count\u001b[0m\u001b[0;34m(\u001b[0m\u001b[0;34m)\u001b[0m\u001b[0;34m\u001b[0m\u001b[0;34m\u001b[0m\u001b[0m\n",
      "\u001b[0;32m/opt/conda/lib/python3.7/site-packages/tensorflow/python/eager/def_function.py\u001b[0m in \u001b[0;36m_call\u001b[0;34m(self, *args, **kwds)\u001b[0m\n\u001b[1;32m    886\u001b[0m         \u001b[0;31m# Lifting succeeded, so variables are initialized and we can run the\u001b[0m\u001b[0;34m\u001b[0m\u001b[0;34m\u001b[0m\u001b[0;34m\u001b[0m\u001b[0m\n\u001b[1;32m    887\u001b[0m         \u001b[0;31m# stateless function.\u001b[0m\u001b[0;34m\u001b[0m\u001b[0;34m\u001b[0m\u001b[0;34m\u001b[0m\u001b[0m\n\u001b[0;32m--> 888\u001b[0;31m         \u001b[0;32mreturn\u001b[0m \u001b[0mself\u001b[0m\u001b[0;34m.\u001b[0m\u001b[0m_stateless_fn\u001b[0m\u001b[0;34m(\u001b[0m\u001b[0;34m*\u001b[0m\u001b[0margs\u001b[0m\u001b[0;34m,\u001b[0m \u001b[0;34m**\u001b[0m\u001b[0mkwds\u001b[0m\u001b[0;34m)\u001b[0m\u001b[0;34m\u001b[0m\u001b[0;34m\u001b[0m\u001b[0m\n\u001b[0m\u001b[1;32m    889\u001b[0m     \u001b[0;32melse\u001b[0m\u001b[0;34m:\u001b[0m\u001b[0;34m\u001b[0m\u001b[0;34m\u001b[0m\u001b[0m\n\u001b[1;32m    890\u001b[0m       \u001b[0m_\u001b[0m\u001b[0;34m,\u001b[0m \u001b[0m_\u001b[0m\u001b[0;34m,\u001b[0m \u001b[0m_\u001b[0m\u001b[0;34m,\u001b[0m \u001b[0mfiltered_flat_args\u001b[0m \u001b[0;34m=\u001b[0m\u001b[0;31m \u001b[0m\u001b[0;31m\\\u001b[0m\u001b[0;34m\u001b[0m\u001b[0;34m\u001b[0m\u001b[0m\n",
      "\u001b[0;32m/opt/conda/lib/python3.7/site-packages/tensorflow/python/eager/function.py\u001b[0m in \u001b[0;36m__call__\u001b[0;34m(self, *args, **kwargs)\u001b[0m\n\u001b[1;32m   2941\u001b[0m        filtered_flat_args) = self._maybe_define_function(args, kwargs)\n\u001b[1;32m   2942\u001b[0m     return graph_function._call_flat(\n\u001b[0;32m-> 2943\u001b[0;31m         filtered_flat_args, captured_inputs=graph_function.captured_inputs)  # pylint: disable=protected-access\n\u001b[0m\u001b[1;32m   2944\u001b[0m \u001b[0;34m\u001b[0m\u001b[0m\n\u001b[1;32m   2945\u001b[0m   \u001b[0;34m@\u001b[0m\u001b[0mproperty\u001b[0m\u001b[0;34m\u001b[0m\u001b[0;34m\u001b[0m\u001b[0m\n",
      "\u001b[0;32m/opt/conda/lib/python3.7/site-packages/tensorflow/python/eager/function.py\u001b[0m in \u001b[0;36m_call_flat\u001b[0;34m(self, args, captured_inputs, cancellation_manager)\u001b[0m\n\u001b[1;32m   1917\u001b[0m       \u001b[0;31m# No tape is watching; skip to running the function.\u001b[0m\u001b[0;34m\u001b[0m\u001b[0;34m\u001b[0m\u001b[0;34m\u001b[0m\u001b[0m\n\u001b[1;32m   1918\u001b[0m       return self._build_call_outputs(self._inference_function.call(\n\u001b[0;32m-> 1919\u001b[0;31m           ctx, args, cancellation_manager=cancellation_manager))\n\u001b[0m\u001b[1;32m   1920\u001b[0m     forward_backward = self._select_forward_and_backward_functions(\n\u001b[1;32m   1921\u001b[0m         \u001b[0margs\u001b[0m\u001b[0;34m,\u001b[0m\u001b[0;34m\u001b[0m\u001b[0;34m\u001b[0m\u001b[0m\n",
      "\u001b[0;32m/opt/conda/lib/python3.7/site-packages/tensorflow/python/eager/function.py\u001b[0m in \u001b[0;36mcall\u001b[0;34m(self, ctx, args, cancellation_manager)\u001b[0m\n\u001b[1;32m    558\u001b[0m               \u001b[0minputs\u001b[0m\u001b[0;34m=\u001b[0m\u001b[0margs\u001b[0m\u001b[0;34m,\u001b[0m\u001b[0;34m\u001b[0m\u001b[0;34m\u001b[0m\u001b[0m\n\u001b[1;32m    559\u001b[0m               \u001b[0mattrs\u001b[0m\u001b[0;34m=\u001b[0m\u001b[0mattrs\u001b[0m\u001b[0;34m,\u001b[0m\u001b[0;34m\u001b[0m\u001b[0;34m\u001b[0m\u001b[0m\n\u001b[0;32m--> 560\u001b[0;31m               ctx=ctx)\n\u001b[0m\u001b[1;32m    561\u001b[0m         \u001b[0;32melse\u001b[0m\u001b[0;34m:\u001b[0m\u001b[0;34m\u001b[0m\u001b[0;34m\u001b[0m\u001b[0m\n\u001b[1;32m    562\u001b[0m           outputs = execute.execute_with_cancellation(\n",
      "\u001b[0;32m/opt/conda/lib/python3.7/site-packages/tensorflow/python/eager/execute.py\u001b[0m in \u001b[0;36mquick_execute\u001b[0;34m(op_name, num_outputs, inputs, attrs, ctx, name)\u001b[0m\n\u001b[1;32m     58\u001b[0m     \u001b[0mctx\u001b[0m\u001b[0;34m.\u001b[0m\u001b[0mensure_initialized\u001b[0m\u001b[0;34m(\u001b[0m\u001b[0;34m)\u001b[0m\u001b[0;34m\u001b[0m\u001b[0;34m\u001b[0m\u001b[0m\n\u001b[1;32m     59\u001b[0m     tensors = pywrap_tfe.TFE_Py_Execute(ctx._handle, device_name, op_name,\n\u001b[0;32m---> 60\u001b[0;31m                                         inputs, attrs, num_outputs)\n\u001b[0m\u001b[1;32m     61\u001b[0m   \u001b[0;32mexcept\u001b[0m \u001b[0mcore\u001b[0m\u001b[0;34m.\u001b[0m\u001b[0m_NotOkStatusException\u001b[0m \u001b[0;32mas\u001b[0m \u001b[0me\u001b[0m\u001b[0;34m:\u001b[0m\u001b[0;34m\u001b[0m\u001b[0;34m\u001b[0m\u001b[0m\n\u001b[1;32m     62\u001b[0m     \u001b[0;32mif\u001b[0m \u001b[0mname\u001b[0m \u001b[0;32mis\u001b[0m \u001b[0;32mnot\u001b[0m \u001b[0;32mNone\u001b[0m\u001b[0;34m:\u001b[0m\u001b[0;34m\u001b[0m\u001b[0;34m\u001b[0m\u001b[0m\n",
      "\u001b[0;31mResourceExhaustedError\u001b[0m:  OOM when allocating tensor with shape[64,16,16,960] and type float on /job:localhost/replica:0/task:0/device:GPU:0 by allocator GPU_0_bfc\n\t [[{{node sequential/efficientnetb4/block5c_activation/mul-0-2-TransposeNCHWToNHWC-LayoutOptimizer}}]]\nHint: If you want to see a list of allocated tensors when OOM happens, add report_tensor_allocations_upon_oom to RunOptions for current allocation info.\n [Op:__inference_train_function_133085]\n\nFunction call stack:\ntrain_function\n"
     ]
    }
   ],
   "source": [
    "learn_model(1e-7)"
   ]
  },
  {
   "cell_type": "markdown",
   "metadata": {
    "papermill": {
     "duration": 1.188905,
     "end_time": "2021-02-16T18:44:41.560057",
     "exception": false,
     "start_time": "2021-02-16T18:44:40.371152",
     "status": "completed"
    },
    "tags": []
   },
   "source": [
    "# Evaluation of the model"
   ]
  },
  {
   "cell_type": "code",
   "execution_count": 39,
   "metadata": {
    "execution": {
     "iopub.execute_input": "2021-02-16T18:44:43.954498Z",
     "iopub.status.busy": "2021-02-16T18:44:43.953698Z",
     "iopub.status.idle": "2021-02-16T18:44:59.571916Z",
     "shell.execute_reply": "2021-02-16T18:44:59.572513Z"
    },
    "papermill": {
     "duration": 16.824986,
     "end_time": "2021-02-16T18:44:59.572709",
     "exception": false,
     "start_time": "2021-02-16T18:44:42.747723",
     "status": "completed"
    },
    "tags": []
   },
   "outputs": [
    {
     "name": "stdout",
     "output_type": "stream",
     "text": [
      "14/14 [==============================] - 15s 754ms/step - loss: 0.3253 - accuracy: 0.8779\n",
      "Validation accuracy: 88.17 %\n"
     ]
    }
   ],
   "source": [
    "# Load model with the best result if needed\n",
    "# model.load_weights(WORKING_PATH + 'best_model.hdf5')\n",
    "\n",
    "# Compile the model\n",
    "model.compile(loss='binary_crossentropy', metrics=['accuracy'])\n",
    "\n",
    "# Compute score\n",
    "scores = model.evaluate(test_generator)\n",
    "print(\"Validation accuracy: %.2f %%\" % (scores[1]*100))"
   ]
  },
  {
   "cell_type": "code",
   "execution_count": 40,
   "metadata": {
    "_kg_hide-input": true,
    "execution": {
     "iopub.execute_input": "2021-02-16T18:45:02.234099Z",
     "iopub.status.busy": "2021-02-16T18:45:02.233467Z",
     "iopub.status.idle": "2021-02-16T18:45:02.236619Z",
     "shell.execute_reply": "2021-02-16T18:45:02.236110Z"
    },
    "papermill": {
     "duration": 1.292359,
     "end_time": "2021-02-16T18:45:02.236739",
     "exception": false,
     "start_time": "2021-02-16T18:45:00.944380",
     "status": "completed"
    },
    "tags": []
   },
   "outputs": [],
   "source": [
    "# Clean WORKING_PATH\n",
    "shutil.rmtree(WORKING_PATH)"
   ]
  }
 ],
 "metadata": {
  "kernelspec": {
   "display_name": "Python 3",
   "language": "python",
   "name": "python3"
  },
  "language_info": {
   "codemirror_mode": {
    "name": "ipython",
    "version": 3
   },
   "file_extension": ".py",
   "mimetype": "text/x-python",
   "name": "python",
   "nbconvert_exporter": "python",
   "pygments_lexer": "ipython3",
   "version": "3.8.5"
  },
  "papermill": {
   "default_parameters": {},
   "duration": 5242.818211,
   "end_time": "2021-02-16T18:45:08.116827",
   "environment_variables": {},
   "exception": null,
   "input_path": "__notebook__.ipynb",
   "output_path": "__notebook__.ipynb",
   "parameters": {},
   "start_time": "2021-02-16T17:17:45.298616",
   "version": "2.2.2"
  }
 },
 "nbformat": 4,
 "nbformat_minor": 4
}
