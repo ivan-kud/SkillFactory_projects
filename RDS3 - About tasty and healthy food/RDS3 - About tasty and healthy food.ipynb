{
 "cells": [
  {
   "cell_type": "markdown",
   "metadata": {},
   "source": [
    "**Project Description:** Датасет содержит сведения о 40 000 ресторанах Европы по данным сайта TripAdvisor.\n",
    "\n",
    "**Goal:**\n",
    "\n",
    "**Objectives:** Создать модель для предсказания рейтинга ресторанов 'Rating'.\n",
    "\n",
    "**Dataset Description:** Датасет содержит следующие признаки (переменные):\n",
    "1. Restaurant_id — идентификационный номер ресторана / сети ресторанов;\n",
    "2. City — город, в котором находится ресторан;\n",
    "3. Cuisine Style — кухня или кухни, к которым можно отнести блюда, предлагаемые в ресторане;\n",
    "4. Ranking — место, которое занимает данный ресторан среди всех ресторанов своего города;\n",
    "5. Rating — рейтинг ресторана по данным TripAdvisor (именно это значение должна будет предсказывать модель);\n",
    "6. Price Range — диапазон цен в ресторане;\n",
    "7. Number of Reviews — количество отзывов о ресторане;\n",
    "8. Reviews — данные о двух отзывах, которые отображаются на сайте ресторана;\n",
    "9. URL_TA — URL страницы ресторана на TripAdvosor;\n",
    "10. ID_TA — идентификатор ресторана в базе данных TripAdvisor."
   ]
  },
  {
   "cell_type": "code",
   "execution_count": 569,
   "metadata": {
    "slideshow": {
     "slide_type": "-"
    }
   },
   "outputs": [],
   "source": [
    "import math\n",
    "from collections import Counter\n",
    "from itertools import chain, combinations\n",
    "\n",
    "import numpy as np\n",
    "import pandas as pd\n",
    "import matplotlib.pyplot as plt\n",
    "import seaborn as sns\n",
    "import missingno as msno\n",
    "from sklearn.model_selection import train_test_split\n",
    "from sklearn.ensemble import RandomForestRegressor\n",
    "from sklearn import metrics\n",
    "from scipy.stats import ttest_ind\n",
    "\n",
    "#pd.options.display.max_columns = 40"
   ]
  },
  {
   "cell_type": "markdown",
   "metadata": {},
   "source": [
    "## Подготовка данных\n",
    "### Сбор и форматирование данных\n",
    "**Чтение датасета**"
   ]
  },
  {
   "cell_type": "code",
   "execution_count": 570,
   "metadata": {},
   "outputs": [],
   "source": [
    "def dollar_replace(s):\n",
    "    s = s.replace('$$$$$', '5')\n",
    "    s = s.replace('$$$$', '4')\n",
    "    s = s.replace('$$$', '3')\n",
    "    s = s.replace('$$', '2')\n",
    "    s = s.replace('$', '1')\n",
    "    s = s.replace('2 - 3', '2.5')\n",
    "    if s == '':\n",
    "        return np.nan\n",
    "    return float(s)"
   ]
  },
  {
   "cell_type": "code",
   "execution_count": 571,
   "metadata": {},
   "outputs": [],
   "source": [
    "data = pd.read_csv('main_task.xls', converters={'Price Range': dollar_replace})"
   ]
  },
  {
   "cell_type": "markdown",
   "metadata": {},
   "source": [
    "**Проверяем названия переменных датасета и переименовываем при необходимости**"
   ]
  },
  {
   "cell_type": "code",
   "execution_count": 572,
   "metadata": {},
   "outputs": [
    {
     "data": {
      "text/plain": [
       "Index(['Restaurant_id', 'City', 'Cuisine Style', 'Ranking', 'Rating',\n",
       "       'Price Range', 'Number of Reviews', 'Reviews', 'URL_TA', 'ID_TA'],\n",
       "      dtype='object')"
      ]
     },
     "execution_count": 572,
     "metadata": {},
     "output_type": "execute_result"
    }
   ],
   "source": [
    "data.columns"
   ]
  },
  {
   "cell_type": "code",
   "execution_count": 573,
   "metadata": {},
   "outputs": [],
   "source": [
    "data.rename(columns={\n",
    "    'Cuisine Style': 'Cuisine',\n",
    "    'Restaurant_id': 'Restr_id',\n",
    "    'Price Range': 'Price_range',\n",
    "    'Number of Reviews': 'Reviews_num',\n",
    "}, inplace=True)"
   ]
  },
  {
   "cell_type": "markdown",
   "metadata": {},
   "source": [
    "**Проверяем формат переменных**"
   ]
  },
  {
   "cell_type": "code",
   "execution_count": 574,
   "metadata": {},
   "outputs": [
    {
     "name": "stdout",
     "output_type": "stream",
     "text": [
      "'Restr_id' соответствует формату 'id_\\d+' для 40000 из 40000 строк\n",
      "'ID_TA' соответствует формату 'd\\d+' для 40000 из 40000 строк\n"
     ]
    }
   ],
   "source": [
    "cols_re = {\n",
    "    'Restr_id': 'id_\\d+',\n",
    "    'ID_TA': 'd\\d+',\n",
    "}\n",
    "\n",
    "for key, val in cols_re.items():\n",
    "    a = data[key].str.match(val).sum()\n",
    "    b = data[key].count()\n",
    "    print(f\"'{key}' соответствует формату '{val}' для {a} из {b} строк\")"
   ]
  },
  {
   "cell_type": "code",
   "execution_count": 575,
   "metadata": {},
   "outputs": [],
   "source": [
    "data['Cuisine'] = data['Cuisine'].str.strip('[]').str.replace(\"',\\s'\", '|').str.replace(\"'\", '')"
   ]
  },
  {
   "cell_type": "markdown",
   "metadata": {},
   "source": [
    "**Удаляем дубликаты строк**"
   ]
  },
  {
   "cell_type": "code",
   "execution_count": 576,
   "metadata": {},
   "outputs": [],
   "source": [
    "data.drop_duplicates('ID_TA', inplace=True)"
   ]
  },
  {
   "cell_type": "markdown",
   "metadata": {},
   "source": [
    "### Feature engineering"
   ]
  },
  {
   "cell_type": "code",
   "execution_count": 577,
   "metadata": {},
   "outputs": [],
   "source": [
    "# Split features from 'Reviews'\n",
    "data['Reviews'] = data['Reviews'].str.lower().replace('[[], []]', np.nan, regex=False)\n",
    "data[['Reviews', 'Reviews_date']] = data['Reviews'].str.strip('[]').str.split('],\\s\\[', expand=True)\n",
    "data[['Review1', 'Review2']] = data['Reviews'].str.strip(\"'\\\"\").str.split(\"['\\\"],\\s['\\\"]\", expand=True)\n",
    "data['Review1'] = data['Review1'].str.replace('[().,!?@#$%^&*:;]', ' ').str.replace(\"['\\\"]\", '')\n",
    "data['Review2'] = data['Review2'].str.replace('[().,!?@#$%^&*:;]', ' ').str.replace(\"['\\\"]\", '')\n",
    "\n",
    "data[['Review_date1', 'Review_date2']] = data['Reviews_date'].str.strip(\"'\").str.split(\"',\\s'\", expand=True)\n",
    "data['Review_date1'] = pd.to_datetime(data['Review_date1'])\n",
    "data['Review_date2'] = pd.to_datetime(data['Review_date2'])\n",
    "data[['Review_date1', 'Review_date2']] =  data[['Review_date1', 'Review_date2']].max() - data[['Review_date1', 'Review_date2']]\n",
    "data['Review_date1'] = data['Review_date1'].dt.days\n",
    "data['Review_date2'] = data['Review_date2'].dt.days\n",
    "\n",
    "# Swap date columns if date1 < date2\n",
    "idx = (data['Review_date1'] < data['Review_date2'])\n",
    "data.loc[idx, ['Review_date1', 'Review_date2']] = data.loc[idx, ['Review_date2', 'Review_date1']].values\n",
    "data.rename(columns={'Review_date1': 'Rev_day1', 'Review_date2': 'Rev_day2'}, inplace=True)\n",
    "\n",
    "data['Rev_day_delta'] = data['Rev_day1'] - data['Rev_day2']\n",
    "\n",
    "# Create feature of number of reviews on the site\n",
    "data['Site_rev_num'] = 0\n",
    "data['Site_rev_num'] += data['Rev_day1'].notna()\n",
    "data['Site_rev_num'] += data['Rev_day2'].notna()\n",
    "\n",
    "# Create feature of average site reviews' length\n",
    "data['Site_rev_len'] = data['Review1'].str.count('\\w+') + data['Review2'].str.count('\\w+')\n",
    "idx = data['Site_rev_num'] > 0\n",
    "data.loc[idx, 'Site_rev_len'] /= data.loc[idx, 'Site_rev_num']\n",
    "\n",
    "# Create feature of cuisine number\n",
    "data.loc[data['Cuisine'].notna(), 'Cuisine_num'] = data.loc[data['Cuisine'].notna(), 'Cuisine'].apply(lambda x: len(x.split('|')))\n",
    "\n",
    "# Create new feature - 'Country'\n",
    "country = pd.DataFrame.from_dict({\n",
    "    'London': 'England',\n",
    "    'Paris': 'France',\n",
    "    'Madrid': 'Spain',\n",
    "    'Barcelona': 'Spain',\n",
    "    'Berlin': 'Germany',\n",
    "    'Milan': 'Italy',\n",
    "    'Rome': 'Italy',\n",
    "    'Prague': 'Czech Republic',\n",
    "    'Lisbon': 'Portugal',\n",
    "    'Vienna': 'Austria',\n",
    "    'Amsterdam': 'Netherlands',\n",
    "    'Brussels': 'Belgium',\n",
    "    'Hamburg': 'Germany',\n",
    "    'Munich': 'Germany',\n",
    "    'Lyon': 'France',\n",
    "    'Stockholm': 'Sweden',\n",
    "    'Budapest': 'Hungary',\n",
    "    'Warsaw': 'Poland',\n",
    "    'Dublin': 'Ireland',\n",
    "    'Copenhagen': 'Denmark',\n",
    "    'Athens': 'Greece',\n",
    "    'Edinburgh': 'Scotland',\n",
    "    'Zurich': 'Switzerland',\n",
    "    'Oporto': 'Portugal',\n",
    "    'Geneva': 'Switzerland',\n",
    "    'Krakow': 'Poland',\n",
    "    'Oslo': 'Norway',\n",
    "    'Helsinki': 'Finland',\n",
    "    'Bratislava': 'Slovakia',\n",
    "    'Luxembourg': 'Luxembourg',\n",
    "    'Ljubljana': 'Slovenia',\n",
    "}, orient='index', columns=['Country'])\n",
    "data = pd.merge(data, country, how='left', left_on='City', right_index=True)"
   ]
  },
  {
   "cell_type": "markdown",
   "metadata": {},
   "source": [
    "### Удаление ненужных данных"
   ]
  },
  {
   "cell_type": "code",
   "execution_count": 578,
   "metadata": {},
   "outputs": [],
   "source": [
    "data.drop(['Price_range', 'Reviews', 'Review1', 'Review2', 'Reviews_date', 'Restr_id', 'URL_TA', 'ID_TA', 'Country', 'Site_rev_num', 'Site_rev_len', 'Rev_day1', 'Rev_day2', 'Cuisine'], axis=1, inplace=True)"
   ]
  },
  {
   "cell_type": "markdown",
   "metadata": {},
   "source": [
    "### Получение общей информации\n",
    "**Отображаем основную информацию по датасету**"
   ]
  },
  {
   "cell_type": "code",
   "execution_count": 579,
   "metadata": {
    "scrolled": false
   },
   "outputs": [
    {
     "data": {
      "text/html": [
       "<div>\n",
       "<style scoped>\n",
       "    .dataframe tbody tr th:only-of-type {\n",
       "        vertical-align: middle;\n",
       "    }\n",
       "\n",
       "    .dataframe tbody tr th {\n",
       "        vertical-align: top;\n",
       "    }\n",
       "\n",
       "    .dataframe thead th {\n",
       "        text-align: right;\n",
       "    }\n",
       "</style>\n",
       "<table border=\"1\" class=\"dataframe\">\n",
       "  <thead>\n",
       "    <tr style=\"text-align: right;\">\n",
       "      <th></th>\n",
       "      <th>City</th>\n",
       "      <th>Ranking</th>\n",
       "      <th>Rating</th>\n",
       "      <th>Reviews_num</th>\n",
       "      <th>Rev_day_delta</th>\n",
       "      <th>Cuisine_num</th>\n",
       "    </tr>\n",
       "  </thead>\n",
       "  <tbody>\n",
       "    <tr>\n",
       "      <th>0</th>\n",
       "      <td>Paris</td>\n",
       "      <td>5570.0</td>\n",
       "      <td>3.5</td>\n",
       "      <td>194.0</td>\n",
       "      <td>41.0</td>\n",
       "      <td>3.0</td>\n",
       "    </tr>\n",
       "    <tr>\n",
       "      <th>1</th>\n",
       "      <td>Stockholm</td>\n",
       "      <td>1537.0</td>\n",
       "      <td>4.0</td>\n",
       "      <td>10.0</td>\n",
       "      <td>382.0</td>\n",
       "      <td>NaN</td>\n",
       "    </tr>\n",
       "    <tr>\n",
       "      <th>2</th>\n",
       "      <td>London</td>\n",
       "      <td>353.0</td>\n",
       "      <td>4.5</td>\n",
       "      <td>688.0</td>\n",
       "      <td>2.0</td>\n",
       "      <td>7.0</td>\n",
       "    </tr>\n",
       "    <tr>\n",
       "      <th>3</th>\n",
       "      <td>Berlin</td>\n",
       "      <td>3458.0</td>\n",
       "      <td>5.0</td>\n",
       "      <td>3.0</td>\n",
       "      <td>NaN</td>\n",
       "      <td>NaN</td>\n",
       "    </tr>\n",
       "    <tr>\n",
       "      <th>4</th>\n",
       "      <td>Munich</td>\n",
       "      <td>621.0</td>\n",
       "      <td>4.0</td>\n",
       "      <td>84.0</td>\n",
       "      <td>272.0</td>\n",
       "      <td>3.0</td>\n",
       "    </tr>\n",
       "  </tbody>\n",
       "</table>\n",
       "</div>"
      ],
      "text/plain": [
       "        City  Ranking  Rating  Reviews_num  Rev_day_delta  Cuisine_num\n",
       "0      Paris   5570.0     3.5        194.0           41.0          3.0\n",
       "1  Stockholm   1537.0     4.0         10.0          382.0          NaN\n",
       "2     London    353.0     4.5        688.0            2.0          7.0\n",
       "3     Berlin   3458.0     5.0          3.0            NaN          NaN\n",
       "4     Munich    621.0     4.0         84.0          272.0          3.0"
      ]
     },
     "execution_count": 579,
     "metadata": {},
     "output_type": "execute_result"
    }
   ],
   "source": [
    "data.head()"
   ]
  },
  {
   "cell_type": "code",
   "execution_count": 580,
   "metadata": {
    "scrolled": false
   },
   "outputs": [
    {
     "name": "stdout",
     "output_type": "stream",
     "text": [
      "<class 'pandas.core.frame.DataFrame'>\n",
      "Int64Index: 39980 entries, 0 to 39999\n",
      "Data columns (total 6 columns):\n",
      " #   Column         Non-Null Count  Dtype  \n",
      "---  ------         --------------  -----  \n",
      " 0   City           39980 non-null  object \n",
      " 1   Ranking        39980 non-null  float64\n",
      " 2   Rating         39980 non-null  float64\n",
      " 3   Reviews_num    37437 non-null  float64\n",
      " 4   Rev_day_delta  28961 non-null  float64\n",
      " 5   Cuisine_num    30701 non-null  float64\n",
      "dtypes: float64(5), object(1)\n",
      "memory usage: 2.1+ MB\n"
     ]
    }
   ],
   "source": [
    "data.info()"
   ]
  },
  {
   "cell_type": "code",
   "execution_count": 581,
   "metadata": {
    "scrolled": false
   },
   "outputs": [
    {
     "data": {
      "image/png": "[encoded data removed]",
      "text/plain": [
       "<Figure size 1800x720 with 2 Axes>"
      ]
     },
     "metadata": {
      "needs_background": "light"
     },
     "output_type": "display_data"
    }
   ],
   "source": [
    "msno.matrix(data);"
   ]
  },
  {
   "cell_type": "markdown",
   "metadata": {},
   "source": [
    "**Declare categorical features**"
   ]
  },
  {
   "cell_type": "code",
   "execution_count": 582,
   "metadata": {},
   "outputs": [],
   "source": [
    "categorical_cols = [\n",
    "    'City',\n",
    "    'Country',\n",
    "    'Cuisine',\n",
    "]\n",
    "\n",
    "# Update categorical feature lists\n",
    "categorical_cols = [col for col in data.columns if col in categorical_cols]"
   ]
  },
  {
   "cell_type": "markdown",
   "metadata": {},
   "source": [
    "**Просмотр уникальных значений**\n",
    "\n",
    "Просматриваем количество уникальных значений категориальных переменных"
   ]
  },
  {
   "cell_type": "code",
   "execution_count": 583,
   "metadata": {
    "scrolled": true
   },
   "outputs": [
    {
     "name": "stdout",
     "output_type": "stream",
     "text": [
      "City:               31\n"
     ]
    }
   ],
   "source": [
    "categorical_unique = {}\n",
    "for column in categorical_cols:\n",
    "    categorical_unique[column] = pd.Series(Counter(chain.from_iterable(data.loc[data[column].notna(), column].str.split('|')))).sort_values(ascending=False)\n",
    "    print((column + ':').ljust(16), end='')\n",
    "    print(str(len(categorical_unique[column])).rjust(6))"
   ]
  },
  {
   "cell_type": "markdown",
   "metadata": {},
   "source": [
    "Просматриваем сами уникальные значения категориальных переменных"
   ]
  },
  {
   "cell_type": "code",
   "execution_count": 584,
   "metadata": {},
   "outputs": [
    {
     "name": "stdout",
     "output_type": "stream",
     "text": [
      "City:\n",
      "\n"
     ]
    }
   ],
   "source": [
    "pd.set_option('display.max_rows', None)\n",
    "\n",
    "for column in categorical_cols:\n",
    "    print(column + ':')\n",
    "    # print(categorical_unique[column])\n",
    "    # print(categorical_unique[column].sort_index())\n",
    "    print()\n",
    "    \n",
    "pd.reset_option('display.max_rows')"
   ]
  },
  {
   "cell_type": "code",
   "execution_count": 585,
   "metadata": {
    "scrolled": false
   },
   "outputs": [
    {
     "data": {
      "image/png": "[encoded data removed]",
      "text/plain": [
       "<Figure size 1296x576 with 1 Axes>"
      ]
     },
     "metadata": {
      "needs_background": "light"
     },
     "output_type": "display_data"
    }
   ],
   "source": [
    "for column in categorical_cols:\n",
    "    categorical_unique[column].plot.bar(figsize=(18,8), title=column)\n",
    "    plt.show()\n",
    "    \n",
    "# Create figure with [rows] graphs\n",
    "# rows = len(categorical_cols)\n",
    "# fig, axs = plt.subplots(rows, figsize=(18, rows*8))\n",
    "\n",
    "# Plot graphs\n",
    "# for i, column in enumerate(categorical_cols):\n",
    "#     axs[i].bar(categorical_unique[column].index, categorical_unique[column].values)\n",
    "#     axs[i].set_title(column)\n",
    "#     axs[i].xaxis.set_tick_params(rotation=90)"
   ]
  },
  {
   "cell_type": "markdown",
   "metadata": {},
   "source": [
    "Просматриваем количество уникальных значений числовых и ординальных переменных"
   ]
  },
  {
   "cell_type": "code",
   "execution_count": 586,
   "metadata": {
    "scrolled": false
   },
   "outputs": [
    {
     "name": "stdout",
     "output_type": "stream",
     "text": [
      "Ranking:         11934\n",
      "Rating:              9\n",
      "Reviews_num:      1459\n",
      "Rev_day_delta:    1228\n",
      "Cuisine_num:        13\n"
     ]
    }
   ],
   "source": [
    "for column in data.columns:\n",
    "    if data[column].dtype != 'O':\n",
    "        print(column.join(['', ':']).ljust(16), end='')\n",
    "        print(str(data[column].nunique()).rjust(6))"
   ]
  },
  {
   "cell_type": "markdown",
   "metadata": {},
   "source": [
    "Просматриваем уникальные значения числовых и ординальных переменных"
   ]
  },
  {
   "cell_type": "code",
   "execution_count": 587,
   "metadata": {},
   "outputs": [
    {
     "name": "stdout",
     "output_type": "stream",
     "text": [
      "Rating:         [1.  1.5 2.  2.5 3.  3.5 4.  4.5 5. ]\n",
      "Cuisine_num:    [ 1.  2.  3.  4.  5.  6.  7.  8.  9. 10. 11. 13. 21. nan]\n"
     ]
    }
   ],
   "source": [
    "columns = ['Rating', 'Price_range', 'Site_rev_num', 'Site_rev_len', 'Cuisine_num']\n",
    "\n",
    "for column in data.columns:\n",
    "    if data[column].dtype != 'O' and column in columns:\n",
    "        print(column.join(['', ':']).ljust(16), end='')\n",
    "        print(np.sort(data[column].unique()))"
   ]
  },
  {
   "cell_type": "markdown",
   "metadata": {},
   "source": [
    "**Declare target variable, quantity and ordinal features**"
   ]
  },
  {
   "cell_type": "code",
   "execution_count": 588,
   "metadata": {},
   "outputs": [],
   "source": [
    "# Declare target variable\n",
    "target = ['Rating']\n",
    "\n",
    "# Declare quantity features\n",
    "quantity_cols = [\n",
    "    'Cuisine_num',\n",
    "    'Price_range',\n",
    "    'Reviews_num',\n",
    "    'Rev_day1',\n",
    "    'Rev_day2',\n",
    "    'Rev_day_delta',\n",
    "    'Site_rev_num',\n",
    "    'Site_rev_len',\n",
    "]\n",
    "\n",
    "# Declare categorized quantity features\n",
    "quantity_categ_cols = [\n",
    "    'Ranking',\n",
    "]\n",
    "\n",
    "# Declare ordinal features\n",
    "ordinal_cols = [\n",
    "]\n",
    "\n",
    "# Update quantity and ordinal feature lists\n",
    "quantity_cols = [col for col in data.columns if col in quantity_cols]\n",
    "ordinal_cols = [col for col in data.columns if col in ordinal_cols]\n",
    "quantity_categ_cols = [col for col in data.columns if col in quantity_categ_cols]"
   ]
  },
  {
   "cell_type": "markdown",
   "metadata": {},
   "source": [
    "### Dirty data (wrong values) handling\n",
    "Проводим замену неверных значений на NaN для переменных с ограниченным набором возможных значений"
   ]
  },
  {
   "cell_type": "code",
   "execution_count": 589,
   "metadata": {},
   "outputs": [],
   "source": [
    "# Fill the dict with possible column values\n",
    "possible_vals = {}"
   ]
  },
  {
   "cell_type": "code",
   "execution_count": 590,
   "metadata": {},
   "outputs": [],
   "source": [
    "for column, vals in possible_vals.items():\n",
    "    # Add NaN to list\n",
    "    vals = list(vals)\n",
    "    vals.append(np.nan)\n",
    "    \n",
    "    # Replace values\n",
    "    mask = data[column].isin(vals)\n",
    "    data[column].where(mask, inplace=True)\n",
    "    \n",
    "    # Show the result\n",
    "    replaced_num = data[column].shape[0] - mask.sum()\n",
    "    if replaced_num:\n",
    "        print(f\"{str(replaced_num).rjust(6)} cells have been replaced with NaN in column '{column}'\")"
   ]
  },
  {
   "cell_type": "markdown",
   "metadata": {},
   "source": [
    "### Outliers handling\n",
    "**Просмотр боксплотов и удаление выбросов**\n",
    "\n",
    "Строим боксплоты числовых переменных и проверяем их на наличие выбросов"
   ]
  },
  {
   "cell_type": "code",
   "execution_count": 591,
   "metadata": {
    "scrolled": false
   },
   "outputs": [
    {
     "data": {
      "image/png": "[encoded data removed]",
      "text/plain": [
       "<Figure size 1296x360 with 5 Axes>"
      ]
     },
     "metadata": {
      "needs_background": "light"
     },
     "output_type": "display_data"
    }
   ],
   "source": [
    "# Union quantity columns with target variable\n",
    "columns = sorted(quantity_cols + target)\n",
    "\n",
    "# Create figure with [rows x cols] graphs\n",
    "cols = 5\n",
    "rows = math.ceil((len(columns)) / cols)\n",
    "fig, axs = plt.subplots(rows, cols, figsize=(18, rows*5))\n",
    "\n",
    "# Plot graphs\n",
    "for i, column in enumerate(columns):\n",
    "    if rows == 1:\n",
    "        idx = i%cols\n",
    "    else:\n",
    "        idx = (i//cols, i%cols)\n",
    "    axs[idx].boxplot(data.loc[data[column].notna(), column], showmeans=True)\n",
    "    axs[idx].set_title(column)"
   ]
  },
  {
   "cell_type": "markdown",
   "metadata": {},
   "source": [
    "Просматриваем количество выбросов"
   ]
  },
  {
   "cell_type": "code",
   "execution_count": 592,
   "metadata": {},
   "outputs": [
    {
     "name": "stdout",
     "output_type": "stream",
     "text": [
      "   383 outliers are in column 'Cuisine_num'\n",
      "   340 outliers are in column 'Rating'\n",
      "  2290 outliers are in column 'Rev_day_delta'\n",
      "  4345 outliers are in column 'Reviews_num'\n"
     ]
    }
   ],
   "source": [
    "idx_dict = {}\n",
    "for column in columns:\n",
    "    # Calculate NaNs, Q1, Q3, IQR\n",
    "    Q1 = data[column].quantile(0.25)\n",
    "    Q3 = data[column].quantile(0.75)\n",
    "    IQR = Q3 - Q1\n",
    "\n",
    "    # Calculate indices of rows\n",
    "    idx_dict[column] = list(data.loc[(~data[column].between(Q1 - 1.5*IQR, Q3 + 1.5*IQR)) & (data[column].notna()), column].index)\n",
    "\n",
    "    # Show the result\n",
    "    outliers_num = len(idx_dict[column])\n",
    "    if outliers_num:\n",
    "        print(f\"{str(outliers_num).rjust(6)} outliers are in column '{column}'\")"
   ]
  },
  {
   "cell_type": "markdown",
   "metadata": {},
   "source": [
    "Удаляем строки с выбросами"
   ]
  },
  {
   "cell_type": "code",
   "execution_count": 593,
   "metadata": {},
   "outputs": [
    {
     "name": "stdout",
     "output_type": "stream",
     "text": [
      "7085 rows have been dropped\n"
     ]
    }
   ],
   "source": [
    "# Exclude some columns from the process\n",
    "#cols = []\n",
    "cols = ['Price_range']\n",
    "for col in data.columns:\n",
    "    if col in cols:\n",
    "        columns.remove(col)\n",
    "\n",
    "# Union indices\n",
    "idx = set()\n",
    "for column in columns:\n",
    "    idx.update(idx_dict[column])\n",
    "\n",
    "# Drop rows with outliers\n",
    "data.drop(idx, inplace=True)\n",
    "print(f\"{len(idx)} rows have been dropped\")"
   ]
  },
  {
   "cell_type": "markdown",
   "metadata": {},
   "source": [
    "**Просмотр гистограмм (распределений)**\n",
    "\n",
    "Просматриваем распределения числовых и ординальных переменных"
   ]
  },
  {
   "cell_type": "code",
   "execution_count": 594,
   "metadata": {},
   "outputs": [],
   "source": [
    "# Fill the list of bins' step of quantity column and target variable\n",
    "bin_step = {\n",
    "    'Cuisine_num': 1,\n",
    "    'Price_range': 0.5,\n",
    "    'Rating': 0.5,\n",
    "    'Site_rev_num': 1,\n",
    "    'Site_rev_len': 0.5,\n",
    "}"
   ]
  },
  {
   "cell_type": "code",
   "execution_count": 595,
   "metadata": {
    "scrolled": false
   },
   "outputs": [
    {
     "data": {
      "image/png": "[encoded data removed]",
      "text/plain": [
       "<Figure size 1296x288 with 4 Axes>"
      ]
     },
     "metadata": {
      "needs_background": "light"
     },
     "output_type": "display_data"
    }
   ],
   "source": [
    "# Union quantity columns, ordinal columns and target variable\n",
    "columns = sorted(quantity_cols + ordinal_cols + target)\n",
    "\n",
    "# Create figure with [rows x cols] graphs\n",
    "cols = 4\n",
    "rows = math.ceil(len(columns)/cols)\n",
    "fig, axs = plt.subplots(rows, cols, figsize=(18, rows*4))\n",
    "\n",
    "# Plot graphs\n",
    "for i, column in enumerate(columns):\n",
    "    # Calculate indices of subplots\n",
    "    if rows == 1:\n",
    "        idx = i%cols\n",
    "    else:\n",
    "        idx = (i//cols, i%cols)\n",
    "\n",
    "    # Calculate number of bins and ranges\n",
    "    if column in bin_step.keys():\n",
    "        col_max = data[column].max()\n",
    "        col_min = data[column].min()\n",
    "        step = bin_step[column]\n",
    "        offset = step / 2\n",
    "        bins = int((col_max-col_min) / step) + 1\n",
    "        range_ = (col_min - offset, col_max + offset)\n",
    "    elif column in ordinal_cols:\n",
    "        col_max = data[column].max()\n",
    "        col_min = data[column].min()\n",
    "        bins = int((col_max-col_min) * 2) + 1\n",
    "        range_ = (col_min - 0.25, col_max + 0.25)\n",
    "    else:\n",
    "        bins = 20\n",
    "        range_ = None\n",
    "\n",
    "    # Plot\n",
    "    axs[idx].hist(data.loc[data[column].notna(), column], bins, range_)\n",
    "    axs[idx].set_title(column)"
   ]
  },
  {
   "cell_type": "markdown",
   "metadata": {},
   "source": [
    "## Categorized quantity features handling\n",
    "**Просмотр боксплотов и распределений**"
   ]
  },
  {
   "cell_type": "code",
   "execution_count": 596,
   "metadata": {},
   "outputs": [
    {
     "data": {
      "image/png": "[encoded data removed]",
      "text/plain": [
       "<Figure size 1296x288 with 1 Axes>"
      ]
     },
     "metadata": {
      "needs_background": "light"
     },
     "output_type": "display_data"
    }
   ],
   "source": [
    "NUM_OF_VALS = 10\n",
    "CATEGORY = 'City'\n",
    "\n",
    "# Create figure with [rows x cols] graphs\n",
    "rows = len(quantity_categ_cols)\n",
    "fig, axs = plt.subplots(rows, figsize=(18, rows*4))\n",
    "\n",
    "for i, column in enumerate(quantity_categ_cols):\n",
    "    # Find masks\n",
    "    categ_mask = {}\n",
    "    top_categ_values = {}\n",
    "    for column in quantity_categ_cols:\n",
    "        # Find top NUM_OF_VALS values catigorical feature\n",
    "        top_categ_values[column] = categorical_unique[CATEGORY].index[:NUM_OF_VALS]\n",
    "\n",
    "        # Find boolean masks\n",
    "        categ_mask[column] = {}\n",
    "        for value in top_categ_values[column]:\n",
    "            categ_mask[column][value] = data[CATEGORY].str.contains(value)\n",
    "    \n",
    "    # Plot graphs\n",
    "    if rows == 1:\n",
    "        axs.boxplot([data.loc[categ_mask[column][value], column] for value in top_categ_values[column]], showmeans=True)\n",
    "        axs.set_title(column)\n",
    "        axs.set_xticklabels(top_categ_values[column], rotation=5)\n",
    "    else:\n",
    "        axs[i].boxplot([data.loc[categ_mask[column][value], column] for value in top_categ_values[column]], showmeans=True)\n",
    "        axs[i].set_title(column)\n",
    "        axs[i].set_xticklabels(top_categ_values[column], rotation=5)   "
   ]
  },
  {
   "cell_type": "code",
   "execution_count": 597,
   "metadata": {},
   "outputs": [
    {
     "data": {
      "image/png": "[encoded data removed]",
      "text/plain": [
       "<Figure size 1296x288 with 1 Axes>"
      ]
     },
     "metadata": {
      "needs_background": "light"
     },
     "output_type": "display_data"
    }
   ],
   "source": [
    "BINS = 100\n",
    "\n",
    "# Create figure with [rows x cols] graphs\n",
    "rows = len(quantity_categ_cols)\n",
    "fig, axs = plt.subplots(rows, figsize=(18, rows*4))\n",
    "\n",
    "for i, column in enumerate(quantity_categ_cols):\n",
    "    # Plot graphs\n",
    "    if rows == 1:\n",
    "        for value in top_categ_values[column]:\n",
    "            axs.hist(data.loc[categ_mask[column][value], column], bins=BINS)\n",
    "            axs.set_title(column)\n",
    "    else:\n",
    "        for value in top_categ_values[column]:\n",
    "            axs[i].hist(data.loc[categ_mask[column][value], column], bins=BINS)\n",
    "            axs[i].set_title(column)"
   ]
  },
  {
   "cell_type": "markdown",
   "metadata": {},
   "source": [
    "handling"
   ]
  },
  {
   "cell_type": "code",
   "execution_count": 598,
   "metadata": {},
   "outputs": [],
   "source": [
    "# Scale to maximum\n",
    "for column in quantity_categ_cols:\n",
    "    # Find maximums\n",
    "    df1 = data[[CATEGORY, column]].groupby(CATEGORY).max()\n",
    "    # Scale\n",
    "    data[column] /= pd.merge(data, df1, how='left', left_on='City', right_index=True, suffixes=('', '_'))[column+'_']"
   ]
  },
  {
   "cell_type": "markdown",
   "metadata": {},
   "source": [
    "### Correlation analysis\n",
    "**Рассчет матрицы корреляций**"
   ]
  },
  {
   "cell_type": "code",
   "execution_count": 599,
   "metadata": {
    "scrolled": false
   },
   "outputs": [
    {
     "data": {
      "text/html": [
       "<div>\n",
       "<style scoped>\n",
       "    .dataframe tbody tr th:only-of-type {\n",
       "        vertical-align: middle;\n",
       "    }\n",
       "\n",
       "    .dataframe tbody tr th {\n",
       "        vertical-align: top;\n",
       "    }\n",
       "\n",
       "    .dataframe thead th {\n",
       "        text-align: right;\n",
       "    }\n",
       "</style>\n",
       "<table border=\"1\" class=\"dataframe\">\n",
       "  <thead>\n",
       "    <tr style=\"text-align: right;\">\n",
       "      <th></th>\n",
       "      <th>Ranking</th>\n",
       "      <th>Rating</th>\n",
       "      <th>Reviews_num</th>\n",
       "      <th>Rev_day_delta</th>\n",
       "      <th>Cuisine_num</th>\n",
       "    </tr>\n",
       "  </thead>\n",
       "  <tbody>\n",
       "    <tr>\n",
       "      <th>Ranking</th>\n",
       "      <td>1.000000</td>\n",
       "      <td>-0.559929</td>\n",
       "      <td>-0.508658</td>\n",
       "      <td>0.219217</td>\n",
       "      <td>-0.422017</td>\n",
       "    </tr>\n",
       "    <tr>\n",
       "      <th>Rating</th>\n",
       "      <td>-0.559929</td>\n",
       "      <td>1.000000</td>\n",
       "      <td>-0.045565</td>\n",
       "      <td>-0.108902</td>\n",
       "      <td>0.116210</td>\n",
       "    </tr>\n",
       "    <tr>\n",
       "      <th>Reviews_num</th>\n",
       "      <td>-0.508658</td>\n",
       "      <td>-0.045565</td>\n",
       "      <td>1.000000</td>\n",
       "      <td>-0.191708</td>\n",
       "      <td>0.428669</td>\n",
       "    </tr>\n",
       "    <tr>\n",
       "      <th>Rev_day_delta</th>\n",
       "      <td>0.219217</td>\n",
       "      <td>-0.108902</td>\n",
       "      <td>-0.191708</td>\n",
       "      <td>1.000000</td>\n",
       "      <td>-0.224453</td>\n",
       "    </tr>\n",
       "    <tr>\n",
       "      <th>Cuisine_num</th>\n",
       "      <td>-0.422017</td>\n",
       "      <td>0.116210</td>\n",
       "      <td>0.428669</td>\n",
       "      <td>-0.224453</td>\n",
       "      <td>1.000000</td>\n",
       "    </tr>\n",
       "  </tbody>\n",
       "</table>\n",
       "</div>"
      ],
      "text/plain": [
       "                Ranking    Rating  Reviews_num  Rev_day_delta  Cuisine_num\n",
       "Ranking        1.000000 -0.559929    -0.508658       0.219217    -0.422017\n",
       "Rating        -0.559929  1.000000    -0.045565      -0.108902     0.116210\n",
       "Reviews_num   -0.508658 -0.045565     1.000000      -0.191708     0.428669\n",
       "Rev_day_delta  0.219217 -0.108902    -0.191708       1.000000    -0.224453\n",
       "Cuisine_num   -0.422017  0.116210     0.428669      -0.224453     1.000000"
      ]
     },
     "execution_count": 599,
     "metadata": {},
     "output_type": "execute_result"
    }
   ],
   "source": [
    "corr_table = data.corr()\n",
    "corr_table"
   ]
  },
  {
   "cell_type": "code",
   "execution_count": 600,
   "metadata": {},
   "outputs": [
    {
     "data": {
      "image/png": "[encoded data removed]",
      "text/plain": [
       "<Figure size 1296x576 with 2 Axes>"
      ]
     },
     "metadata": {
      "needs_background": "light"
     },
     "output_type": "display_data"
    }
   ],
   "source": [
    "plt.subplots(figsize=(18, 8))\n",
    "sns.heatmap(corr_table, vmin=-1, vmax=1, cmap=\"RdBu\");"
   ]
  },
  {
   "cell_type": "markdown",
   "metadata": {},
   "source": [
    "Сортируем значения корреляций с target по модулю"
   ]
  },
  {
   "cell_type": "code",
   "execution_count": 601,
   "metadata": {},
   "outputs": [
    {
     "data": {
      "text/plain": [
       "Rating           1.000000\n",
       "Ranking          0.559929\n",
       "Cuisine_num      0.116210\n",
       "Rev_day_delta    0.108902\n",
       "Reviews_num      0.045565\n",
       "Name: Rating, dtype: float64"
      ]
     },
     "execution_count": 601,
     "metadata": {},
     "output_type": "execute_result"
    }
   ],
   "source": [
    "corr_table[target[0]].abs().sort_values(ascending=False)"
   ]
  },
  {
   "cell_type": "markdown",
   "metadata": {},
   "source": [
    "**Удаление пропорциональных и сильноскоррелированных признаков, а также признаков со слабой корреляцией с целевой переменной**"
   ]
  },
  {
   "cell_type": "code",
   "execution_count": 602,
   "metadata": {},
   "outputs": [],
   "source": [
    "cols = []\n",
    "#cols = ['Rev_day1', 'Site_rev_num', 'Site_rev_len']\n",
    "\n",
    "data.drop(columns=[col for col in data.columns if col in cols], inplace=True)\n",
    "\n",
    "# Update quantity and ordinal feature lists\n",
    "quantity_cols = [col for col in data.columns if col in quantity_cols and col not in cols]\n",
    "ordinal_cols = [col for col in data.columns if col in ordinal_cols and col not in cols]\n",
    "quantity_categ_cols = [col for col in data.columns if col in quantity_categ_cols and col not in cols]"
   ]
  },
  {
   "cell_type": "markdown",
   "metadata": {},
   "source": [
    "### Significance analysis of categorical features\n",
    "**Hypothesis testing**\n",
    "\n",
    "С помощью теста Стьюдента проверим есть ли статистически значимая разница в распределении целевой переменной для разных значений категориальных признаков. Проверяем нулевую гипотезу о том, что распределения целевой переменной по различным значениям категориальных переменных неразличимы."
   ]
  },
  {
   "cell_type": "code",
   "execution_count": 603,
   "metadata": {},
   "outputs": [
    {
     "name": "stdout",
     "output_type": "stream",
     "text": [
      "Statistically significant differences have NOT been found for columns:\n"
     ]
    }
   ],
   "source": [
    "NUM_OF_VALS = 10\n",
    "\n",
    "# Find not significant features\n",
    "mask = {}\n",
    "top_values = {}\n",
    "not_signif_columns = []\n",
    "for column in categorical_cols:\n",
    "    # Find top NUM_OF_VALS values\n",
    "    top_values[column] = categorical_unique[column].index[:NUM_OF_VALS]\n",
    "    \n",
    "    # Find boolean masks\n",
    "    mask[column] = {}\n",
    "    for value in top_values[column]:\n",
    "        mask[column][value] = (data[column].str.contains('(?:^|\\|)'+value+'(?:$|\\|)')) & (data[target[0]].notna())\n",
    "\n",
    "    # Student t-test for value combinations\n",
    "    combs = list(combinations(top_values[column], 2))\n",
    "    for comb in combs:\n",
    "        if ttest_ind(data.loc[mask[column][comb[0]], target[0]], \n",
    "                     data.loc[mask[column][comb[1]], target[0]]) \\\n",
    "                        .pvalue <= 0.05/len(combs): # Bonferroni correction\n",
    "            break\n",
    "    else:\n",
    "        not_signif_columns.append(column)\n",
    "\n",
    "# Show result\n",
    "print('Statistically significant differences have NOT been found for columns:')\n",
    "for column in not_signif_columns:\n",
    "    print(f\"'{column}'\")"
   ]
  },
  {
   "cell_type": "markdown",
   "metadata": {},
   "source": [
    "**Удаление признаков без статистически значимых различий**"
   ]
  },
  {
   "cell_type": "code",
   "execution_count": 604,
   "metadata": {},
   "outputs": [],
   "source": [
    "# cols = []\n",
    "cols = not_signif_columns\n",
    "data.drop(columns=cols, inplace=True)\n",
    "\n",
    "# Update categorical feature list\n",
    "categorical_cols = [col for col in data.columns if col in categorical_cols and col not in cols]"
   ]
  },
  {
   "cell_type": "markdown",
   "metadata": {},
   "source": [
    "**Построение боксплотов значимых признаков**"
   ]
  },
  {
   "cell_type": "code",
   "execution_count": 605,
   "metadata": {},
   "outputs": [
    {
     "data": {
      "image/png": "[encoded data removed]",
      "text/plain": [
       "<Figure size 1296x288 with 1 Axes>"
      ]
     },
     "metadata": {
      "needs_background": "light"
     },
     "output_type": "display_data"
    }
   ],
   "source": [
    "# Create figure with [rows x cols] graphs\n",
    "rows = len(categorical_cols)\n",
    "fig, axs = plt.subplots(rows, figsize=(18, rows*4))\n",
    "\n",
    "# Plot graphs\n",
    "for i, column in enumerate(categorical_cols):\n",
    "    if rows == 1:\n",
    "        axs.boxplot([data.loc[mask[column][value], target[0]] for value in top_values[column]], showmeans=True)\n",
    "        axs.set_title(column)\n",
    "        axs.set_xticklabels(top_values[column], rotation=5)\n",
    "        axs.set_ylabel(target[0])\n",
    "    else:\n",
    "        axs[i].boxplot([data.loc[mask[column][value], target[0]] for value in top_values[column]], showmeans=True)\n",
    "        axs[i].set_title(column)\n",
    "        axs[i].set_xticklabels(top_values[column], rotation=5)\n",
    "        axs[i].set_ylabel(target[0])"
   ]
  },
  {
   "cell_type": "markdown",
   "metadata": {},
   "source": [
    "### Missing values handling"
   ]
  },
  {
   "cell_type": "markdown",
   "metadata": {},
   "source": [
    "Drop rows with missing values of target variable"
   ]
  },
  {
   "cell_type": "code",
   "execution_count": 606,
   "metadata": {},
   "outputs": [
    {
     "name": "stdout",
     "output_type": "stream",
     "text": [
      "0 rows have been dropped\n"
     ]
    }
   ],
   "source": [
    "print(f\"{data[target[0]].isna().sum()} rows have been dropped\")\n",
    "data.dropna(subset=[target[0]], inplace=True)"
   ]
  },
  {
   "cell_type": "markdown",
   "metadata": {},
   "source": [
    "Fill missing values of quantity and ordinal features"
   ]
  },
  {
   "cell_type": "code",
   "execution_count": 607,
   "metadata": {},
   "outputs": [
    {
     "name": "stdout",
     "output_type": "stream",
     "text": [
      "  2394 NaN have been replaced in column 'Reviews_num'\n",
      " 10764 NaN have been replaced in column 'Rev_day_delta'\n",
      "  8483 NaN have been replaced in column 'Cuisine_num'\n"
     ]
    }
   ],
   "source": [
    "# Use a function to calc values to replace NaNs\n",
    "func = ['mean'] # Use list-like value to speed up calc\n",
    "\n",
    "# Calculate values\n",
    "replace_vals = data.agg(func)\n",
    "\n",
    "# Fill the dict of columns' values to replace NaN\n",
    "# replace_vals = {\n",
    "#     'Ranking': data['Ranking'].mean(),\n",
    "#     'Price_range': data['Price_range'].mean(),\n",
    "#     'Reviews_num': data['Reviews_num'].mean(),\n",
    "#     'Rev_day1': data['Rev_day1'].mean(),\n",
    "#     'Rev_day2': data['Rev_day2'].mean(),\n",
    "#     'Rev_day_delta': data['Rev_day_delta'].mean(),\n",
    "#     'Site_rev_num': data['Site_rev_num'].mean(),\n",
    "#     'Site_rev_len': data['Site_rev_len'].mean(),\n",
    "# }\n",
    "\n",
    "for column in quantity_cols + ordinal_cols:\n",
    "    # Show the result\n",
    "    print(f\"{str(data[column].isna().sum()).rjust(6)} NaN have been replaced in column '{column}'\")\n",
    "    # Replace missing values\n",
    "    data[column].fillna(replace_vals[column][0], inplace=True)"
   ]
  },
  {
   "cell_type": "markdown",
   "metadata": {},
   "source": [
    "Fill missing values of categorical features"
   ]
  },
  {
   "cell_type": "code",
   "execution_count": 608,
   "metadata": {},
   "outputs": [
    {
     "name": "stdout",
     "output_type": "stream",
     "text": [
      "     0 NaN have been replaced in column 'City'\n"
     ]
    }
   ],
   "source": [
    "for column in categorical_cols:\n",
    "    # Show the result\n",
    "    print(f\"{str(data[column].isna().sum()).rjust(6)} NaN have been replaced in column '{column}'\")\n",
    "    \n",
    "    # Find value for replasing\n",
    "    values_num = round(data.loc[data[column].notna(), column].apply(lambda x: len(x.split('|'))).mean())\n",
    "    value = '|'.join(categorical_unique[column].index[:values_num])\n",
    "        \n",
    "    # Replace missing values\n",
    "    data[column].fillna(value, inplace=True)"
   ]
  },
  {
   "cell_type": "markdown",
   "metadata": {},
   "source": [
    "### Dummies generation"
   ]
  },
  {
   "cell_type": "code",
   "execution_count": 609,
   "metadata": {},
   "outputs": [],
   "source": [
    "# Generate dummies\n",
    "for column in categorical_cols:\n",
    "    data = pd.concat([data, data[column].str.get_dummies()], axis=1)\n",
    "    \n",
    "# Drop categorical columns\n",
    "data.drop(categorical_cols, axis=1, inplace=True)"
   ]
  },
  {
   "cell_type": "markdown",
   "metadata": {},
   "source": [
    "## Обучение модели\n",
    "### Разбивка данных\n",
    "Разбиваем датафрейм на части: Х - features, у - target variable"
   ]
  },
  {
   "cell_type": "code",
   "execution_count": 610,
   "metadata": {},
   "outputs": [],
   "source": [
    "X = data.drop(target[0], axis=1)\n",
    "y = data[target[0]]"
   ]
  },
  {
   "cell_type": "markdown",
   "metadata": {},
   "source": [
    "Разбиваем датафрейм на части для обучения и тестирования модели"
   ]
  },
  {
   "cell_type": "code",
   "execution_count": 611,
   "metadata": {},
   "outputs": [],
   "source": [
    "X_train, X_test, y_train, y_test = train_test_split(X, y, test_size=0.25)"
   ]
  },
  {
   "cell_type": "markdown",
   "metadata": {},
   "source": [
    "### Создание, обучение и тестирование модели"
   ]
  },
  {
   "cell_type": "code",
   "execution_count": 612,
   "metadata": {},
   "outputs": [],
   "source": [
    "# Create model\n",
    "regr = RandomForestRegressor(n_estimators=100)\n",
    "\n",
    "# Learn model on the train set\n",
    "regr.fit(X_train, y_train)\n",
    "\n",
    "# Predict target variable on the test set\n",
    "y_pred = regr.predict(X_test)"
   ]
  },
  {
   "cell_type": "code",
   "execution_count": 613,
   "metadata": {},
   "outputs": [
    {
     "name": "stdout",
     "output_type": "stream",
     "text": [
      "MAE: 0.21198017996108948\n"
     ]
    }
   ],
   "source": [
    "# Calculate metric: Mean Absolute Error (MAE)\n",
    "print('MAE:', metrics.mean_absolute_error(y_test, y_pred))"
   ]
  },
  {
   "cell_type": "code",
   "execution_count": 614,
   "metadata": {},
   "outputs": [
    {
     "data": {
      "text/html": [
       "<div>\n",
       "<style scoped>\n",
       "    .dataframe tbody tr th:only-of-type {\n",
       "        vertical-align: middle;\n",
       "    }\n",
       "\n",
       "    .dataframe tbody tr th {\n",
       "        vertical-align: top;\n",
       "    }\n",
       "\n",
       "    .dataframe thead th {\n",
       "        text-align: right;\n",
       "    }\n",
       "</style>\n",
       "<table border=\"1\" class=\"dataframe\">\n",
       "  <thead>\n",
       "    <tr style=\"text-align: right;\">\n",
       "      <th></th>\n",
       "      <th>Ranking</th>\n",
       "      <th>Rating</th>\n",
       "      <th>Reviews_num</th>\n",
       "      <th>Rev_day_delta</th>\n",
       "      <th>Cuisine_num</th>\n",
       "      <th>Amsterdam</th>\n",
       "      <th>Athens</th>\n",
       "      <th>Barcelona</th>\n",
       "      <th>Berlin</th>\n",
       "      <th>Bratislava</th>\n",
       "      <th>...</th>\n",
       "      <th>Munich</th>\n",
       "      <th>Oporto</th>\n",
       "      <th>Oslo</th>\n",
       "      <th>Paris</th>\n",
       "      <th>Prague</th>\n",
       "      <th>Rome</th>\n",
       "      <th>Stockholm</th>\n",
       "      <th>Vienna</th>\n",
       "      <th>Warsaw</th>\n",
       "      <th>Zurich</th>\n",
       "    </tr>\n",
       "  </thead>\n",
       "  <tbody>\n",
       "    <tr>\n",
       "      <th>0</th>\n",
       "      <td>0.398569</td>\n",
       "      <td>3.5</td>\n",
       "      <td>194.0</td>\n",
       "      <td>41.000000</td>\n",
       "      <td>3.00000</td>\n",
       "      <td>0</td>\n",
       "      <td>0</td>\n",
       "      <td>0</td>\n",
       "      <td>0</td>\n",
       "      <td>0</td>\n",
       "      <td>...</td>\n",
       "      <td>0</td>\n",
       "      <td>0</td>\n",
       "      <td>0</td>\n",
       "      <td>1</td>\n",
       "      <td>0</td>\n",
       "      <td>0</td>\n",
       "      <td>0</td>\n",
       "      <td>0</td>\n",
       "      <td>0</td>\n",
       "      <td>0</td>\n",
       "    </tr>\n",
       "    <tr>\n",
       "      <th>1</th>\n",
       "      <td>0.630176</td>\n",
       "      <td>4.0</td>\n",
       "      <td>10.0</td>\n",
       "      <td>382.000000</td>\n",
       "      <td>2.86523</td>\n",
       "      <td>0</td>\n",
       "      <td>0</td>\n",
       "      <td>0</td>\n",
       "      <td>0</td>\n",
       "      <td>0</td>\n",
       "      <td>...</td>\n",
       "      <td>0</td>\n",
       "      <td>0</td>\n",
       "      <td>0</td>\n",
       "      <td>0</td>\n",
       "      <td>0</td>\n",
       "      <td>0</td>\n",
       "      <td>1</td>\n",
       "      <td>0</td>\n",
       "      <td>0</td>\n",
       "      <td>0</td>\n",
       "    </tr>\n",
       "    <tr>\n",
       "      <th>3</th>\n",
       "      <td>0.546806</td>\n",
       "      <td>5.0</td>\n",
       "      <td>3.0</td>\n",
       "      <td>101.367132</td>\n",
       "      <td>2.86523</td>\n",
       "      <td>0</td>\n",
       "      <td>0</td>\n",
       "      <td>0</td>\n",
       "      <td>1</td>\n",
       "      <td>0</td>\n",
       "      <td>...</td>\n",
       "      <td>0</td>\n",
       "      <td>0</td>\n",
       "      <td>0</td>\n",
       "      <td>0</td>\n",
       "      <td>0</td>\n",
       "      <td>0</td>\n",
       "      <td>0</td>\n",
       "      <td>0</td>\n",
       "      <td>0</td>\n",
       "      <td>0</td>\n",
       "    </tr>\n",
       "    <tr>\n",
       "      <th>4</th>\n",
       "      <td>0.226230</td>\n",
       "      <td>4.0</td>\n",
       "      <td>84.0</td>\n",
       "      <td>272.000000</td>\n",
       "      <td>3.00000</td>\n",
       "      <td>0</td>\n",
       "      <td>0</td>\n",
       "      <td>0</td>\n",
       "      <td>0</td>\n",
       "      <td>0</td>\n",
       "      <td>...</td>\n",
       "      <td>1</td>\n",
       "      <td>0</td>\n",
       "      <td>0</td>\n",
       "      <td>0</td>\n",
       "      <td>0</td>\n",
       "      <td>0</td>\n",
       "      <td>0</td>\n",
       "      <td>0</td>\n",
       "      <td>0</td>\n",
       "      <td>0</td>\n",
       "    </tr>\n",
       "    <tr>\n",
       "      <th>5</th>\n",
       "      <td>0.957490</td>\n",
       "      <td>3.0</td>\n",
       "      <td>2.0</td>\n",
       "      <td>108.000000</td>\n",
       "      <td>2.86523</td>\n",
       "      <td>0</td>\n",
       "      <td>0</td>\n",
       "      <td>0</td>\n",
       "      <td>0</td>\n",
       "      <td>0</td>\n",
       "      <td>...</td>\n",
       "      <td>0</td>\n",
       "      <td>1</td>\n",
       "      <td>0</td>\n",
       "      <td>0</td>\n",
       "      <td>0</td>\n",
       "      <td>0</td>\n",
       "      <td>0</td>\n",
       "      <td>0</td>\n",
       "      <td>0</td>\n",
       "      <td>0</td>\n",
       "    </tr>\n",
       "    <tr>\n",
       "      <th>...</th>\n",
       "      <td>...</td>\n",
       "      <td>...</td>\n",
       "      <td>...</td>\n",
       "      <td>...</td>\n",
       "      <td>...</td>\n",
       "      <td>...</td>\n",
       "      <td>...</td>\n",
       "      <td>...</td>\n",
       "      <td>...</td>\n",
       "      <td>...</td>\n",
       "      <td>...</td>\n",
       "      <td>...</td>\n",
       "      <td>...</td>\n",
       "      <td>...</td>\n",
       "      <td>...</td>\n",
       "      <td>...</td>\n",
       "      <td>...</td>\n",
       "      <td>...</td>\n",
       "      <td>...</td>\n",
       "      <td>...</td>\n",
       "      <td>...</td>\n",
       "    </tr>\n",
       "    <tr>\n",
       "      <th>39991</th>\n",
       "      <td>0.476279</td>\n",
       "      <td>5.0</td>\n",
       "      <td>5.0</td>\n",
       "      <td>101.367132</td>\n",
       "      <td>4.00000</td>\n",
       "      <td>0</td>\n",
       "      <td>0</td>\n",
       "      <td>0</td>\n",
       "      <td>0</td>\n",
       "      <td>0</td>\n",
       "      <td>...</td>\n",
       "      <td>0</td>\n",
       "      <td>0</td>\n",
       "      <td>0</td>\n",
       "      <td>1</td>\n",
       "      <td>0</td>\n",
       "      <td>0</td>\n",
       "      <td>0</td>\n",
       "      <td>0</td>\n",
       "      <td>0</td>\n",
       "      <td>0</td>\n",
       "    </tr>\n",
       "    <tr>\n",
       "      <th>39993</th>\n",
       "      <td>0.433488</td>\n",
       "      <td>4.0</td>\n",
       "      <td>16.0</td>\n",
       "      <td>342.000000</td>\n",
       "      <td>2.86523</td>\n",
       "      <td>0</td>\n",
       "      <td>0</td>\n",
       "      <td>0</td>\n",
       "      <td>0</td>\n",
       "      <td>0</td>\n",
       "      <td>...</td>\n",
       "      <td>0</td>\n",
       "      <td>0</td>\n",
       "      <td>0</td>\n",
       "      <td>1</td>\n",
       "      <td>0</td>\n",
       "      <td>0</td>\n",
       "      <td>0</td>\n",
       "      <td>0</td>\n",
       "      <td>0</td>\n",
       "      <td>0</td>\n",
       "    </tr>\n",
       "    <tr>\n",
       "      <th>39994</th>\n",
       "      <td>0.506261</td>\n",
       "      <td>4.5</td>\n",
       "      <td>6.0</td>\n",
       "      <td>101.367132</td>\n",
       "      <td>4.00000</td>\n",
       "      <td>0</td>\n",
       "      <td>0</td>\n",
       "      <td>0</td>\n",
       "      <td>0</td>\n",
       "      <td>0</td>\n",
       "      <td>...</td>\n",
       "      <td>0</td>\n",
       "      <td>0</td>\n",
       "      <td>0</td>\n",
       "      <td>1</td>\n",
       "      <td>0</td>\n",
       "      <td>0</td>\n",
       "      <td>0</td>\n",
       "      <td>0</td>\n",
       "      <td>0</td>\n",
       "      <td>0</td>\n",
       "    </tr>\n",
       "    <tr>\n",
       "      <th>39995</th>\n",
       "      <td>0.080180</td>\n",
       "      <td>4.5</td>\n",
       "      <td>79.0</td>\n",
       "      <td>34.000000</td>\n",
       "      <td>4.00000</td>\n",
       "      <td>0</td>\n",
       "      <td>0</td>\n",
       "      <td>0</td>\n",
       "      <td>0</td>\n",
       "      <td>0</td>\n",
       "      <td>...</td>\n",
       "      <td>0</td>\n",
       "      <td>0</td>\n",
       "      <td>0</td>\n",
       "      <td>0</td>\n",
       "      <td>0</td>\n",
       "      <td>0</td>\n",
       "      <td>0</td>\n",
       "      <td>0</td>\n",
       "      <td>0</td>\n",
       "      <td>0</td>\n",
       "    </tr>\n",
       "    <tr>\n",
       "      <th>39998</th>\n",
       "      <td>0.300939</td>\n",
       "      <td>4.0</td>\n",
       "      <td>70.0</td>\n",
       "      <td>23.000000</td>\n",
       "      <td>5.00000</td>\n",
       "      <td>0</td>\n",
       "      <td>0</td>\n",
       "      <td>0</td>\n",
       "      <td>0</td>\n",
       "      <td>0</td>\n",
       "      <td>...</td>\n",
       "      <td>0</td>\n",
       "      <td>0</td>\n",
       "      <td>0</td>\n",
       "      <td>0</td>\n",
       "      <td>0</td>\n",
       "      <td>0</td>\n",
       "      <td>0</td>\n",
       "      <td>0</td>\n",
       "      <td>1</td>\n",
       "      <td>0</td>\n",
       "    </tr>\n",
       "  </tbody>\n",
       "</table>\n",
       "<p>32895 rows × 36 columns</p>\n",
       "</div>"
      ],
      "text/plain": [
       "        Ranking  Rating  Reviews_num  Rev_day_delta  Cuisine_num  Amsterdam  \\\n",
       "0      0.398569     3.5        194.0      41.000000      3.00000          0   \n",
       "1      0.630176     4.0         10.0     382.000000      2.86523          0   \n",
       "3      0.546806     5.0          3.0     101.367132      2.86523          0   \n",
       "4      0.226230     4.0         84.0     272.000000      3.00000          0   \n",
       "5      0.957490     3.0          2.0     108.000000      2.86523          0   \n",
       "...         ...     ...          ...            ...          ...        ...   \n",
       "39991  0.476279     5.0          5.0     101.367132      4.00000          0   \n",
       "39993  0.433488     4.0         16.0     342.000000      2.86523          0   \n",
       "39994  0.506261     4.5          6.0     101.367132      4.00000          0   \n",
       "39995  0.080180     4.5         79.0      34.000000      4.00000          0   \n",
       "39998  0.300939     4.0         70.0      23.000000      5.00000          0   \n",
       "\n",
       "       Athens  Barcelona  Berlin  Bratislava  ...  Munich  Oporto  Oslo  \\\n",
       "0           0          0       0           0  ...       0       0     0   \n",
       "1           0          0       0           0  ...       0       0     0   \n",
       "3           0          0       1           0  ...       0       0     0   \n",
       "4           0          0       0           0  ...       1       0     0   \n",
       "5           0          0       0           0  ...       0       1     0   \n",
       "...       ...        ...     ...         ...  ...     ...     ...   ...   \n",
       "39991       0          0       0           0  ...       0       0     0   \n",
       "39993       0          0       0           0  ...       0       0     0   \n",
       "39994       0          0       0           0  ...       0       0     0   \n",
       "39995       0          0       0           0  ...       0       0     0   \n",
       "39998       0          0       0           0  ...       0       0     0   \n",
       "\n",
       "       Paris  Prague  Rome  Stockholm  Vienna  Warsaw  Zurich  \n",
       "0          1       0     0          0       0       0       0  \n",
       "1          0       0     0          1       0       0       0  \n",
       "3          0       0     0          0       0       0       0  \n",
       "4          0       0     0          0       0       0       0  \n",
       "5          0       0     0          0       0       0       0  \n",
       "...      ...     ...   ...        ...     ...     ...     ...  \n",
       "39991      1       0     0          0       0       0       0  \n",
       "39993      1       0     0          0       0       0       0  \n",
       "39994      1       0     0          0       0       0       0  \n",
       "39995      0       0     0          0       0       0       0  \n",
       "39998      0       0     0          0       0       1       0  \n",
       "\n",
       "[32895 rows x 36 columns]"
      ]
     },
     "execution_count": 614,
     "metadata": {},
     "output_type": "execute_result"
    }
   ],
   "source": [
    "data"
   ]
  },
  {
   "cell_type": "code",
   "execution_count": null,
   "metadata": {},
   "outputs": [],
   "source": []
  }
 ],
 "metadata": {
  "kernelspec": {
   "display_name": "Python 3",
   "language": "python",
   "name": "python3"
  },
  "language_info": {
   "codemirror_mode": {
    "name": "ipython",
    "version": 3
   },
   "file_extension": ".py",
   "mimetype": "text/x-python",
   "name": "python",
   "nbconvert_exporter": "python",
   "pygments_lexer": "ipython3",
   "version": "3.7.6"
  },
  "varInspector": {
   "cols": {
    "lenName": 16,
    "lenType": 16,
    "lenVar": 40
   },
   "kernels_config": {
    "python": {
     "delete_cmd_postfix": "",
     "delete_cmd_prefix": "del ",
     "library": "var_list.py",
     "varRefreshCmd": "print(var_dic_list())"
    },
    "r": {
     "delete_cmd_postfix": ") ",
     "delete_cmd_prefix": "rm(",
     "library": "var_list.r",
     "varRefreshCmd": "cat(var_dic_list()) "
    }
   },
   "oldHeight": 222,
   "position": {
    "height": "437px",
    "left": "882px",
    "right": "20px",
    "top": "48px",
    "width": "467px"
   },
   "types_to_exclude": [
    "module",
    "function",
    "builtin_function_or_method",
    "instance",
    "_Feature"
   ],
   "varInspector_section_display": "block",
   "window_display": false
  }
 },
 "nbformat": 4,
 "nbformat_minor": 4
}
